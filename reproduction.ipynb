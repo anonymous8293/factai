{
 "cells": [
  {
   "cell_type": "code",
   "execution_count": 4,
   "metadata": {},
   "outputs": [],
   "source": [
    "# files to include:\n",
    "# any pickle files that end in .pt and contain the word mimic (excluding mimic_copy)\n",
    "# any pickles, e.g. ./experiments/pickles/mimic3_*_explainer_42_*.pt\n",
    "# any checkpoints. e.g experiments/checkpoints/mimic3_classifier_42_*.ckpt\n",
    "\n",
    "\n",
    "# any checkpoints for the classifiers\n",
    "# hmm_results_per_fold.csv, experiments/hmm/reproducibility_results/hmm_original_results.csv\n",
    "\n",
    "\n",
    "from multiprocessing import Process\n",
    "\n",
    "import experiments.hmm.main\n",
    "import experiments.hmm.reset\n",
    "import experiments.mimic3.mortality.main\n",
    "import experiments.mimic3.mortality.reset\n",
    "import torch as th\n",
    "from experiments.utils.average_results import average_main_experiment"
   ]
  },
  {
   "cell_type": "markdown",
   "metadata": {},
   "source": [
    "## Claim 1\n",
    "\n",
    "**Claim 1**. On a synthetic dataset HMM, ExtremalMask best identified the non-salient features compared to 9 other methods, as measured by the relevant tested metrics, besides AUP.\n",
    "\n",
    "### Table 1\n",
    "\n",
    "Next, we create Table 1, the metrics table for the hmm dataset.\n",
    "\n",
    "Unfortunately, we did not save the checkpoints/pickles of explainer models other than ExtremalMask and DynaMask. To reproduce, we have provided job files for Snellius in the repository, but it takes ~10 hours to run the rest of the experiments on 1 powerful GPU and 9 CPUs. \n",
    "\n",
    "**Note!** It's important to use a device with a GPU and CUDA to reproduce these results. We have run into issues reproducing the exact same results as reported in our paper whilst evaluating on CPU even though use the exact same code and procedure as we did on the computer cluster which had a GPU.. Specifically, here are example results when run on CPU:\n",
    "\n",
    "```csv\n",
    "Seed,Fold,Explainer,Lambda_1,Lambda_2,AUP,AUR,Information,Entropy,AUROC,AUPRC\n",
    "42,0,dyna_mask,1.0,1.0,0.3558,0.7407,9.902e+04,2.598e+04,0.5718,0.388\n",
    "42,0,extremal_mask,1.0,1.0,0.5173,0.4323,1.645e+05,5.447e+03,0.644,0.4634\n",
    "```\n",
    "\n",
    "And the corresponding models evaluated on GPU:\n",
    "```csv\n",
    "Seed,Fold,Explainer,Lambda_1,Lambda_2,AUP,AUR,Information,Entropy,AUROC,AUPRC\n",
    "42,0,dyna_mask,1.0,1.0,0.3731,0.7712,1.049e+05,2.528e+04,0.6164,0.4181\n",
    "42,0,extremal_mask,1.0,1.0,0.9167,0.7638,2.954e+05,7.595e+03,0.913,0.893\n",
    "```\n"
   ]
  },
  {
   "cell_type": "code",
   "execution_count": 5,
   "metadata": {},
   "outputs": [
    {
     "name": "stderr",
     "output_type": "stream",
     "text": [
      "Seed set to 42\n",
      "GPU available: False, used: False\n",
      "TPU available: False, using: 0 TPU cores\n",
      "IPU available: False, using: 0 IPUs\n",
      "HPU available: False, using: 0 HPUs\n"
     ]
    },
    {
     "name": "stdout",
     "output_type": "stream",
     "text": [
      "/home/paulius/projects/fact/factai/tint/data/hmm\n",
      "classifier has loaded the saved weights on hmm dataset with fold = 0, if applicable, lambda 1 = 1.0 and lambda 2 = 1.0.\n"
     ]
    },
    {
     "name": "stderr",
     "output_type": "stream",
     "text": [
      "GPU available: False, used: False\n",
      "TPU available: False, using: 0 TPU cores\n",
      "IPU available: False, using: 0 IPUs\n",
      "HPU available: False, using: 0 HPUs\n"
     ]
    },
    {
     "name": "stdout",
     "output_type": "stream",
     "text": [
      "dyna_mask has loaded the saved weights on hmm dataset with fold = 0, if applicable, lambda 1 = None and lambda 2 = None.\n"
     ]
    },
    {
     "data": {
      "application/vnd.jupyter.widget-view+json": {
       "model_id": "6f68172108f94fbfa54c00ee9120c532",
       "version_major": 2,
       "version_minor": 0
      },
      "text/plain": [
       "Predicting: |          | 0/? [00:00<?, ?it/s]"
      ]
     },
     "metadata": {},
     "output_type": "display_data"
    },
    {
     "name": "stderr",
     "output_type": "stream",
     "text": [
      "GPU available: False, used: False\n",
      "TPU available: False, using: 0 TPU cores\n",
      "IPU available: False, using: 0 IPUs\n",
      "HPU available: False, using: 0 HPUs\n"
     ]
    },
    {
     "name": "stdout",
     "output_type": "stream",
     "text": [
      "Best keep ratio is 0.30000000000000004\n",
      "extremal_mask has loaded the saved weights on hmm dataset with fold = 0, if applicable, lambda 1 = 1.0 and lambda 2 = 1.0.\n"
     ]
    },
    {
     "name": "stderr",
     "output_type": "stream",
     "text": [
      "Seed set to 42\n",
      "GPU available: False, used: False\n",
      "TPU available: False, using: 0 TPU cores\n",
      "IPU available: False, using: 0 IPUs\n",
      "HPU available: False, using: 0 HPUs\n"
     ]
    },
    {
     "name": "stdout",
     "output_type": "stream",
     "text": [
      "/home/paulius/projects/fact/factai/tint/data/hmm\n",
      "classifier has loaded the saved weights on hmm dataset with fold = 1, if applicable, lambda 1 = 1.0 and lambda 2 = 1.0.\n"
     ]
    },
    {
     "name": "stderr",
     "output_type": "stream",
     "text": [
      "GPU available: False, used: False\n",
      "TPU available: False, using: 0 TPU cores\n",
      "IPU available: False, using: 0 IPUs\n",
      "HPU available: False, using: 0 HPUs\n"
     ]
    },
    {
     "name": "stdout",
     "output_type": "stream",
     "text": [
      "dyna_mask has loaded the saved weights on hmm dataset with fold = 1, if applicable, lambda 1 = None and lambda 2 = None.\n"
     ]
    },
    {
     "data": {
      "application/vnd.jupyter.widget-view+json": {
       "model_id": "cb78591ca8424129b96f940cd6448370",
       "version_major": 2,
       "version_minor": 0
      },
      "text/plain": [
       "Predicting: |          | 0/? [00:00<?, ?it/s]"
      ]
     },
     "metadata": {},
     "output_type": "display_data"
    },
    {
     "name": "stderr",
     "output_type": "stream",
     "text": [
      "GPU available: False, used: False\n",
      "TPU available: False, using: 0 TPU cores\n",
      "IPU available: False, using: 0 IPUs\n",
      "HPU available: False, using: 0 HPUs\n"
     ]
    },
    {
     "name": "stdout",
     "output_type": "stream",
     "text": [
      "Best keep ratio is 0.30000000000000004\n",
      "extremal_mask has loaded the saved weights on hmm dataset with fold = 1, if applicable, lambda 1 = 1.0 and lambda 2 = 1.0.\n"
     ]
    },
    {
     "name": "stderr",
     "output_type": "stream",
     "text": [
      "Seed set to 42\n",
      "GPU available: False, used: False\n",
      "TPU available: False, using: 0 TPU cores\n",
      "IPU available: False, using: 0 IPUs\n",
      "HPU available: False, using: 0 HPUs\n"
     ]
    },
    {
     "name": "stdout",
     "output_type": "stream",
     "text": [
      "/home/paulius/projects/fact/factai/tint/data/hmm\n",
      "classifier has loaded the saved weights on hmm dataset with fold = 2, if applicable, lambda 1 = 1.0 and lambda 2 = 1.0.\n"
     ]
    },
    {
     "name": "stderr",
     "output_type": "stream",
     "text": [
      "GPU available: False, used: False\n",
      "TPU available: False, using: 0 TPU cores\n",
      "IPU available: False, using: 0 IPUs\n",
      "HPU available: False, using: 0 HPUs\n"
     ]
    },
    {
     "name": "stdout",
     "output_type": "stream",
     "text": [
      "dyna_mask has loaded the saved weights on hmm dataset with fold = 2, if applicable, lambda 1 = None and lambda 2 = None.\n"
     ]
    },
    {
     "data": {
      "application/vnd.jupyter.widget-view+json": {
       "model_id": "4f64295b8c694c72a803f7a4dfe83b18",
       "version_major": 2,
       "version_minor": 0
      },
      "text/plain": [
       "Predicting: |          | 0/? [00:00<?, ?it/s]"
      ]
     },
     "metadata": {},
     "output_type": "display_data"
    },
    {
     "name": "stderr",
     "output_type": "stream",
     "text": [
      "GPU available: False, used: False\n",
      "TPU available: False, using: 0 TPU cores\n",
      "IPU available: False, using: 0 IPUs\n",
      "HPU available: False, using: 0 HPUs\n"
     ]
    },
    {
     "name": "stdout",
     "output_type": "stream",
     "text": [
      "Best keep ratio is 0.30000000000000004\n",
      "extremal_mask has loaded the saved weights on hmm dataset with fold = 2, if applicable, lambda 1 = 1.0 and lambda 2 = 1.0.\n"
     ]
    },
    {
     "name": "stderr",
     "output_type": "stream",
     "text": [
      "Seed set to 42\n",
      "GPU available: False, used: False\n",
      "TPU available: False, using: 0 TPU cores\n",
      "IPU available: False, using: 0 IPUs\n",
      "HPU available: False, using: 0 HPUs\n"
     ]
    },
    {
     "name": "stdout",
     "output_type": "stream",
     "text": [
      "/home/paulius/projects/fact/factai/tint/data/hmm\n",
      "classifier has loaded the saved weights on hmm dataset with fold = 3, if applicable, lambda 1 = 1.0 and lambda 2 = 1.0.\n"
     ]
    },
    {
     "name": "stderr",
     "output_type": "stream",
     "text": [
      "GPU available: False, used: False\n",
      "TPU available: False, using: 0 TPU cores\n",
      "IPU available: False, using: 0 IPUs\n",
      "HPU available: False, using: 0 HPUs\n"
     ]
    },
    {
     "name": "stdout",
     "output_type": "stream",
     "text": [
      "dyna_mask has loaded the saved weights on hmm dataset with fold = 3, if applicable, lambda 1 = None and lambda 2 = None.\n"
     ]
    },
    {
     "data": {
      "application/vnd.jupyter.widget-view+json": {
       "model_id": "e1b0b1449c054958966f1e9c522ea067",
       "version_major": 2,
       "version_minor": 0
      },
      "text/plain": [
       "Predicting: |          | 0/? [00:00<?, ?it/s]"
      ]
     },
     "metadata": {},
     "output_type": "display_data"
    },
    {
     "name": "stderr",
     "output_type": "stream",
     "text": [
      "GPU available: False, used: False\n",
      "TPU available: False, using: 0 TPU cores\n",
      "IPU available: False, using: 0 IPUs\n",
      "HPU available: False, using: 0 HPUs\n"
     ]
    },
    {
     "name": "stdout",
     "output_type": "stream",
     "text": [
      "Best keep ratio is 0.30000000000000004\n",
      "extremal_mask has loaded the saved weights on hmm dataset with fold = 3, if applicable, lambda 1 = 1.0 and lambda 2 = 1.0.\n"
     ]
    },
    {
     "name": "stderr",
     "output_type": "stream",
     "text": [
      "Seed set to 42\n",
      "GPU available: False, used: False\n",
      "TPU available: False, using: 0 TPU cores\n",
      "IPU available: False, using: 0 IPUs\n",
      "HPU available: False, using: 0 HPUs\n"
     ]
    },
    {
     "name": "stdout",
     "output_type": "stream",
     "text": [
      "/home/paulius/projects/fact/factai/tint/data/hmm\n",
      "classifier has loaded the saved weights on hmm dataset with fold = 4, if applicable, lambda 1 = 1.0 and lambda 2 = 1.0.\n"
     ]
    },
    {
     "name": "stderr",
     "output_type": "stream",
     "text": [
      "GPU available: False, used: False\n",
      "TPU available: False, using: 0 TPU cores\n",
      "IPU available: False, using: 0 IPUs\n",
      "HPU available: False, using: 0 HPUs\n"
     ]
    },
    {
     "name": "stdout",
     "output_type": "stream",
     "text": [
      "dyna_mask has loaded the saved weights on hmm dataset with fold = 4, if applicable, lambda 1 = None and lambda 2 = None.\n"
     ]
    },
    {
     "data": {
      "application/vnd.jupyter.widget-view+json": {
       "model_id": "35b56f0799984e16add886bb82999db8",
       "version_major": 2,
       "version_minor": 0
      },
      "text/plain": [
       "Predicting: |          | 0/? [00:00<?, ?it/s]"
      ]
     },
     "metadata": {},
     "output_type": "display_data"
    },
    {
     "name": "stderr",
     "output_type": "stream",
     "text": [
      "GPU available: False, used: False\n",
      "TPU available: False, using: 0 TPU cores\n",
      "IPU available: False, using: 0 IPUs\n",
      "HPU available: False, using: 0 HPUs\n"
     ]
    },
    {
     "name": "stdout",
     "output_type": "stream",
     "text": [
      "Best keep ratio is 0.30000000000000004\n",
      "extremal_mask has loaded the saved weights on hmm dataset with fold = 4, if applicable, lambda 1 = 1.0 and lambda 2 = 1.0.\n"
     ]
    }
   ],
   "source": [
    "device = \"cuda\" if th.cuda.is_available() else \"cpu\"\n",
    "\n",
    "# Uncomment the other methods to train them\n",
    "explainers = [\n",
    "    # \"deep_lift\",\n",
    "    \"dyna_mask\",\n",
    "    \"extremal_mask\",\n",
    "    # \"fit\",\n",
    "    # \"gradient_shap\",\n",
    "    # \"integrated_gradients\",\n",
    "    # \"augmented_occlusion\",\n",
    "    # \"occlusion\",\n",
    "    # \"retain\",\n",
    "    # \"lime\",\n",
    "]\n",
    "output_file = \"hmm_results_per_fold.csv\"\n",
    "\n",
    "for i in range(5):\n",
    "    experiments.hmm.main.main(\n",
    "        explainers, device, deterministic=True, fold=i, output_file=output_file\n",
    "    )"
   ]
  },
  {
   "cell_type": "markdown",
   "metadata": {},
   "source": [
    "After having run the experiment, the results for each fold are to be found in `hmm_results_per_fold.csv` under the same folder as this notebook. Now, we calculate the average together with the standard deviation for every model. \n",
    "\n",
    "We will assume you didn't run the experiment, and use our saved file for the calculations of averages. "
   ]
  },
  {
   "cell_type": "code",
   "execution_count": 6,
   "metadata": {},
   "outputs": [],
   "source": [
    "# Change this to your file to calculate the means and stds for it\n",
    "results_file = \"hmm_results_per_fold_saved.csv\"\n",
    "average_main_experiment(results_file)"
   ]
  },
  {
   "cell_type": "markdown",
   "metadata": {},
   "source": [
    "The results that we present in Table 1 may be found in `${results_file}_averaged.csv`, e.g. `hmm_results_per_fold_saved_averaged.csv`, under the same folder as this notebook."
   ]
  },
  {
   "cell_type": "markdown",
   "metadata": {},
   "source": [
    "### Table 2\n",
    "\n",
    "Comparison between our averaged results (over 5 folds, detailed in Table 1) and the authors’ reported values. The values are calculated by dividing these differences by the standard deviation found in the original paper."
   ]
  },
  {
   "cell_type": "code",
   "execution_count": 8,
   "metadata": {},
   "outputs": [],
   "source": [
    "from experiments.utils.compare_results import compare_results\n",
    "\n",
    "dataset_name = \"hmm\"\n",
    "# File for the results from original paper\n",
    "original_results_filename = \"hmm_original_results.csv\"\n",
    "# File for our computed results\n",
    "repro_results_filename = \"hmm_results_per_fold_saved_averaged.csv\"\n",
    "\n",
    "compare_results(\n",
    "    dataset_name, original_results_filename, repro_results_filename, ratio_mode=True\n",
    ")"
   ]
  },
  {
   "cell_type": "markdown",
   "metadata": {},
   "source": [
    "The result for table 2 can now be found in `hmm_results_per_fold_saved_averaged_ratio.csv`."
   ]
  },
  {
   "cell_type": "markdown",
   "metadata": {},
   "source": [
    "## Claim 2\n",
    "\n",
    "**Claim 2**. On a real-life dataset (MIMIC-III, Section 3.2.3), ExtremalMask best identified the salient and non-salient features compared to 8 other methods, as measured by the relevant tested metrics.\n",
    "\n",
    "### Table 3 \n",
    "\n",
    "First, we reproduce Table 3, the metrics table for the mimic dataset. Because we were able to save our models, this code may take to run around 20 minutes for 1 fold. Otherwise, you would have to still train the explainers. Still, below the results are presented for only 1 fold, but you can run them for 5 folds as we do for our paper if you have the time."
   ]
  },
  {
   "cell_type": "code",
   "execution_count": 7,
   "metadata": {},
   "outputs": [
    {
     "name": "stderr",
     "output_type": "stream",
     "text": [
      "Seed set to 42\n",
      "GPU available: False, used: False\n",
      "TPU available: False, using: 0 TPU cores\n",
      "IPU available: False, using: 0 IPUs\n",
      "HPU available: False, using: 0 HPUs\n"
     ]
    },
    {
     "name": "stdout",
     "output_type": "stream",
     "text": [
      "experiment is  main\n",
      "classifier has loaded the saved weights on mimic3 dataset with fold = 1, if applicable, lambda 1 = 1.0 and lambda 2 = 1.0.\n",
      "y_test mean tensor(0.0900)\n",
      "explainers is  ['deep_lift', 'dyna_mask', 'extremal_mask', 'integrated_gradients', 'augmented_occlusion', 'occlusion', 'retain']\n",
      "starting deeplift\n",
      "finished analyzing  deep_lift output to  mimic_results.csv\n",
      "finished analyzing  dyna_mask output to  mimic_results.csv\n",
      "finished analyzing  extremal_mask output to  mimic_results.csv\n",
      "finished analyzing  integrated_gradients output to  mimic_results.csv\n",
      "finished analyzing  occlusion output to  mimic_results.csv\n",
      "finished analyzing  retain output to  mimic_results.csv\n"
     ]
    }
   ],
   "source": [
    "device = \"cuda\" if th.cuda.is_available() else \"cpu\"\n",
    "\n",
    "mimic_explainers = [\n",
    "    \"deep_lift\",\n",
    "    \"dyna_mask\",\n",
    "    \"extremal_mask\",\n",
    "    \"integrated_gradients\",\n",
    "    \"augmented_occlusion\",\n",
    "    \"occlusion\",\n",
    "    \"retain\",\n",
    "]\n",
    "mimic_output_file = \"mimic_results.csv\"\n",
    "experiments.mimic3.mortality.reset.main(\"main\")\n",
    "\n",
    "# We only saved pickles for all modelss for folds 1 and 2.\n",
    "# folds_to_run = [1, 2]\n",
    "\n",
    "# Run only for fold 1 since this takes quite some time\n",
    "# The at is the reason why confidence intervals are not shown\n",
    "folds_to_run = [1]\n",
    "\n",
    "# Some models like augmented occlusion, extremal mask, dyna mask also have fold 0 saved\n",
    "\n",
    "for i in folds_to_run:\n",
    "    experiments.mimic3.mortality.main.main(\n",
    "        explainers=mimic_explainers,\n",
    "        areas=[\n",
    "            0.1,\n",
    "            0.2,\n",
    "            0.3,\n",
    "            0.4,\n",
    "            0.5,\n",
    "            0.6,\n",
    "        ],\n",
    "        device=\"cpu\",\n",
    "        fold=i,\n",
    "        seed=42,\n",
    "        deterministic=True,\n",
    "        output_file=mimic_output_file,\n",
    "    )"
   ]
  },
  {
   "cell_type": "markdown",
   "metadata": {},
   "source": [
    "Now that we've created `mimic_results.csv`, we can create Table 3, the metrics table for MIMIC-III. We also reproduce the cross-entropy graphs from the original paper. Because we only run fold 1 (to save you time, you can run both folds by setting run_both to true), the standard deviation is 0, and thus confidence intervals are not displayed as they are in our paper. "
   ]
  },
  {
   "cell_type": "code",
   "execution_count": 8,
   "metadata": {},
   "outputs": [
    {
     "name": "stdout",
     "output_type": "stream",
     "text": [
      "values for table: \n",
      "      DeepLift Accuracy 0.990, Comprehensiveness 8.07e-04, Cross Entropy 0.09, Sufficiency 3.78e-03, \n",
      "\n",
      "      DynaMask Accuracy 0.993, Comprehensiveness 4.08e-03, Cross Entropy 0.10, Sufficiency 8.47e-04, \n",
      "\n",
      "      Integrated Gradients Accuracy 0.989, Comprehensiveness 1.46e-03, Cross Entropy 0.09, Sufficiency 3.13e-03, \n",
      "\n",
      "      Augmented Occlusion Accuracy 0.990, Comprehensiveness 1.89e-03, Cross Entropy 0.09, Sufficiency 2.33e-03, \n",
      "\n",
      "      Occlusion Accuracy 0.990, Comprehensiveness -4.36e-04, Cross Entropy 0.09, Sufficiency 4.89e-03, \n",
      "\n",
      "      Retain Accuracy 0.990, Comprehensiveness -1.86e-03, Cross Entropy 0.09, Sufficiency 7.18e-03, \n",
      "\n",
      "      \\hline\n",
      "      Extremal Mask Accuracy 0.986, Comprehensiveness 1.21e-02, Cross Entropy 0.11, Sufficiency -7.48e-03, \n",
      "\n",
      "Cross entropy (change in prediction) over % features masked, *average* baseline\n"
     ]
    },
    {
     "data": {
      "image/png": "[encoded data removed]",
      "text/plain": [
       "<Figure size 640x480 with 1 Axes>"
      ]
     },
     "metadata": {},
     "output_type": "display_data"
    },
    {
     "name": "stdout",
     "output_type": "stream",
     "text": [
      "Cross entropy (change in prediction) over % features masked, *zero* baseline\n"
     ]
    },
    {
     "data": {
      "image/png": "[encoded data removed]",
      "text/plain": [
       "<Figure size 640x480 with 1 Axes>"
      ]
     },
     "metadata": {},
     "output_type": "display_data"
    }
   ],
   "source": [
    "from experiments.mimic3.mortality.graphs import (\n",
    "    create_mimic_graph,\n",
    "    get_mimic_data,\n",
    "    print_mimic_table,\n",
    ")\n",
    "\n",
    "total_raw_values = get_mimic_data(mimic_output_file)\n",
    "print(\"values for table: \")\n",
    "print_mimic_table(total_raw_values)\n",
    "print(\"Cross entropy (change in prediction) over % features masked, *average* baseline\")\n",
    "create_mimic_graph(total_raw_values, \"Average\")\n",
    "\n",
    "print(\"Cross entropy (change in prediction) over % features masked, *zero* baseline\")\n",
    "create_mimic_graph(total_raw_values, \"Zeros\")"
   ]
  },
  {
   "cell_type": "markdown",
   "metadata": {},
   "source": [
    "## Claim 3\n",
    "\n",
    "**Claim 3**. ExtremalMask achieves better performance in the preservation game compared to the deletion game on the synthetic dataset.\n",
    "\n",
    "### Table 4\n",
    "\n",
    "To reproduce the result, we follow the same procedure as that for Table 1 except also setting the `preservation_mode` argument to `False` to perform deletion game. It will take several hours, so we don't recommend running it. \n",
    "\n",
    "**Note!** As for Table 1, it's again important to use a device with GPU and CUDA to reproduce our results."
   ]
  },
  {
   "cell_type": "code",
   "execution_count": 14,
   "metadata": {},
   "outputs": [
    {
     "name": "stderr",
     "output_type": "stream",
     "text": [
      "Seed set to 42\n",
      "GPU available: False, used: False\n",
      "TPU available: False, using: 0 TPU cores\n",
      "IPU available: False, using: 0 IPUs\n",
      "HPU available: False, using: 0 HPUs\n"
     ]
    },
    {
     "name": "stdout",
     "output_type": "stream",
     "text": [
      "/home/paulius/projects/fact/factai/tint/data/hmm\n",
      "classifier has loaded the saved weights on hmm dataset with fold = 0, if applicable, lambda 1 = 1.0 and lambda 2 = 1.0.\n"
     ]
    },
    {
     "name": "stderr",
     "output_type": "stream",
     "text": [
      "GPU available: False, used: False\n",
      "TPU available: False, using: 0 TPU cores\n",
      "IPU available: False, using: 0 IPUs\n",
      "HPU available: False, using: 0 HPUs\n",
      "Seed set to 42\n",
      "GPU available: False, used: False\n",
      "TPU available: False, using: 0 TPU cores\n",
      "IPU available: False, using: 0 IPUs\n",
      "HPU available: False, using: 0 HPUs\n"
     ]
    },
    {
     "name": "stdout",
     "output_type": "stream",
     "text": [
      "extremal_mask has loaded the saved weights on hmm dataset with fold = 0, if applicable, lambda 1 = 1.0 and lambda 2 = 1.0.\n",
      "/home/paulius/projects/fact/factai/tint/data/hmm\n",
      "classifier has loaded the saved weights on hmm dataset with fold = 1, if applicable, lambda 1 = 1.0 and lambda 2 = 1.0.\n"
     ]
    },
    {
     "name": "stderr",
     "output_type": "stream",
     "text": [
      "GPU available: False, used: False\n",
      "TPU available: False, using: 0 TPU cores\n",
      "IPU available: False, using: 0 IPUs\n",
      "HPU available: False, using: 0 HPUs\n",
      "Seed set to 42\n",
      "GPU available: False, used: False\n",
      "TPU available: False, using: 0 TPU cores\n",
      "IPU available: False, using: 0 IPUs\n",
      "HPU available: False, using: 0 HPUs\n"
     ]
    },
    {
     "name": "stdout",
     "output_type": "stream",
     "text": [
      "extremal_mask has loaded the saved weights on hmm dataset with fold = 1, if applicable, lambda 1 = 1.0 and lambda 2 = 1.0.\n",
      "/home/paulius/projects/fact/factai/tint/data/hmm\n",
      "classifier has loaded the saved weights on hmm dataset with fold = 2, if applicable, lambda 1 = 1.0 and lambda 2 = 1.0.\n"
     ]
    },
    {
     "name": "stderr",
     "output_type": "stream",
     "text": [
      "GPU available: False, used: False\n",
      "TPU available: False, using: 0 TPU cores\n",
      "IPU available: False, using: 0 IPUs\n",
      "HPU available: False, using: 0 HPUs\n",
      "Seed set to 42\n",
      "GPU available: False, used: False\n",
      "TPU available: False, using: 0 TPU cores\n",
      "IPU available: False, using: 0 IPUs\n",
      "HPU available: False, using: 0 HPUs\n"
     ]
    },
    {
     "name": "stdout",
     "output_type": "stream",
     "text": [
      "extremal_mask has loaded the saved weights on hmm dataset with fold = 2, if applicable, lambda 1 = 1.0 and lambda 2 = 1.0.\n",
      "/home/paulius/projects/fact/factai/tint/data/hmm\n",
      "classifier has loaded the saved weights on hmm dataset with fold = 3, if applicable, lambda 1 = 1.0 and lambda 2 = 1.0.\n"
     ]
    },
    {
     "name": "stderr",
     "output_type": "stream",
     "text": [
      "GPU available: False, used: False\n",
      "TPU available: False, using: 0 TPU cores\n",
      "IPU available: False, using: 0 IPUs\n",
      "HPU available: False, using: 0 HPUs\n",
      "Seed set to 42\n",
      "GPU available: False, used: False\n",
      "TPU available: False, using: 0 TPU cores\n",
      "IPU available: False, using: 0 IPUs\n",
      "HPU available: False, using: 0 HPUs\n"
     ]
    },
    {
     "name": "stdout",
     "output_type": "stream",
     "text": [
      "extremal_mask has loaded the saved weights on hmm dataset with fold = 3, if applicable, lambda 1 = 1.0 and lambda 2 = 1.0.\n",
      "/home/paulius/projects/fact/factai/tint/data/hmm\n",
      "classifier has loaded the saved weights on hmm dataset with fold = 4, if applicable, lambda 1 = 1.0 and lambda 2 = 1.0.\n"
     ]
    },
    {
     "name": "stderr",
     "output_type": "stream",
     "text": [
      "GPU available: False, used: False\n",
      "TPU available: False, using: 0 TPU cores\n",
      "IPU available: False, using: 0 IPUs\n",
      "HPU available: False, using: 0 HPUs\n"
     ]
    },
    {
     "name": "stdout",
     "output_type": "stream",
     "text": [
      "extremal_mask has loaded the saved weights on hmm dataset with fold = 4, if applicable, lambda 1 = 1.0 and lambda 2 = 1.0.\n"
     ]
    }
   ],
   "source": [
    "output_file = \"hmm_results_per_fold_deletion.csv\"\n",
    "\n",
    "for i in range(5):\n",
    "    experiments.hmm.main.main(\n",
    "        \"extremal_mask\",\n",
    "        device,\n",
    "        deterministic=True,\n",
    "        fold=i,\n",
    "        output_file=output_file,\n",
    "        preservation_mode=False,\n",
    "    )\n",
    "\n",
    "average_main_experiment(output_file)\n",
    "# If you get a TypeError running this line, simply rerun the function after adding the CSV header:\n",
    "# Seed,Fold,Explainer,Lambda_1,Lambda_2,AUP,AUR,Information,Entropy,AUROC,AUPRC"
   ]
  },
  {
   "cell_type": "markdown",
   "metadata": {},
   "source": [
    "The results that we present in Table 4 may now be found in `hmm_results_per_fold_deletion_averaged.csv` under the same folder as this notebook."
   ]
  }
 ],
 "metadata": {
  "kernelspec": {
   "display_name": "Python 3 (ipykernel)",
   "language": "python",
   "name": "python3"
  },
  "language_info": {
   "codemirror_mode": {
    "name": "ipython",
    "version": 3
   },
   "file_extension": ".py",
   "mimetype": "text/x-python",
   "name": "python",
   "nbconvert_exporter": "python",
   "pygments_lexer": "ipython3",
   "version": "3.11.6"
  }
 },
 "nbformat": 4,
 "nbformat_minor": 4
}

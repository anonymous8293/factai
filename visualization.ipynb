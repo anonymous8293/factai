{
 "cells": [
  {
   "cell_type": "markdown",
   "metadata": {},
   "source": [
    "# Notebook for Extensions 1 and 2\n",
    "\n",
    "This notebook includes replicating all extension 1 and 2 figures found in the report, gives more details about some assumptions made, and intermediate findings. Concretely:\n",
    "1. Examples how to load the saved saliency models.\n",
    "2. Evaluation of the classifier, brief analysis of MIMIC-III.\n",
    "3. Use the classifier to correctly predict mortality of patients. Use the result to visualize examples of which temporal features are deemed important classifier as found by ExtremalMask and DynaMask methods (Figures 1a, 1b in our report).\n",
    "4. Compute perturbations NN(x) and using them compute alternative saliency metric.\n",
    "5. Reproduce Figure 5 from the original paper, compute same figure using new saliency metric. (Figures 2a, 2b in our report)\n",
    "6. Visualize original data, perturbed data, and predicted mask. Do the same with new saliency metric as well. (Figures X in the report's Appendix)\n",
    "7. Plot the components of perturbation of a univariate time series signal for in-depth understanding of the model. (Figures X in the report's Appendix)\n",
    "8. Similar visualizations for synthetic HMM (Figures X in the report's Appendix) and ARMA datasets.\n",
    "\n",
    "The exact extensions in our report are formulated as follows:\n",
    "\n",
    "**Extension 1**. Using ExtremalMask, we propose a new metric for data saliency. Using this, we re-evaluate the information and entropy (defined in Section 3.4.1) on HMM\n",
    "\n",
    "**Extension 2**. We visually analyze the saliency map using the new metric learned by ExtremalMask and its predecessor DynaMask on the MIMIC-III dataset. Furthermore, we compare the saliency of the top 5 most important features of the MIMIC-III dataset using these two saliency metrics."
   ]
  },
  {
   "cell_type": "markdown",
   "metadata": {},
   "source": [
    "**Note!** The data comes in the shape of (batch size, time series length, no. features). This means that if we want to visualize the first batch of data, we do `data[0].T`. Transpose is important to put features as rows to show time series data horizontally!"
   ]
  },
  {
   "cell_type": "markdown",
   "metadata": {},
   "source": [
    "## MIMIC-III\n",
    "\n",
    "All of these experiments have been done for the MIMIC-III *mortality* dataset (classification task), NOT the *blood pressure* part (regression task)."
   ]
  },
  {
   "cell_type": "code",
   "execution_count": 2,
   "metadata": {},
   "outputs": [],
   "source": [
    "import numpy as np\n",
    "import torch as th\n",
    "\n",
    "# The default seed set in the tint experiments, and subsequently used by us\n",
    "SEED = 42\n",
    "# For this fold we have all methods saved, for some (like retain and deep lift)\n",
    "# we forgot to save the fold 0\n",
    "FOLD = 1\n",
    "\n",
    "MIMIC_CKPT_DIR = \"experiments/checkpoints/mimic_copy/\"\n",
    "# PICKLE_DIR = \"experiments/pickles/\"\n",
    "PICKLE_DIR = MIMIC_CKPT_DIR\n",
    "CLS_DIR = \"experiments/checkpoints/mimic3_classifier/\""
   ]
  },
  {
   "cell_type": "markdown",
   "metadata": {},
   "source": [
    "### Load different explanation models\n",
    "\n",
    "We load the attributions, explainer class, and mask net (when applicable) all of which have been saved on Snellius to facilitate reproduction and save computational resources."
   ]
  },
  {
   "cell_type": "code",
   "execution_count": 1,
   "metadata": {},
   "outputs": [
    {
     "name": "stderr",
     "output_type": "stream",
     "text": [
      "/home/paulius/projects/fact/.venv/lib/python3.11/site-packages/tqdm/auto.py:21: TqdmWarning: IProgress not found. Please update jupyter and ipywidgets. See https://ipywidgets.readthedocs.io/en/stable/user_install.html\n",
      "  from .autonotebook import tqdm as notebook_tqdm\n",
      "Seed set to 42\n"
     ]
    }
   ],
   "source": [
    "from pytorch_lightning import seed_everything\n",
    "from tint.datasets import Mimic3\n",
    "\n",
    "seed = 42\n",
    "fold = 0\n",
    "deterministic = True\n",
    "device = \"cpu\"\n",
    "dataset_name = \"mimic3\"\n",
    "model_name = \"extremal_mask\"\n",
    "lambda_1 = 1.0\n",
    "lambda_2 = 1.0\n",
    "preservation_mode = True\n",
    "\n",
    "if deterministic:\n",
    "    seed_everything(seed=seed, workers=True)\n",
    "\n",
    "# Get accelerator and device\n",
    "accelerator = device.split(\":\")[0]\n",
    "device_id = 1\n",
    "if len(device.split(\":\")) > 1:\n",
    "    device_id = [int(device.split(\":\")[1])]\n",
    "\n",
    "# Create lock\n",
    "# lock = mp.Lock()\n",
    "\n",
    "# Load data\n",
    "mimic3 = Mimic3(n_folds=5, fold=fold, seed=seed)\n",
    "x_train = mimic3.preprocess(split=\"train\")[\"x\"].to(device)\n",
    "x_test = mimic3.preprocess(split=\"test\")[\"x\"].to(device)\n",
    "y_test = mimic3.preprocess(split=\"test\")[\"y\"].to(device)"
   ]
  },
  {
   "cell_type": "code",
   "execution_count": 2,
   "metadata": {},
   "outputs": [
    {
     "name": "stderr",
     "output_type": "stream",
     "text": [
      "GPU available: False, used: False\n",
      "TPU available: False, using: 0 TPU cores\n",
      "IPU available: False, using: 0 IPUs\n",
      "HPU available: False, using: 0 HPUs\n",
      "GPU available: False, used: False\n",
      "TPU available: False, using: 0 TPU cores\n",
      "IPU available: False, using: 0 IPUs\n",
      "HPU available: False, using: 0 HPUs\n"
     ]
    },
    {
     "name": "stdout",
     "output_type": "stream",
     "text": [
      "Trying to load experiments/checkpoints/mimic3_classifier//mimic3_classifier_42_0.ckpt\n",
      "classifier has loaded the saved weights on mimic3 dataset with fold = 0, if applicable, lambda 1 = 1.0 and lambda 2 = 1.0.\n",
      "extremal_mask has loaded the saved weights on mimic3 dataset with fold = 0, if applicable, lambda 1 = 1.0 and lambda 2 = 1.0.\n"
     ]
    }
   ],
   "source": [
    "import torch.nn as nn\n",
    "from experiments.mimic3.mortality.classifier import MimicClassifierNet\n",
    "from pytorch_lightning import Trainer\n",
    "from tint.attr import ExtremalMask\n",
    "from tint.attr.models import ExtremalMaskNet\n",
    "from tint.models import MLP, RNN\n",
    "from tint.utils.model_loading import get_model\n",
    "\n",
    "# Create classifier\n",
    "classifier = MimicClassifierNet(\n",
    "    feature_size=31,\n",
    "    n_state=2,\n",
    "    hidden_size=200,\n",
    "    regres=True,\n",
    "    loss=\"cross_entropy\",\n",
    "    lr=0.0001,\n",
    "    l2=1e-3,\n",
    ")\n",
    "\n",
    "# Train classifier\n",
    "trainer = Trainer(\n",
    "    max_epochs=100,\n",
    "    accelerator=accelerator,\n",
    "    devices=device_id,\n",
    "    deterministic=deterministic,\n",
    "    logger=False,\n",
    ")\n",
    "classifier = get_model(\n",
    "    trainer,\n",
    "    classifier,\n",
    "    \"classifier\",\n",
    "    dataset_name,\n",
    "    seed,\n",
    "    fold,\n",
    "    lambda_1=lambda_1,\n",
    "    lambda_2=lambda_2,\n",
    "    datamodule=None,\n",
    "    checkpoint_dir=\"experiments/checkpoints/mimic3_classifier/\",\n",
    ")\n",
    "\n",
    "# Switch to eval\n",
    "classifier.eval()\n",
    "\n",
    "# Set model to device\n",
    "classifier.to(device)\n",
    "\n",
    "trainer = Trainer(\n",
    "    max_epochs=500,\n",
    "    accelerator=accelerator,\n",
    "    devices=device_id,\n",
    "    log_every_n_steps=2,\n",
    "    deterministic=deterministic,\n",
    "    logger=False,\n",
    ")\n",
    "mask = ExtremalMaskNet(\n",
    "    forward_func=classifier,\n",
    "    preservation_mode=preservation_mode,\n",
    "    model=nn.Sequential(\n",
    "        RNN(\n",
    "            input_size=x_test.shape[-1],\n",
    "            rnn=\"gru\",\n",
    "            hidden_size=x_test.shape[-1],\n",
    "            bidirectional=True,\n",
    "        ),\n",
    "        MLP([2 * x_test.shape[-1], x_test.shape[-1]]),\n",
    "    ),\n",
    "    lambda_1=lambda_1,\n",
    "    lambda_2=lambda_2,\n",
    "    loss=\"cross_entropy\",\n",
    "    optim=\"adam\",\n",
    "    lr=0.01,\n",
    ")\n",
    "explainer = ExtremalMask(dataset_name, classifier, seed, fold)\n",
    "_attr = explainer.attribute(\n",
    "    x_test,\n",
    "    trainer=trainer,\n",
    "    mask_net=mask,\n",
    "    batch_size=100,\n",
    ")\n",
    "extremal_mask_attr_mimic = _attr.to(device)"
   ]
  },
  {
   "cell_type": "code",
   "execution_count": 3,
   "metadata": {},
   "outputs": [
    {
     "name": "stderr",
     "output_type": "stream",
     "text": [
      "GPU available: False, used: False\n",
      "TPU available: False, using: 0 TPU cores\n",
      "IPU available: False, using: 0 IPUs\n",
      "HPU available: False, using: 0 HPUs\n"
     ]
    },
    {
     "name": "stdout",
     "output_type": "stream",
     "text": [
      "dyna_mask has loaded the saved weights on mimic3 dataset with fold = 0, if applicable, lambda 1 = None and lambda 2 = None.\n",
      "Predicting DataLoader 0: 100%|██████████| 46/46 [00:18<00:00,  2.55it/s]\n"
     ]
    }
   ],
   "source": [
    "import numpy as np\n",
    "from tint.attr import DynaMask\n",
    "from tint.attr.models import MaskNet\n",
    "\n",
    "trainer = Trainer(\n",
    "    max_epochs=1000,\n",
    "    accelerator=accelerator,\n",
    "    devices=device_id,\n",
    "    log_every_n_steps=2,\n",
    "    deterministic=deterministic,\n",
    "    logger=False,\n",
    ")\n",
    "mask = MaskNet(\n",
    "    forward_func=classifier,\n",
    "    perturbation=\"fade_moving_average\",\n",
    "    keep_ratio=list(np.arange(0.1, 0.7, 0.1)),\n",
    "    deletion_mode=True,\n",
    "    size_reg_factor_init=0.1,\n",
    "    size_reg_factor_dilation=10000,\n",
    "    time_reg_factor=0.0,\n",
    "    loss=\"cross_entropy\",\n",
    ")\n",
    "explainer = DynaMask(dataset_name, classifier, seed, fold)\n",
    "dyna_mask_attr_mimic, mask_net_proper = explainer.attribute(\n",
    "    x_test,\n",
    "    additional_forward_args=(True,),\n",
    "    trainer=trainer,\n",
    "    mask_net=mask,\n",
    "    batch_size=100,\n",
    "    return_best_ratio=False,\n",
    ")\n",
    "dyna_mask_attr_mimic = dyna_mask_attr_mimic.to(device)"
   ]
  },
  {
   "cell_type": "code",
   "execution_count": 6,
   "metadata": {},
   "outputs": [
    {
     "data": {
      "text/plain": [
       "tensor([[[-2.6226e-06,  5.0000e-01,  5.0000e-01,  ...,  5.0000e-01,\n",
       "           5.0000e-01,  5.0000e-01],\n",
       "         [-2.3842e-06,  5.0000e-01,  5.0000e-01,  ...,  5.0000e-01,\n",
       "           5.0000e-01,  5.0000e-01],\n",
       "         [-1.5497e-06,  5.0000e-01,  5.0000e-01,  ...,  5.0000e-01,\n",
       "           5.0000e-01,  5.0000e-01],\n",
       "         ...,\n",
       "         [-5.1260e-06,  5.0000e-01,  5.0000e-01,  ...,  5.0000e-01,\n",
       "           5.0000e-01,  5.0000e-01],\n",
       "         [-5.4836e-06,  5.0000e-01,  5.0000e-01,  ...,  5.0000e-01,\n",
       "           5.0000e-01,  5.0000e-01],\n",
       "         [-5.6028e-06,  5.0000e-01,  5.0000e-01,  ...,  5.0000e-01,\n",
       "           5.0000e-01,  5.0000e-01]],\n",
       "\n",
       "        [[ 7.3540e-01,  5.0000e-01,  4.8951e-01,  ...,  5.0000e-01,\n",
       "           5.0000e-01,  5.0000e-01],\n",
       "         [ 5.1345e-01,  5.0000e-01,  4.7886e-01,  ...,  5.0000e-01,\n",
       "           5.0000e-01,  5.0000e-01],\n",
       "         [ 4.0047e-01,  5.0000e-01,  4.5972e-01,  ...,  5.0000e-01,\n",
       "           5.0000e-01,  5.0000e-01],\n",
       "         ...,\n",
       "         [ 1.0000e+00,  5.0000e-01, -5.4836e-06,  ...,  5.0000e-01,\n",
       "           5.0000e-01,  5.0000e-01],\n",
       "         [ 1.0000e+00,  5.0000e-01, -5.6028e-06,  ...,  5.0000e-01,\n",
       "           5.0000e-01,  5.0000e-01],\n",
       "         [ 1.0000e+00,  5.0000e-01, -5.6028e-06,  ...,  5.0000e-01,\n",
       "           5.0000e-01,  5.0000e-01]],\n",
       "\n",
       "        [[-1.0729e-06,  5.0000e-01,  8.3209e-01,  ...,  5.0000e-01,\n",
       "           5.0000e-01,  5.0000e-01],\n",
       "         [-1.0729e-06,  5.0000e-01,  7.6939e-01,  ...,  5.0000e-01,\n",
       "           5.0000e-01,  5.0000e-01],\n",
       "         [-1.0729e-06,  5.0000e-01,  6.9223e-01,  ...,  5.0000e-01,\n",
       "           5.0000e-01,  5.0000e-01],\n",
       "         ...,\n",
       "         [-5.2452e-06,  5.0000e-01, -5.1260e-06,  ...,  5.0000e-01,\n",
       "           5.0000e-01,  5.0000e-01],\n",
       "         [-5.4836e-06,  5.0000e-01, -5.3644e-06,  ...,  5.0000e-01,\n",
       "           5.0000e-01,  5.0000e-01],\n",
       "         [-5.6028e-06,  5.0000e-01, -5.3644e-06,  ...,  5.0000e-01,\n",
       "           5.0000e-01,  5.0000e-01]],\n",
       "\n",
       "        ...,\n",
       "\n",
       "        [[ 9.5482e-01,  5.0000e-01, -8.5831e-06,  ...,  5.0000e-01,\n",
       "           5.0000e-01,  5.0000e-01],\n",
       "         [ 1.0000e+00,  5.0000e-01, -8.5831e-06,  ...,  5.0000e-01,\n",
       "           5.0000e-01,  5.0000e-01],\n",
       "         [ 1.0000e+00,  5.0000e-01, -8.4639e-06,  ...,  5.0000e-01,\n",
       "           5.0000e-01,  5.0000e-01],\n",
       "         ...,\n",
       "         [-6.1989e-06,  5.0000e-01,  1.0000e+00,  ...,  5.0000e-01,\n",
       "           5.0000e-01,  5.0000e-01],\n",
       "         [-7.8678e-06,  5.0000e-01,  1.0000e+00,  ...,  5.0000e-01,\n",
       "           5.0000e-01,  5.0000e-01],\n",
       "         [-9.2983e-06,  5.0000e-01,  1.0000e+00,  ...,  5.0000e-01,\n",
       "           5.0000e-01,  5.0000e-01]],\n",
       "\n",
       "        [[ 4.7171e-01,  5.0000e-01,  4.5235e-01,  ...,  5.0000e-01,\n",
       "           5.0000e-01,  5.0000e-01],\n",
       "         [ 2.4252e-01,  5.0000e-01,  4.3221e-01,  ...,  5.0000e-01,\n",
       "           5.0000e-01,  5.0000e-01],\n",
       "         [ 2.4607e-01,  5.0000e-01,  4.2056e-01,  ...,  5.0000e-01,\n",
       "           5.0000e-01,  5.0000e-01],\n",
       "         ...,\n",
       "         [ 1.0000e+00,  5.0000e-01, -1.0252e-05,  ...,  5.0000e-01,\n",
       "           5.0000e-01,  5.0000e-01],\n",
       "         [ 1.0000e+00,  5.0000e-01, -1.0490e-05,  ...,  5.0000e-01,\n",
       "           5.0000e-01,  5.0000e-01],\n",
       "         [ 1.0000e+00,  5.0000e-01, -1.0490e-05,  ...,  5.0000e-01,\n",
       "           5.0000e-01,  5.0000e-01]],\n",
       "\n",
       "        [[ 6.7375e-01,  5.0000e-01,  5.0000e-01,  ...,  5.0000e-01,\n",
       "           5.0000e-01,  5.0000e-01],\n",
       "         [ 6.3299e-01,  5.0000e-01,  5.0000e-01,  ...,  5.0000e-01,\n",
       "           5.0000e-01,  5.0000e-01],\n",
       "         [ 6.5371e-01,  5.0000e-01,  5.0000e-01,  ...,  5.0000e-01,\n",
       "           5.0000e-01,  5.0000e-01],\n",
       "         ...,\n",
       "         [ 1.0000e+00,  5.0000e-01,  5.0000e-01,  ...,  5.0000e-01,\n",
       "           5.0000e-01,  5.0000e-01],\n",
       "         [ 1.0000e+00,  5.0000e-01,  5.0000e-01,  ...,  5.0000e-01,\n",
       "           5.0000e-01,  5.0000e-01],\n",
       "         [ 1.0000e+00,  5.0000e-01,  5.0000e-01,  ...,  5.0000e-01,\n",
       "           5.0000e-01,  5.0000e-01]]])"
      ]
     },
     "execution_count": 6,
     "metadata": {},
     "output_type": "execute_result"
    }
   ],
   "source": [
    "dyna_mask_attr_mimic"
   ]
  },
  {
   "cell_type": "code",
   "execution_count": 5,
   "metadata": {},
   "outputs": [
    {
     "data": {
      "text/plain": [
       "Parameter containing:\n",
       "tensor([[[1.0000, 0.5000, 0.5000,  ..., 0.5000, 0.5000, 0.5000],\n",
       "         [1.0000, 0.5000, 0.5000,  ..., 0.5000, 0.5000, 0.5000],\n",
       "         [1.0000, 0.5000, 0.5000,  ..., 0.5000, 0.5000, 0.5000],\n",
       "         ...,\n",
       "         [1.0000, 0.5000, 0.5000,  ..., 0.5000, 0.5000, 0.5000],\n",
       "         [1.0000, 0.5000, 0.5000,  ..., 0.5000, 0.5000, 0.5000],\n",
       "         [1.0000, 0.5000, 0.5000,  ..., 0.5000, 0.5000, 0.5000]],\n",
       "\n",
       "        [[0.2646, 0.5000, 0.5105,  ..., 0.5000, 0.5000, 0.5000],\n",
       "         [0.4866, 0.5000, 0.5211,  ..., 0.5000, 0.5000, 0.5000],\n",
       "         [0.5995, 0.5000, 0.5403,  ..., 0.5000, 0.5000, 0.5000],\n",
       "         ...,\n",
       "         [0.0000, 0.5000, 1.0000,  ..., 0.5000, 0.5000, 0.5000],\n",
       "         [0.0000, 0.5000, 1.0000,  ..., 0.5000, 0.5000, 0.5000],\n",
       "         [0.0000, 0.5000, 1.0000,  ..., 0.5000, 0.5000, 0.5000]],\n",
       "\n",
       "        [[1.0000, 0.5000, 0.1679,  ..., 0.5000, 0.5000, 0.5000],\n",
       "         [1.0000, 0.5000, 0.2306,  ..., 0.5000, 0.5000, 0.5000],\n",
       "         [1.0000, 0.5000, 0.3078,  ..., 0.5000, 0.5000, 0.5000],\n",
       "         ...,\n",
       "         [1.0000, 0.5000, 1.0000,  ..., 0.5000, 0.5000, 0.5000],\n",
       "         [1.0000, 0.5000, 1.0000,  ..., 0.5000, 0.5000, 0.5000],\n",
       "         [1.0000, 0.5000, 1.0000,  ..., 0.5000, 0.5000, 0.5000]],\n",
       "\n",
       "        ...,\n",
       "\n",
       "        [[0.5138, 0.5000, 0.5209,  ..., 0.5000, 0.5000, 0.5000],\n",
       "         [0.5147, 0.5000, 0.5131,  ..., 0.5000, 0.5000, 0.5000],\n",
       "         [0.5222, 0.5000, 0.5014,  ..., 0.5000, 0.5000, 0.5000],\n",
       "         ...,\n",
       "         [0.0000, 0.5000, 1.0000,  ..., 0.5000, 0.5000, 0.5000],\n",
       "         [0.0000, 0.5000, 1.0000,  ..., 0.5000, 0.5000, 0.5000],\n",
       "         [0.0000, 0.5000, 1.0000,  ..., 0.5000, 0.5000, 0.5000]],\n",
       "\n",
       "        [[1.0000, 0.5000, 1.0000,  ..., 0.5000, 0.5000, 0.5000],\n",
       "         [1.0000, 0.5000, 1.0000,  ..., 0.5000, 0.5000, 0.5000],\n",
       "         [1.0000, 0.5000, 1.0000,  ..., 0.5000, 0.5000, 0.5000],\n",
       "         ...,\n",
       "         [0.0000, 0.5000, 0.0000,  ..., 0.5000, 0.5000, 0.5000],\n",
       "         [0.0000, 0.5000, 0.0000,  ..., 0.5000, 0.5000, 0.5000],\n",
       "         [0.0000, 0.5000, 0.0000,  ..., 0.5000, 0.5000, 0.5000]],\n",
       "\n",
       "        [[0.0000, 0.5000, 0.0000,  ..., 0.5000, 0.5000, 0.5000],\n",
       "         [0.0000, 0.5000, 0.1599,  ..., 0.5000, 0.5000, 0.5000],\n",
       "         [0.0000, 0.5000, 0.4145,  ..., 0.5000, 0.5000, 0.5000],\n",
       "         ...,\n",
       "         [0.0000, 0.5000, 0.0000,  ..., 0.5000, 0.5000, 0.5000],\n",
       "         [0.0000, 0.5000, 0.0000,  ..., 0.5000, 0.5000, 0.5000],\n",
       "         [0.0000, 0.5000, 0.0000,  ..., 0.5000, 0.5000, 0.5000]]],\n",
       "       requires_grad=True)"
      ]
     },
     "execution_count": 5,
     "metadata": {},
     "output_type": "execute_result"
    }
   ],
   "source": [
    "mask_net_proper.net.mask"
   ]
  },
  {
   "cell_type": "code",
   "execution_count": 3,
   "metadata": {},
   "outputs": [
    {
     "name": "stdout",
     "output_type": "stream",
     "text": [
      "Could not find and load experiments/checkpoints/mimic_copy/mimic3_augmented_occlusion_mask_42_1\n",
      "Could not find and load experiments/checkpoints/mimic_copy/mimic3_deep_lift_mask_42_1\n",
      "Could not find and load experiments/checkpoints/mimic_copy/mimic3_integrated_gradients_mask_42_1\n",
      "Could not find and load experiments/checkpoints/mimic_copy/mimic3_retain_mask_42_1\n"
     ]
    }
   ],
   "source": [
    "from tint.utils.model_loading import load_explainer\n",
    "\n",
    "(\n",
    "    extremal_mask_attr_mimic,\n",
    "    extremal_mask_explainer_mimic,\n",
    "    extremal_mask_mask_net_mimic,\n",
    ") = load_explainer(\n",
    "    dataset_name=\"mimic3\",\n",
    "    method=\"extremal_mask\",\n",
    "    seed=SEED,\n",
    "    fold=FOLD,\n",
    "    pickle_dir=PICKLE_DIR,\n",
    ")\n",
    "(\n",
    "    dyna_mask_attr_mimic,\n",
    "    dyna_mask_explainer_mimic,\n",
    "    dyna_mask_mask_net_mimic,\n",
    ") = load_explainer(\n",
    "    dataset_name=\"mimic3\",\n",
    "    method=\"dyna_mask\",\n",
    "    seed=SEED,\n",
    "    fold=FOLD,\n",
    "    pickle_dir=PICKLE_DIR,\n",
    ")\n",
    "aug_occlusion_attr_mimic, _, _ = load_explainer(\n",
    "    dataset_name=\"mimic3\",\n",
    "    method=\"augmented_occlusion\",\n",
    "    seed=SEED,\n",
    "    fold=FOLD,\n",
    "    pickle_dir=PICKLE_DIR,\n",
    ")\n",
    "deep_lift_attr_mimic, _, _ = load_explainer(\n",
    "    dataset_name=\"mimic3\",\n",
    "    method=\"deep_lift\",\n",
    "    seed=SEED,\n",
    "    fold=FOLD,\n",
    "    pickle_dir=PICKLE_DIR,\n",
    ")\n",
    "integrated_gradients_attr_mimic, _, _ = load_explainer(\n",
    "    dataset_name=\"mimic3\",\n",
    "    method=\"integrated_gradients\",\n",
    "    seed=SEED,\n",
    "    fold=FOLD,\n",
    "    pickle_dir=PICKLE_DIR,\n",
    ")\n",
    "retain_attr_mimic, _, _ = load_explainer(\n",
    "    dataset_name=\"mimic3\", method=\"retain\", seed=SEED, fold=FOLD, pickle_dir=PICKLE_DIR\n",
    ")"
   ]
  },
  {
   "cell_type": "markdown",
   "metadata": {},
   "source": [
    "The warning here is expected because the listed methods do not have a learned mask model."
   ]
  },
  {
   "cell_type": "code",
   "execution_count": 5,
   "metadata": {},
   "outputs": [
    {
     "data": {
      "text/plain": [
       "[0.1, 0.2, 0.30000000000000004, 0.4, 0.5, 0.6]"
      ]
     },
     "execution_count": 5,
     "metadata": {},
     "output_type": "execute_result"
    }
   ],
   "source": [
    "dyna_mask_mask_net_mimic.net.mask = "
   ]
  },
  {
   "cell_type": "markdown",
   "metadata": {},
   "source": [
    "### Load MIMIC-III dataset\n",
    "\n",
    "This is needed for visualizing multiple results, computing perturbations and new saliencies."
   ]
  },
  {
   "cell_type": "code",
   "execution_count": 3,
   "metadata": {},
   "outputs": [
    {
     "name": "stderr",
     "output_type": "stream",
     "text": [
      "Seed set to 42\n"
     ]
    }
   ],
   "source": [
    "from pytorch_lightning import seed_everything\n",
    "from tint.datasets import Mimic3\n",
    "\n",
    "# Make sure all seeds are set before loading data for reproducible results\n",
    "seed_everything(seed=SEED, workers=True)\n",
    "mimic3 = Mimic3(n_folds=5, fold=FOLD, seed=SEED)\n",
    "\n",
    "# Need to preprocess train before accessing test\n",
    "x_train = mimic3.preprocess(split=\"train\")[\"x\"]\n",
    "inputs_mimic = mimic3.preprocess(split=\"test\")[\"x\"]\n",
    "# Access the labels - whether the patient died (1) or not (0)\n",
    "y_test = mimic3.preprocess(split=\"test\")[\"y\"]"
   ]
  },
  {
   "cell_type": "code",
   "execution_count": 4,
   "metadata": {},
   "outputs": [],
   "source": [
    "from tint.datasets.mimic3 import lab_IDs, vital_IDs\n",
    "\n",
    "# Load all feature names for plotting later\n",
    "other_features = [\"Gender\", \"Age\", \"Ethnicity\", \"First ICU stay\"]\n",
    "feature_names = np.array(lab_IDs + vital_IDs + other_features)"
   ]
  },
  {
   "cell_type": "markdown",
   "metadata": {},
   "source": [
    "### Load and evaluate MIMIC-III classifier (only possible with access to MIMIC-III dataset)"
   ]
  },
  {
   "cell_type": "code",
   "execution_count": 5,
   "metadata": {},
   "outputs": [
    {
     "name": "stderr",
     "output_type": "stream",
     "text": [
      "GPU available: False, used: False\n",
      "TPU available: False, using: 0 TPU cores\n",
      "IPU available: False, using: 0 IPUs\n",
      "HPU available: False, using: 0 HPUs\n"
     ]
    },
    {
     "name": "stderr",
     "output_type": "stream",
     "text": [
      "2024-02-02 17:40:18.838518: E external/local_xla/xla/stream_executor/cuda/cuda_dnn.cc:9261] Unable to register cuDNN factory: Attempting to register factory for plugin cuDNN when one has already been registered\n",
      "2024-02-02 17:40:18.838557: E external/local_xla/xla/stream_executor/cuda/cuda_fft.cc:607] Unable to register cuFFT factory: Attempting to register factory for plugin cuFFT when one has already been registered\n",
      "2024-02-02 17:40:18.840143: E external/local_xla/xla/stream_executor/cuda/cuda_blas.cc:1515] Unable to register cuBLAS factory: Attempting to register factory for plugin cuBLAS when one has already been registered\n",
      "2024-02-02 17:40:18.849921: I tensorflow/core/platform/cpu_feature_guard.cc:182] This TensorFlow binary is optimized to use available CPU instructions in performance-critical operations.\n",
      "To enable the following instructions: AVX2 FMA, in other operations, rebuild TensorFlow with the appropriate compiler flags.\n",
      "2024-02-02 17:40:20.805886: W tensorflow/compiler/tf2tensorrt/utils/py_utils.cc:38] TF-TRT Warning: Could not find TensorRT\n"
     ]
    },
    {
     "name": "stdout",
     "output_type": "stream",
     "text": [
      "Testing DataLoader 0: 100%|██████████| 144/144 [00:03<00:00, 44.14it/s]\n",
      "────────────────────────────────────────────────────────────────────────────────────────────────────────────────────────\n",
      "       Test metric             DataLoader 0\n",
      "────────────────────────────────────────────────────────────────────────────────────────────────────────────────────────\n",
      "        test_acc             0.913223147392273\n",
      "       test_auroc             0.7833251953125\n",
      "        test_loss           0.25653332471847534\n",
      "        test_pre            0.5903614163398743\n",
      "        test_rec            0.11835748702287674\n",
      "────────────────────────────────────────────────────────────────────────────────────────────────────────────────────────\n",
      "\n"
     ]
    }
   ],
   "source": [
    "import random\n",
    "\n",
    "from pytorch_lightning import Trainer\n",
    "from pytorch_lightning.loggers import TensorBoardLogger\n",
    "from tint.utils.model_loading import get_classifier\n",
    "\n",
    "mimic3_cls = get_classifier(\n",
    "    experiment=\"mimic3\", seed=SEED, fold=FOLD, checkpoint_dir=CLS_DIR\n",
    ")\n",
    "mimic3_cls.eval()\n",
    "\n",
    "# Define the same trainer as in the experiments to\n",
    "# evaluate the classifier on the test part\n",
    "trainer = Trainer(\n",
    "    max_epochs=100,\n",
    "    accelerator=\"cpu\",\n",
    "    devices=1,\n",
    "    deterministic=True,\n",
    "    logger=TensorBoardLogger(\n",
    "        save_dir=\".\",\n",
    "        version=random.getrandbits(128),\n",
    "    ),\n",
    ")\n",
    "trainer.test(mimic3_cls, dataloaders=mimic3)\n",
    "print()"
   ]
  },
  {
   "cell_type": "code",
   "execution_count": 6,
   "metadata": {},
   "outputs": [
    {
     "name": "stdout",
     "output_type": "stream",
     "text": [
      "Total patients in the training set: 18390\n",
      "Alive patients: 16514 (89.80%), dead: 1876 (10.20%)\n"
     ]
    }
   ],
   "source": [
    "outcomes_train = mimic3.preprocess(split=\"train\")[\"y\"]\n",
    "alive_train, dead_train = outcomes_train.unique(return_counts=True)[1]\n",
    "total_train = len(outcomes_train)\n",
    "print(f\"Total patients in the training set: {total_train}\")\n",
    "print(\n",
    "    f\"Alive patients: {alive_train} ({alive_train/total_train * 100 :.2f}%), dead: {dead_train} ({dead_train/total_train * 100:.2f}%)\"\n",
    ")"
   ]
  },
  {
   "cell_type": "markdown",
   "metadata": {},
   "source": [
    "As we can see, the dataset is very imbalanced. We observe that the classifier has achieved a high accuracy (91.3%), but it is not that good if we note that 89.80% of the data points in the training dataset have negative labels. We should bear this result in mind when looking at our subsequent analysis."
   ]
  },
  {
   "cell_type": "markdown",
   "metadata": {},
   "source": [
    "### Figure out at which indices the classifier predicted a positive class"
   ]
  },
  {
   "cell_type": "code",
   "execution_count": 7,
   "metadata": {},
   "outputs": [
    {
     "name": "stdout",
     "output_type": "stream",
     "text": [
      "Predicting DataLoader 0: 100%|██████████| 144/144 [00:02<00:00, 58.24it/s]\n"
     ]
    }
   ],
   "source": [
    "# Batch size = 32, that's why 144 predictions / epochs\n",
    "predictions = trainer.predict(mimic3_cls, dataloaders=mimic3.test_dataloader())\n",
    "\n",
    "# Convert classification network's logits to concrete predictions\n",
    "intermediate = np.array(predictions[0])\n",
    "for i in range(1, len(predictions)):\n",
    "    intermediate = np.append(intermediate, predictions[i], axis=0)\n",
    "\n",
    "predictions = th.argmax(th.tensor(intermediate), dim=1)"
   ]
  },
  {
   "cell_type": "code",
   "execution_count": 8,
   "metadata": {},
   "outputs": [
    {
     "data": {
      "text/plain": [
       "tensor([   4,   64,  223,  316,  345,  399,  673,  687,  728,  747,  764,  928,\n",
       "         954, 1030, 1073, 1171, 1235, 1317, 1430, 1527, 1680, 1718, 1778, 1801,\n",
       "        1966, 1971, 1991, 2110, 2242, 2254, 2257, 2381, 2383, 2408, 2430, 2702,\n",
       "        2717, 2777, 2838, 3045, 3086, 3095, 3113, 3136, 3173, 3262, 3422, 3449,\n",
       "        3462, 3575, 3585, 3589, 3604, 3661, 3968, 3972, 3983, 4006, 4025, 4061,\n",
       "        4155, 4256, 4281, 4420, 4483, 4517, 4581])"
      ]
     },
     "execution_count": 8,
     "metadata": {},
     "output_type": "execute_result"
    }
   ],
   "source": [
    "# Take only the dead patients\n",
    "dead_indices = th.where(y_test == 1)[0]\n",
    "# For which patients did the classifier correctly predict deaths?\n",
    "dead_indices[th.where(y_test[dead_indices] == predictions[dead_indices])[0]]"
   ]
  },
  {
   "cell_type": "markdown",
   "metadata": {},
   "source": [
    "### Compute perturbations using the trained networks of ExtremalMask and DynaMask"
   ]
  },
  {
   "cell_type": "code",
   "execution_count": 10,
   "metadata": {},
   "outputs": [
    {
     "ename": "TypeError",
     "evalue": "unsupported operand type(s) for -: 'float' and 'NoneType'",
     "output_type": "error",
     "traceback": [
      "\u001b[0;31m---------------------------------------------------------------------------\u001b[0m",
      "\u001b[0;31mTypeError\u001b[0m                                 Traceback (most recent call last)",
      "\u001b[1;32m/home/paulius/projects/fact/factai/visualization.ipynb Cell 19\u001b[0m line \u001b[0;36m2\n\u001b[1;32m      <a href='vscode-notebook-cell:/home/paulius/projects/fact/factai/visualization.ipynb#X24sZmlsZQ%3D%3D?line=3'>4</a>\u001b[0m (\n\u001b[1;32m      <a href='vscode-notebook-cell:/home/paulius/projects/fact/factai/visualization.ipynb#X24sZmlsZQ%3D%3D?line=4'>5</a>\u001b[0m     extremal_mimic_batch,\n\u001b[1;32m      <a href='vscode-notebook-cell:/home/paulius/projects/fact/factai/visualization.ipynb#X24sZmlsZQ%3D%3D?line=5'>6</a>\u001b[0m     extremal_perturbation_mimic,\n\u001b[0;32m   (...)\u001b[0m\n\u001b[1;32m     <a href='vscode-notebook-cell:/home/paulius/projects/fact/factai/visualization.ipynb#X24sZmlsZQ%3D%3D?line=13'>14</a>\u001b[0m     batch_idx\u001b[39m=\u001b[39m\u001b[39m0\u001b[39m,\n\u001b[1;32m     <a href='vscode-notebook-cell:/home/paulius/projects/fact/factai/visualization.ipynb#X24sZmlsZQ%3D%3D?line=14'>15</a>\u001b[0m )\n\u001b[1;32m     <a href='vscode-notebook-cell:/home/paulius/projects/fact/factai/visualization.ipynb#X24sZmlsZQ%3D%3D?line=16'>17</a>\u001b[0m \u001b[39m# Batch size for dyna is also 100\u001b[39;00m\n\u001b[1;32m     <a href='vscode-notebook-cell:/home/paulius/projects/fact/factai/visualization.ipynb#X24sZmlsZQ%3D%3D?line=17'>18</a>\u001b[0m (\n\u001b[1;32m     <a href='vscode-notebook-cell:/home/paulius/projects/fact/factai/visualization.ipynb#X24sZmlsZQ%3D%3D?line=18'>19</a>\u001b[0m     dyna_mimic_batch,\n\u001b[1;32m     <a href='vscode-notebook-cell:/home/paulius/projects/fact/factai/visualization.ipynb#X24sZmlsZQ%3D%3D?line=19'>20</a>\u001b[0m     dyna_perturbation_mimic,\n\u001b[1;32m     <a href='vscode-notebook-cell:/home/paulius/projects/fact/factai/visualization.ipynb#X24sZmlsZQ%3D%3D?line=20'>21</a>\u001b[0m     dyna_mask_attr_mimic_batch,\n\u001b[1;32m     <a href='vscode-notebook-cell:/home/paulius/projects/fact/factai/visualization.ipynb#X24sZmlsZQ%3D%3D?line=21'>22</a>\u001b[0m     dyna_x1_mimic,\n\u001b[1;32m     <a href='vscode-notebook-cell:/home/paulius/projects/fact/factai/visualization.ipynb#X24sZmlsZQ%3D%3D?line=22'>23</a>\u001b[0m     dyna_x2_mimic,\n\u001b[0;32m---> <a href='vscode-notebook-cell:/home/paulius/projects/fact/factai/visualization.ipynb#X24sZmlsZQ%3D%3D?line=23'>24</a>\u001b[0m ) \u001b[39m=\u001b[39m compute_perturbations(\n\u001b[1;32m     <a href='vscode-notebook-cell:/home/paulius/projects/fact/factai/visualization.ipynb#X24sZmlsZQ%3D%3D?line=24'>25</a>\u001b[0m     data\u001b[39m=\u001b[39;49minputs_mimic,\n\u001b[1;32m     <a href='vscode-notebook-cell:/home/paulius/projects/fact/factai/visualization.ipynb#X24sZmlsZQ%3D%3D?line=25'>26</a>\u001b[0m     mask_net\u001b[39m=\u001b[39;49mdyna_mask_mask_net_mimic,\n\u001b[1;32m     <a href='vscode-notebook-cell:/home/paulius/projects/fact/factai/visualization.ipynb#X24sZmlsZQ%3D%3D?line=26'>27</a>\u001b[0m     perturb_net\u001b[39m=\u001b[39;49m\u001b[39mNone\u001b[39;49;00m,\n\u001b[1;32m     <a href='vscode-notebook-cell:/home/paulius/projects/fact/factai/visualization.ipynb#X24sZmlsZQ%3D%3D?line=27'>28</a>\u001b[0m     batch_idx\u001b[39m=\u001b[39;49m\u001b[39m0\u001b[39;49m,\n\u001b[1;32m     <a href='vscode-notebook-cell:/home/paulius/projects/fact/factai/visualization.ipynb#X24sZmlsZQ%3D%3D?line=28'>29</a>\u001b[0m )\n",
      "File \u001b[0;32m~/projects/fact/factai/tint/utils/perturbations.py:30\u001b[0m, in \u001b[0;36mcompute_perturbations\u001b[0;34m(data, mask_net, perturb_net, batch_idx)\u001b[0m\n\u001b[1;32m     14\u001b[0m \u001b[39m\u001b[39m\u001b[39m\"\"\"Use the trained mask network to compute perturbations and their intermediate results.\u001b[39;00m\n\u001b[1;32m     15\u001b[0m \n\u001b[1;32m     16\u001b[0m \u001b[39mThis function only works for explainer methods that train a mask network. Such methods include DynaMask and ExtremalMask.\u001b[39;00m\n\u001b[0;32m   (...)\u001b[0m\n\u001b[1;32m     27\u001b[0m \u001b[39m- tensor of inputs with unimportant features masked, i.e.: data * (1 - mask) + NN(data) * data\u001b[39;00m\n\u001b[1;32m     28\u001b[0m \u001b[39m\"\"\"\u001b[39;00m\n\u001b[1;32m     29\u001b[0m \u001b[39mif\u001b[39;00m \u001b[39misinstance\u001b[39m(mask_net, MaskNet):\n\u001b[0;32m---> 30\u001b[0m     \u001b[39mreturn\u001b[39;00m _compute_perturbations_dynamask(data, mask_net, batch_idx)\n\u001b[1;32m     31\u001b[0m \u001b[39melif\u001b[39;00m \u001b[39misinstance\u001b[39m(mask_net, ExtremalMaskNet):\n\u001b[1;32m     32\u001b[0m     \u001b[39mreturn\u001b[39;00m _compute_perturbations_extremal(data, mask_net, perturb_net, batch_idx)\n",
      "File \u001b[0;32m~/projects/fact/factai/tint/utils/perturbations.py:79\u001b[0m, in \u001b[0;36m_compute_perturbations_dynamask\u001b[0;34m(data, mask_net, batch_idx)\u001b[0m\n\u001b[1;32m     75\u001b[0m \u001b[39mdef\u001b[39;00m \u001b[39m_compute_perturbations_dynamask\u001b[39m(\n\u001b[1;32m     76\u001b[0m     data: th\u001b[39m.\u001b[39mTensor, mask_net: MaskNet, batch_idx: \u001b[39mint\u001b[39m\n\u001b[1;32m     77\u001b[0m ) \u001b[39m-\u001b[39m\u001b[39m>\u001b[39m (th\u001b[39m.\u001b[39mTensor, th\u001b[39m.\u001b[39mTensor, th\u001b[39m.\u001b[39mTensor, th\u001b[39m.\u001b[39mTensor, th\u001b[39m.\u001b[39mTensor):\n\u001b[1;32m     78\u001b[0m     \u001b[39mif\u001b[39;00m mask_net\u001b[39m.\u001b[39mnet\u001b[39m.\u001b[39mperturbation \u001b[39m==\u001b[39m \u001b[39m\"\u001b[39m\u001b[39mfade_moving_average\u001b[39m\u001b[39m\"\u001b[39m:\n\u001b[0;32m---> 79\u001b[0m         \u001b[39mreturn\u001b[39;00m _fade_moving_average(x\u001b[39m=\u001b[39;49mdata, mask_net\u001b[39m=\u001b[39;49mmask_net, batch_idx\u001b[39m=\u001b[39;49mbatch_idx)\n\u001b[1;32m     80\u001b[0m     \u001b[39melse\u001b[39;00m:\n\u001b[1;32m     81\u001b[0m         \u001b[39mraise\u001b[39;00m \u001b[39mNotImplementedError\u001b[39;00m(\n\u001b[1;32m     82\u001b[0m             \u001b[39m\"\u001b[39m\u001b[39mOnly fade_moving_average is implemented for fixed-function perturbation\u001b[39m\u001b[39m\"\u001b[39m\n\u001b[1;32m     83\u001b[0m         )\n",
      "File \u001b[0;32m~/projects/fact/factai/tint/utils/perturbations.py:94\u001b[0m, in \u001b[0;36m_fade_moving_average\u001b[0;34m(x, mask_net, batch_idx)\u001b[0m\n\u001b[1;32m     89\u001b[0m \u001b[39m\u001b[39m\u001b[39m\"\"\"Computes perturbation components using fade moving average.\u001b[39;00m\n\u001b[1;32m     90\u001b[0m \n\u001b[1;32m     91\u001b[0m \u001b[39mAdapted from MaskNet class.\u001b[39;00m\n\u001b[1;32m     92\u001b[0m \u001b[39m\"\"\"\u001b[39;00m\n\u001b[1;32m     93\u001b[0m net \u001b[39m=\u001b[39m mask_net\u001b[39m.\u001b[39mnet\n\u001b[0;32m---> 94\u001b[0m mask \u001b[39m=\u001b[39m \u001b[39m1.0\u001b[39;49m \u001b[39m-\u001b[39;49m net\u001b[39m.\u001b[39;49mmask \u001b[39mif\u001b[39;00m net\u001b[39m.\u001b[39mdeletion_mode \u001b[39melse\u001b[39;00m net\u001b[39m.\u001b[39mmask\n\u001b[1;32m     96\u001b[0m \u001b[39mprint\u001b[39m(net\u001b[39m.\u001b[39mkeep_ratio)\n\u001b[1;32m     97\u001b[0m \u001b[39mprint\u001b[39m(net\u001b[39m.\u001b[39mbatch_size)\n",
      "\u001b[0;31mTypeError\u001b[0m: unsupported operand type(s) for -: 'float' and 'NoneType'"
     ]
    }
   ],
   "source": [
    "from tint.utils.perturbations import compute_perturbations\n",
    "\n",
    "# Batch size for extremal was 100, which has idx = 0 if we want to visualize NEG_ID = 33 or POS_ID = 64\n",
    "(\n",
    "    extremal_mimic_batch,\n",
    "    extremal_perturbation_mimic,\n",
    "    extremal_mask_attr_mimic_batch,\n",
    "    extremal_x1_mimic,\n",
    "    extremal_x2_mimic,\n",
    ") = compute_perturbations(\n",
    "    data=inputs_mimic,\n",
    "    mask_net=extremal_mask_mask_net_mimic,\n",
    "    perturb_net=extremal_mask_mask_net_mimic.net.model,\n",
    "    batch_idx=0,\n",
    ")\n",
    "\n",
    "# Batch size for dyna is also 100\n",
    "(\n",
    "    dyna_mimic_batch,\n",
    "    dyna_perturbation_mimic,\n",
    "    dyna_mask_attr_mimic_batch,\n",
    "    dyna_x1_mimic,\n",
    "    dyna_x2_mimic,\n",
    ") = compute_perturbations(\n",
    "    data=inputs_mimic,\n",
    "    mask_net=dyna_mask_mask_net_mimic,\n",
    "    perturb_net=None,\n",
    "    batch_idx=0,\n",
    ")"
   ]
  },
  {
   "cell_type": "code",
   "execution_count": 12,
   "metadata": {},
   "outputs": [],
   "source": [
    "from tint.utils.perturbations import compute_alternative\n",
    "\n",
    "extremal_alternative_mimic = compute_alternative(\n",
    "    batch=extremal_mimic_batch,\n",
    "    mask=extremal_mask_mimic,\n",
    "    perturbation=extremal_perturbation_mimic,\n",
    ")\n",
    "\n",
    "dyna_alternative_mimic = compute_alternative(\n",
    "    batch=dyna_mimic_batch, mask=dyna_mask_mimic, perturbation=dyna_perturbation_mimic\n",
    ")"
   ]
  },
  {
   "cell_type": "markdown",
   "metadata": {},
   "source": [
    "### Plot mask and alternative saliency for ExtremalMask and DynaMask methods for positive class (Figure 1)"
   ]
  },
  {
   "cell_type": "code",
   "execution_count": 13,
   "metadata": {},
   "outputs": [
    {
     "data": {
      "image/png": "[encoded data removed]",
      "text/plain": [
       "<Figure size 1000x800 with 5 Axes>"
      ]
     },
     "metadata": {},
     "output_type": "display_data"
    }
   ],
   "source": [
    "from tint.utils.plotting import plot_heatmap\n",
    "\n",
    "POS_ID = 64  # This is an example of the indices found above\n",
    "saliencies = {\n",
    "    \"ExtremalMask\": extremal_mask_attr_mimic[POS_ID].T,\n",
    "    \"ExtremalMask, alternative saliency\": extremal_alternative_mimic[POS_ID].T,\n",
    "    \"DynaMask\": dyna_mask_mimic[POS_ID].T,\n",
    "    \"DynaMask, alternative saliency\": dyna_alternative_mimic[POS_ID].T,\n",
    "}\n",
    "plot_heatmap(saliencies, title=f\"Patient {POS_ID}, prediction = die\")"
   ]
  },
  {
   "cell_type": "code",
   "execution_count": null,
   "metadata": {},
   "outputs": [],
   "source": [
    "from tint.utils.plotting import plot_heatmap\n",
    "\n",
    "NEG_ID = 33\n",
    "saliencies = {\n",
    "    \"extremal\": extremal_mask_attr_mimic[NEG_ID].T,\n",
    "    \"dynamask\": dyna_mask_attr_mimic[NEG_ID].T,\n",
    "    title=f\"Patient {NEG_ID}, prediction = survive\"\n",
    "}\n",
    "plot_heatmap(saliencies, title=None)"
   ]
  },
  {
   "cell_type": "markdown",
   "metadata": {},
   "source": [
    "### Compare many explainer methods on a positive sample (Figure X in the appendix)"
   ]
  },
  {
   "cell_type": "code",
   "execution_count": null,
   "metadata": {},
   "outputs": [],
   "source": [
    "saliencies = {\n",
    "    \"ExtremalMask\": extremal_mask_attr_mimic[POS_ID].T,\n",
    "    \"DynaMask\": dyna_mask_attr_mimic[POS_ID].T,\n",
    "    \"Deep Lift\": deep_lift_attr_mimic[POS_ID].T,\n",
    "    \"Augmented Occlusion\": aug_occlusion_attr_mimic[POS_ID].T,\n",
    "    \"Retain\": retain_attr_mimic[POS_ID].T,\n",
    "    \"Integrated gradients\": aug_occlusion_attr_mimic[POS_ID].T,\n",
    "}\n",
    "plot_heatmap(saliencies, title=f\"Patient {POS_ID}, prediction = die\")"
   ]
  },
  {
   "cell_type": "markdown",
   "metadata": {},
   "source": [
    "### Compare many explainer methods on a negative sample (Figure X in the appendix)"
   ]
  },
  {
   "cell_type": "code",
   "execution_count": null,
   "metadata": {},
   "outputs": [],
   "source": [
    "saliencies = {\n",
    "    \"ExtremalMask\": extremal_mask_attr_mimic[NEG_ID].T,\n",
    "    \"DynaMask\": dyna_mask_attr_mimic[NEG_ID].T,\n",
    "    \"Deep Lift\": deep_lift_attr_mimic[NEG_ID].T,\n",
    "    \"Augmented Occlusion\": aug_occlusion_attr_mimic[NEG_ID].T,\n",
    "    \"Retain\": retain_attr_mimic[NEG_ID].T,\n",
    "    \"Integrated gradients\": aug_occlusion_attr_mimic[NEG_ID].T,\n",
    "}\n",
    "plot_heatmap(saliencies, title=f\"Patient {NEG_ID}, prediction = survive\")"
   ]
  },
  {
   "cell_type": "markdown",
   "metadata": {},
   "source": [
    "### Detailed visualization of saliency predictions (Figure 2a)"
   ]
  },
  {
   "cell_type": "code",
   "execution_count": 24,
   "metadata": {},
   "outputs": [
    {
     "ename": "NameError",
     "evalue": "name 'extremal_mimic_batch' is not defined",
     "output_type": "error",
     "traceback": [
      "\u001b[0;31m---------------------------------------------------------------------------\u001b[0m",
      "\u001b[0;31mNameError\u001b[0m                                 Traceback (most recent call last)",
      "\u001b[1;32m/home/paulius/projects/fact/factai/visualization.ipynb Cell 29\u001b[0m line \u001b[0;36m6\n\u001b[1;32m      <a href='vscode-notebook-cell:/home/paulius/projects/fact/factai/visualization.ipynb#X40sZmlsZQ%3D%3D?line=2'>3</a>\u001b[0m \u001b[39m# Take the top 5 important features from the mean attribution plot below\u001b[39;00m\n\u001b[1;32m      <a href='vscode-notebook-cell:/home/paulius/projects/fact/factai/visualization.ipynb#X40sZmlsZQ%3D%3D?line=3'>4</a>\u001b[0m imp_feat_idx \u001b[39m=\u001b[39m np\u001b[39m.\u001b[39marray([\u001b[39m0\u001b[39m, \u001b[39m2\u001b[39m, \u001b[39m11\u001b[39m, \u001b[39m20\u001b[39m, \u001b[39m24\u001b[39m])\n\u001b[1;32m      <a href='vscode-notebook-cell:/home/paulius/projects/fact/factai/visualization.ipynb#X40sZmlsZQ%3D%3D?line=4'>5</a>\u001b[0m plot_saliency(\n\u001b[0;32m----> <a href='vscode-notebook-cell:/home/paulius/projects/fact/factai/visualization.ipynb#X40sZmlsZQ%3D%3D?line=5'>6</a>\u001b[0m     ts_data\u001b[39m=\u001b[39mextremal_mimic_batch[POS_ID]\u001b[39m.\u001b[39mT[imp_feat_idx],\n\u001b[1;32m      <a href='vscode-notebook-cell:/home/paulius/projects/fact/factai/visualization.ipynb#X40sZmlsZQ%3D%3D?line=6'>7</a>\u001b[0m     saliency_list\u001b[39m=\u001b[39mextremal_mask_mimic[POS_ID]\u001b[39m.\u001b[39mT[imp_feat_idx],\n\u001b[1;32m      <a href='vscode-notebook-cell:/home/paulius/projects/fact/factai/visualization.ipynb#X40sZmlsZQ%3D%3D?line=7'>8</a>\u001b[0m     perturbed\u001b[39m=\u001b[39mextremal_x1_mimic[POS_ID]\u001b[39m.\u001b[39mT[imp_feat_idx],\n\u001b[1;32m      <a href='vscode-notebook-cell:/home/paulius/projects/fact/factai/visualization.ipynb#X40sZmlsZQ%3D%3D?line=8'>9</a>\u001b[0m     suptitle\u001b[39m=\u001b[39m\u001b[39mf\u001b[39m\u001b[39m\"\u001b[39m\u001b[39mPatient \u001b[39m\u001b[39m{\u001b[39;00mPOS_ID\u001b[39m}\u001b[39;00m\u001b[39m, prediction = die. Top 5 most important features\u001b[39m\u001b[39m\"\u001b[39m,\n\u001b[1;32m     <a href='vscode-notebook-cell:/home/paulius/projects/fact/factai/visualization.ipynb#X40sZmlsZQ%3D%3D?line=9'>10</a>\u001b[0m     feature_names\u001b[39m=\u001b[39mnp\u001b[39m.\u001b[39marray(feature_names)[imp_feat_idx],\n\u001b[1;32m     <a href='vscode-notebook-cell:/home/paulius/projects/fact/factai/visualization.ipynb#X40sZmlsZQ%3D%3D?line=10'>11</a>\u001b[0m )\n",
      "\u001b[0;31mNameError\u001b[0m: name 'extremal_mimic_batch' is not defined"
     ]
    }
   ],
   "source": [
    "from tint.utils.plotting import plot_saliency\n",
    "\n",
    "# Take the top 5 important features from the mean attribution plot below\n",
    "imp_feat_idx = np.array([0, 2, 11, 20, 24])\n",
    "plot_saliency(\n",
    "    ts_data=extremal_mimic_batch[POS_ID].T[imp_feat_idx],\n",
    "    saliency_list=extremal_mask_mimic[POS_ID].T[imp_feat_idx],\n",
    "    perturbed=extremal_x1_mimic[POS_ID].T[imp_feat_idx],\n",
    "    suptitle=f\"Patient {POS_ID}, prediction = die. Top 5 most important features\",\n",
    "    feature_names=np.array(feature_names)[imp_feat_idx],\n",
    ")"
   ]
  },
  {
   "cell_type": "markdown",
   "metadata": {},
   "source": [
    "### Investigate ANION GAP feature at a closer look (Figure X in the Appendix)"
   ]
  },
  {
   "cell_type": "code",
   "execution_count": null,
   "metadata": {},
   "outputs": [],
   "source": [
    "from tint.utils.plotting import plot_components\n",
    "\n",
    "feat_no = 0  # ANION GAP index\n",
    "plot_components(\n",
    "    orig=extremal_mimic_batch[POS_ID].T[feat_no],\n",
    "    perturbed=extremal_x1_mimic[POS_ID].T[feat_no],\n",
    "    mask=extremal_mask_mimic[POS_ID].T[feat_no],\n",
    "    perturbation=extremal_perturbation_mimic[POS_ID].T[feat_no],\n",
    "    suptitle=f\"Patient sample {POS_ID}, prediction = die, feature {feature_names[feat_no]}\",\n",
    "    figsize=(8, 8),\n",
    ")"
   ]
  },
  {
   "cell_type": "markdown",
   "metadata": {},
   "source": [
    "### Plotting alternative saliency (Figure 2b)"
   ]
  },
  {
   "cell_type": "code",
   "execution_count": null,
   "metadata": {},
   "outputs": [],
   "source": [
    "plot_saliency(\n",
    "    ts_data=extremal_mimic_batch[POS_ID].T[imp_feat_idx],\n",
    "    saliency_list=extremal_alternative_mimic[POS_ID].T[imp_feat_idx],\n",
    "    perturbed=extremal_x1_mimic[POS_ID].T[imp_feat_idx],\n",
    "    suptitle=f\"Patient {POS_ID}, prediction = die. Top 5 most important features. Alternative saliency\",\n",
    "    feature_names=np.array(feature_names)[imp_feat_idx],\n",
    ")"
   ]
  },
  {
   "cell_type": "markdown",
   "metadata": {},
   "source": [
    "###  Plotting feature importances for identifying deaths in patients (Figure 3 in our paper)\n",
    "\n",
    "Reproducing Figure 5 from the original paper"
   ]
  },
  {
   "cell_type": "code",
   "execution_count": null,
   "metadata": {},
   "outputs": [],
   "source": [
    "# Filter data to postive (dead) patients\n",
    "dead_indices = th.where(y_test == 1)[0]\n",
    "dead_attr = extremal_mask_attr_mimic[dead_indices]"
   ]
  },
  {
   "cell_type": "code",
   "execution_count": null,
   "metadata": {},
   "outputs": [],
   "source": [
    "dead_attr.shape"
   ]
  },
  {
   "cell_type": "markdown",
   "metadata": {},
   "source": [
    "414 positive, or dead, patients."
   ]
  },
  {
   "cell_type": "code",
   "execution_count": null,
   "metadata": {},
   "outputs": [],
   "source": [
    "from tint.utils.plotting import plot_mean_attributions\n",
    "\n",
    "plot_mean_attributions(attr=dead_attr, xtick_labels=feature_names)"
   ]
  },
  {
   "cell_type": "code",
   "execution_count": null,
   "metadata": {},
   "outputs": [],
   "source": [
    "mimic_batch, perturbation_mimic, mask_mimic, x1_mimic, x2_mimic = compute_perturbations(\n",
    "    data=inputs_mimic,\n",
    "    mask_net=extremal_mask_mask_net_mimic,\n",
    "    perturb_net=extremal_mask_mask_net_mimic.net.model,\n",
    "    batch_idx=None,  # Set to None to compute perturbations for the whole dataset\n",
    ")\n",
    "alternative_mimic = compute_alternative(\n",
    "    batch=mimic_batch, mask=mask_mimic, perturbation=perturbation_mimic\n",
    ")\n",
    "# Cut alternative to the dead/positive cases\n",
    "dead_alternative = alternative_mimic[dead_indices]"
   ]
  },
  {
   "cell_type": "code",
   "execution_count": null,
   "metadata": {},
   "outputs": [],
   "source": [
    "plot_mean_attributions(dead_alternative, xtick_labels=feature_names)"
   ]
  },
  {
   "cell_type": "markdown",
   "metadata": {},
   "source": [
    "The most important features for identifying deaths using the original saliency are: PLATELET, ANION GAP, BICARBONATE, SysBP, HeartRate. \n",
    "\n",
    "The most important features for identifying deaths using the alternative saliency are: WBC, Temp, SpO2, RespRate, DiasBP."
   ]
  },
  {
   "cell_type": "markdown",
   "metadata": {},
   "source": [
    "## HMM"
   ]
  },
  {
   "cell_type": "code",
   "execution_count": 18,
   "metadata": {},
   "outputs": [],
   "source": [
    "SEED = 42\n",
    "FOLD = 0\n",
    "HMM_PICKLE_DIR = \"experiments/pickles/hmm_copy/\""
   ]
  },
  {
   "cell_type": "code",
   "execution_count": 19,
   "metadata": {},
   "outputs": [],
   "source": [
    "from tint.utils.model_loading import load_explainer\n",
    "\n",
    "dyna_mask_attr_hmm, dyna_mask_explainer_hmm, dyna_mask_mask_net_hmm = load_explainer(\n",
    "    dataset_name=\"hmm\",\n",
    "    method=\"dyna_mask\",\n",
    "    seed=SEED,\n",
    "    fold=FOLD,\n",
    "    pickle_dir=HMM_PICKLE_DIR,\n",
    ")\n",
    "(\n",
    "    extremal_mask_attr_hmm,\n",
    "    extremal_mask_explainer_hmm,\n",
    "    extremal_mask_mask_net_hmm,\n",
    ") = load_explainer(\n",
    "    dataset_name=\"hmm\",\n",
    "    method=\"extremal_mask\",\n",
    "    seed=SEED,\n",
    "    fold=FOLD,\n",
    "    pickle_dir=HMM_PICKLE_DIR,\n",
    ")"
   ]
  },
  {
   "cell_type": "code",
   "execution_count": null,
   "metadata": {},
   "outputs": [],
   "source": [
    "# TODO: use mask net instead of the cached mask"
   ]
  },
  {
   "cell_type": "markdown",
   "metadata": {},
   "source": [
    "### Method 1 (shorter)"
   ]
  },
  {
   "cell_type": "code",
   "execution_count": null,
   "metadata": {},
   "outputs": [],
   "source": [
    "# Load HMM data\n",
    "from pytorch_lightning import seed_everything\n",
    "from tint.datasets import HMM\n",
    "\n",
    "# Load only the test data because the classifier was trained on train part\n",
    "# but the mask net and explainer was trained on the test part to explain the\n",
    "# classifier's decision\n",
    "# hmm.download(split=\"train\")\n",
    "# x_train = hmm.preprocess(split=\"train\")[\"x\"]\n",
    "\n",
    "# Make sure to seed before data generation to return numpy and other libraries to their original state\n",
    "# in order to generate the same data with the same seed as the process for training the models\n",
    "seed_everything(seed=SEED, workers=True)\n",
    "\n",
    "FOLD = 0\n",
    "\n",
    "hmm = HMM(n_folds=5, fold=FOLD, seed=SEED)\n",
    "hmm.download(split=\"test\")\n",
    "inputs_hmm = hmm.preprocess(split=\"test\")[\"x\"]\n",
    "y_hmm = hmm.preprocess(split=\"test\")[\"y\"]\n",
    "true_saliency_hmm = hmm.true_saliency(split=\"test\")\n",
    "print(\"batch size, time series length, no. features\", inputs_hmm.size())"
   ]
  },
  {
   "cell_type": "code",
   "execution_count": null,
   "metadata": {},
   "outputs": [],
   "source": [
    "from tint.utils.perturbations import compute_perturbations\n",
    "\n",
    "(\n",
    "    extremal_batch_hmm,\n",
    "    extremal_perturbation_hmm,\n",
    "    extremal_mask_hmm,\n",
    "    extremal_x1_hmm,\n",
    "    extremal_x2_hmm,\n",
    ") = compute_perturbations(\n",
    "    data=inputs_hmm,\n",
    "    mask_net=extremal_mask_mask_net_hmm,\n",
    "    perturb_net=extremal_mask_mask_net_hmm.net.model,\n",
    "    batch_idx=0,\n",
    ")"
   ]
  },
  {
   "cell_type": "code",
   "execution_count": null,
   "metadata": {},
   "outputs": [],
   "source": [
    "from tint.utils.plotting import plot_components\n",
    "\n",
    "feat_no = 1\n",
    "POS_ID = 2\n",
    "plot_components(\n",
    "    orig=extremal_batch_hmm[POS_ID].T[feat_no],\n",
    "    perturbed=extremal_x1_hmm[POS_ID].T[feat_no],\n",
    "    mask=extremal_mask_hmm[POS_ID].T[feat_no],\n",
    "    perturbation=extremal_perturbation_hmm[POS_ID].T[feat_no],\n",
    "    suptitle=f\"HMM sample {POS_ID}, feature {feat_no}\",\n",
    "    figsize=(8, 8),\n",
    ")"
   ]
  },
  {
   "cell_type": "code",
   "execution_count": null,
   "metadata": {},
   "outputs": [],
   "source": [
    "from tint.metrics.white_box import aup, aur, entropy, information, rmse\n",
    "\n",
    "print(f\"AUP: {aup(extremal_mask_attr_hmm2.cpu(), true_saliency_hmm):.4}\")\n",
    "print(f\"AUR: {aur(extremal_mask_attr_hmm2.cpu(), true_saliency_hmm):.4}\")\n",
    "# print(f\"RMSE: {rmse(extremal_mask_attr_hmm, true_saliency_hmm):.4}\")\n",
    "print(f\"Information: {information(extremal_mask_attr_hmm2, true_saliency_hmm):.4}\")\n",
    "print(f\"Entropy: {entropy(extremal_mask_attr_hmm2, true_saliency_hmm):.4}\")\n",
    "\n",
    "# 0.9167, 0.7638, 2.954e05, 7.595e03 (snellius)\n",
    "# 0.9164, 0.7644, 2.961e+05, 7.52e+03 (locally trained on cpu)"
   ]
  },
  {
   "cell_type": "code",
   "execution_count": null,
   "metadata": {},
   "outputs": [],
   "source": [
    "from tint.metrics.white_box import aup, aur, entropy, information, rmse\n",
    "\n",
    "print(f\"AUP: {aup(extremal_mask_attr_hmm.cpu(), true_saliency_hmm.cpu()):.4}\")\n",
    "print(f\"AUR: {aur(extremal_mask_attr_hmm, true_saliency_hmm):.4}\")\n",
    "# print(f\"RMSE: {rmse(extremal_mask_attr_hmm, true_saliency_hmm):.4}\")\n",
    "print(f\"Information: {information(extremal_mask_attr_hmm, true_saliency_hmm):.4}\")\n",
    "print(f\"Entropy: {entropy(extremal_mask_attr_hmm, true_saliency_hmm):.4}\")\n",
    "\n",
    "# 0.9167, 0.7638, 2.954e05, 7.595e03 (snellius)\n",
    "# 0.9164, 0.7644, 2.961e+05, 7.52e+03 (locally trained on cpu)"
   ]
  },
  {
   "cell_type": "code",
   "execution_count": null,
   "metadata": {},
   "outputs": [],
   "source": [
    "from tint.metrics.white_box import aup, aur, entropy, information, rmse\n",
    "\n",
    "print(f\"AUP: {aup(dyna_mask_attr_hmm, true_saliency_hmm):.4}\")\n",
    "print(f\"AUR: {aur(dyna_mask_attr_hmm, true_saliency_hmm):.4}\")\n",
    "# print(f\"RMSE: {rmse(dyna_mask_attr_hmm, true_saliency_hmm):.4}\")\n",
    "print(f\"Information: {information(dyna_mask_attr_hmm, true_saliency_hmm):.4}\")\n",
    "print(f\"Entropy: {entropy(dyna_mask_attr_hmm, true_saliency_hmm):.4}\")\n",
    "\n",
    "# 0.3731, 0.7712, 1.049e05, 2.528e04"
   ]
  },
  {
   "cell_type": "code",
   "execution_count": null,
   "metadata": {},
   "outputs": [],
   "source": [
    "Seed, Fold, Explainer, Lambda_1, Lambda_2, AUP, AUR, Information, Entropy, AUROC, AUPRC\n",
    "42, 2, deep_lift, 1.0, 1.0, 0.9336, 0.3154, 2.851e04, 2.958e04, 0.9243, 0.889\n",
    "42, 3, deep_lift, 1.0, 1.0, 0.9299, 0.333, 3.032e04, 3.018e04, 0.9261, 0.8917\n",
    "42, 1, deep_lift, 1.0, 1.0, 0.9324, 0.3224, 2.915e04, 2.995e04, 0.9268, 0.8918\n",
    "42, 0, deep_lift, 1.0, 1.0, 0.9335, 0.3327, 3.032e04, 3.014e04, 0.9291, 0.8965\n",
    "42, 2, dyna_mask, 1.0, 1.0, 0.3759, 0.7728, 1.051e05, 2.536e04, 0.6197, 0.4182\n",
    "42, 3, dyna_mask, 1.0, 1.0, 0.375, 0.7685, 1.049e05, 2.529e04, 0.6167, 0.4189\n",
    "42, 1, dyna_mask, 1.0, 1.0, 0.375, 0.7726, 1.054e05, 2.532e04, 0.6157, 0.4155\n",
    "42, 3, extremal_mask, 1.0, 1.0, 0.901, 0.7609, 2.96e05, 7.285e03, 0.9081, 0.8801\n",
    "42, 0, extremal_mask, 1.0, 1.0, 0.9167, 0.7638, 2.954e05, 7.595e03, 0.913, 0.893\n",
    "42, 2, extremal_mask, 1.0, 1.0, 0.9115, 0.7546, 2.872e05, 7.641e03, 0.9085, 0.8848\n",
    "42, 1, extremal_mask, 1.0, 1.0, 0.8967, 0.764, 2.978e05, 7.332e03, 0.9077, 0.8783\n",
    "42, 4, deep_lift, 1.0, 1.0, 0.9273, 0.3356, 3.054e04, 3.032e04, 0.9256, 0.889\n",
    "42, 4, dyna_mask, 1.0, 1.0, 0.3811, 0.7716, 1.057e05, 2.52e04, 0.6297, 0.4282\n",
    "42, 4, extremal_mask, 1.0, 1.0, 0.892, 0.7557, 2.898e05, 7.674e03, 0.9045, 0.8727\n",
    "42, 0, fit, 1.0, 1.0, 0.5186, 0.622, 8.364e04, 3.361e04, 0.846, 0.5958\n",
    "42, 1, fit, 1.0, 1.0, 0.4856, 0.5718, 7.389e04, 3.364e04, 0.7973, 0.5411\n",
    "42, 2, fit, 1.0, 1.0, 0.4651, 0.4618, 6.412e04, 3.012e04, 0.7419, 0.4856\n",
    "42, 3, fit, 1.0, 1.0, 0.4738, 0.6052, 7.954e04, 3.413e04, 0.8127, 0.5395\n",
    "42, 3, gradient_shap, 1.0, 1.0, 0.8819, 0.288, 2.601e04, 2.793e04, 0.8472, 0.7704\n",
    "42, 0, gradient_shap, 1.0, 1.0, 0.8888, 0.287, 2.589e04, 2.789e04, 0.851, 0.7806\n",
    "42, 2, gradient_shap, 1.0, 1.0, 0.8898, 0.2735, 2.46e04, 2.734e04, 0.8484, 0.7721\n",
    "42, 1, gradient_shap, 1.0, 1.0, 0.8882, 0.2786, 2.5e04, 2.767e04, 0.8492, 0.775\n",
    "42, 1, integrated_gradients, 1.0, 1.0, 0.9322, 0.3174, 2.858e04, 2.983e04, 0.926, 0.8899\n",
    "42, 2, integrated_gradients, 1.0, 1.0, 0.9331, 0.3109, 2.803e04, 2.947e04, 0.9233, 0.8868\n",
    "42, 0, integrated_gradients, 1.0, 1.0, 0.9331, 0.327, 2.964e04, 3.003e04, 0.9278, 0.8941\n",
    "42, 3, integrated_gradients, 1.0, 1.0, 0.9295, 0.328, 2.974e04, 3.008e04, 0.925, 0.8895\n",
    "42, 0, augmented_occlusion, 1.0, 1.0, 0.8724, 0.3526, 3.051e04, 3.4e04, 0.9345, 0.8624\n",
    "42, 3, augmented_occlusion, 1.0, 1.0, 0.8573, 0.3544, 3.071e04, 3.409e04, 0.9231, 0.8378\n",
    "42, 2, augmented_occlusion, 1.0, 1.0, 0.8679, 0.3403, 2.926e04, 3.36e04, 0.9259, 0.8428\n",
    "42, 1, augmented_occlusion, 1.0, 1.0, 0.8688, 0.351, 3.026e04, 3.402e04, 0.9329, 0.8554\n",
    "42, 3, occlusion, 1.0, 1.0, 0.9139, 0.286, 2.589e04, 2.779e04, 0.8818, 0.8266\n",
    "42, 0, occlusion, 1.0, 1.0, 0.9209, 0.2862, 2.59e04, 2.78e04, 0.8871, 0.8389\n",
    "42, 2, occlusion, 1.0, 1.0, 0.921, 0.2745, 2.478e04, 2.733e04, 0.8867, 0.8327\n",
    "42, 1, occlusion, 1.0, 1.0, 0.9199, 0.2817, 2.541e04, 2.77e04, 0.8892, 0.8362\n",
    "42, 4, fit, 1.0, 1.0, 0.4255, 0.62, 8.501e04, 3.344e04, 0.7505, 0.4838\n",
    "42, 4, gradient_shap, 1.0, 1.0, 0.8831, 0.29, 2.619e04, 2.806e04, 0.8511, 0.7752\n",
    "42, 4, integrated_gradients, 1.0, 1.0, 0.9264, 0.33, 2.986e04, 3.023e04, 0.9242, 0.8863\n",
    "42, 4, augmented_occlusion, 1.0, 1.0, 0.8708, 0.3555, 3.069e04, 3.422e04, 0.9356, 0.8616\n",
    "42, 4, occlusion, 1.0, 1.0, 0.9194, 0.2881, 2.609e04, 2.786e04, 0.89, 0.8379\n",
    "42, 0, retain, 1.0, 1.0, 0.787, 0.3294, 2.735e04, 3.173e04, 0.883, 0.7661\n",
    "42, 1, retain, 1.0, 1.0, 0.6684, 0.3007, 2.379e04, 3.102e04, 0.8533, 0.6879\n",
    "42, 2, retain, 1.0, 1.0, 0.7636, 0.2942, 2.39e04, 3.024e04, 0.8584, 0.7351\n",
    "42, 3, retain, 1.0, 1.0, 0.6876, 0.279, 2.227e04, 2.955e04, 0.8466, 0.682\n",
    "42, 4, retain, 1.0, 1.0, 0.4992, 0.1986, 1.432e04, 2.495e04, 0.8132, 0.6183"
   ]
  },
  {
   "cell_type": "code",
   "execution_count": null,
   "metadata": {},
   "outputs": [],
   "source": [
    "import os\n",
    "\n",
    "import torch.nn as nn\n",
    "from tint.attr.models import ExtremalMaskNet\n",
    "from tint.models import MLP, RNN\n",
    "\n",
    "classifier_hmm = StateClassifierNet(\n",
    "    feature_size=3,\n",
    "    n_state=2,\n",
    "    hidden_size=200,\n",
    "    regres=True,\n",
    "    loss=\"cross_entropy\",\n",
    "    lr=0.0001,\n",
    "    l2=1e-3,\n",
    ")\n",
    "\n",
    "classifier_hmm = get_model(\n",
    "    trainer=None,\n",
    "    model=classifier_hmm,\n",
    "    model_name=\"classifier\",\n",
    "    data_name=\"hmm\",\n",
    "    seed=SEED,\n",
    "    fold=FOLD,\n",
    "    datamodule=None,\n",
    ")\n",
    "classifier_hmm.eval()\n",
    "\n",
    "extremal_mask_net_hmm = ExtremalMaskNet(\n",
    "    forward_func=classifier_hmm,\n",
    "    model=nn.Sequential(\n",
    "        RNN(\n",
    "            input_size=inputs_hmm.shape[-1],\n",
    "            rnn=\"gru\",\n",
    "            hidden_size=inputs_hmm.shape[-1],\n",
    "            bidirectional=True,\n",
    "        ),\n",
    "        MLP([2 * inputs_hmm.shape[-1], inputs_hmm.shape[-1]]),\n",
    "    ),\n",
    "    lambda_1=1.0,\n",
    "    lambda_2=1.0,\n",
    "    optim=\"adam\",\n",
    "    lr=0.01,\n",
    ")\n",
    "checkpoint_path = (\n",
    "    f\"experiments/checkpoints/hmm_extremal_mask_{SEED}_1.0_1.0_{FOLD}.ckpt\"\n",
    ")\n",
    "\n",
    "# Make sure the mask is initialized\n",
    "extremal_mask_net_hmm.net.init(input_size=inputs_hmm.shape, batch_size=100)\n",
    "extremal_mask_net_hmm.load_state_dict(th.load(checkpoint_path))\n",
    "\n",
    "# Compute the attributions using the loaded network\n",
    "extremal_mask_net_hmm.eval()\n",
    "extremal_attr_hmm = extremal_mask_net_hmm.net.representation()"
   ]
  },
  {
   "cell_type": "code",
   "execution_count": null,
   "metadata": {},
   "outputs": [],
   "source": [
    "from tint.metrics.white_box import aup, aur, entropy, information, rmse\n",
    "\n",
    "print(f\"AUP: {aup(extremal_attr_hmm, true_saliency_hmm):.4}\")\n",
    "print(f\"AUR: {aur(extremal_attr_hmm, true_saliency_hmm):.4}\")\n",
    "print(f\"RMSE: {rmse(extremal_attr_hmm, true_saliency_hmm):.4}\")\n",
    "print(f\"Information: {information(extremal_attr_hmm, true_saliency_hmm):.4}\")\n",
    "print(f\"Entropy: {entropy(extremal_attr_hmm, true_saliency_hmm):.4}\")"
   ]
  },
  {
   "cell_type": "markdown",
   "metadata": {},
   "source": [
    "### Method 2 (longer, using the whole main.py approach)"
   ]
  },
  {
   "cell_type": "code",
   "execution_count": 1,
   "metadata": {},
   "outputs": [
    {
     "name": "stderr",
     "output_type": "stream",
     "text": [
      "/home/paulius/projects/fact/.venv/lib/python3.11/site-packages/tqdm/auto.py:21: TqdmWarning: IProgress not found. Please update jupyter and ipywidgets. See https://ipywidgets.readthedocs.io/en/stable/user_install.html\n",
      "  from .autonotebook import tqdm as notebook_tqdm\n"
     ]
    }
   ],
   "source": [
    "import random\n",
    "\n",
    "from pytorch_lightning import Trainer, seed_everything\n",
    "from pytorch_lightning.loggers import TensorBoardLogger\n",
    "from tint.attr import ExtremalMask\n",
    "\n",
    "# try for both devices as well\n",
    "device = \"cpu\"\n",
    "dataset_name = \"hmm\"\n",
    "deterministic = True\n",
    "seed = 42\n",
    "fold = 1\n",
    "lambda_1 = 1.0\n",
    "lambda_2 = 1.0\n",
    "retrain = False"
   ]
  },
  {
   "cell_type": "code",
   "execution_count": 2,
   "metadata": {},
   "outputs": [
    {
     "name": "stderr",
     "output_type": "stream",
     "text": [
      "Seed set to 42\n"
     ]
    },
    {
     "name": "stdout",
     "output_type": "stream",
     "text": [
      "/home/paulius/projects/fact/factai/tint/data/hmm\n"
     ]
    }
   ],
   "source": [
    "from tint.datasets import HMM\n",
    "\n",
    "# If deterministic, seed everything\n",
    "if deterministic:\n",
    "    seed_everything(seed=seed, workers=True)\n",
    "\n",
    "# Get accelerator and device\n",
    "accelerator = device.split(\":\")[0]\n",
    "device_id = 1\n",
    "if len(device.split(\":\")) > 1:\n",
    "    device_id = [int(device.split(\":\")[1])]\n",
    "\n",
    "hmm = HMM(n_folds=5, fold=fold, seed=seed)\n",
    "\n",
    "x_train = hmm.preprocess(split=\"train\")[\"x\"].to(device)\n",
    "x_test = hmm.preprocess(split=\"test\")[\"x\"].to(device)\n",
    "y_test = hmm.preprocess(split=\"test\")[\"y\"].to(device)\n",
    "true_saliency = hmm.true_saliency(split=\"test\").to(device)"
   ]
  },
  {
   "cell_type": "code",
   "execution_count": 4,
   "metadata": {},
   "outputs": [
    {
     "name": "stderr",
     "output_type": "stream",
     "text": [
      "GPU available: False, used: False\n",
      "TPU available: False, using: 0 TPU cores\n",
      "IPU available: False, using: 0 IPUs\n",
      "HPU available: False, using: 0 HPUs\n",
      "GPU available: False, used: False\n",
      "TPU available: False, using: 0 TPU cores\n",
      "IPU available: False, using: 0 IPUs\n",
      "HPU available: False, using: 0 HPUs\n"
     ]
    },
    {
     "name": "stdout",
     "output_type": "stream",
     "text": [
      "classifier has loaded the saved weights on hmm dataset with fold = 1, if applicable, lambda 1 = 1.0 and lambda 2 = 1.0.\n",
      "extremal_mask has loaded the saved weights on hmm dataset with fold = 1, if applicable, lambda 1 = 1.0 and lambda 2 = 1.0.\n"
     ]
    }
   ],
   "source": [
    "import torch.nn as nn\n",
    "from experiments.hmm.classifier import StateClassifierNet\n",
    "from pytorch_lightning import Trainer\n",
    "from tint.attr import ExtremalMask\n",
    "from tint.attr.models import ExtremalMaskNet\n",
    "from tint.models import MLP, RNN\n",
    "from tint.utils.model_loading import get_model\n",
    "\n",
    "# Create classifier\n",
    "classifier = StateClassifierNet(\n",
    "    feature_size=3,\n",
    "    n_state=2,\n",
    "    hidden_size=200,\n",
    "    regres=True,\n",
    "    loss=\"cross_entropy\",\n",
    "    lr=0.0001,\n",
    "    l2=1e-3,\n",
    ")\n",
    "\n",
    "trainer = Trainer(\n",
    "    max_epochs=50,\n",
    "    accelerator=accelerator,\n",
    "    devices=device_id,\n",
    "    log_every_n_steps=2,\n",
    "    deterministic=deterministic,\n",
    "    logger=TensorBoardLogger(\n",
    "        save_dir=\".\",\n",
    "        version=random.getrandbits(128),\n",
    "    ),\n",
    ")\n",
    "\n",
    "classifier = get_model(\n",
    "    trainer,\n",
    "    classifier,\n",
    "    \"classifier\",\n",
    "    dataset_name,\n",
    "    seed,\n",
    "    fold,\n",
    "    lambda_1=lambda_1,\n",
    "    lambda_2=lambda_2,\n",
    "    datamodule=hmm,\n",
    "    retrain=retrain,\n",
    ")\n",
    "\n",
    "# Switch to eval\n",
    "classifier.eval()\n",
    "\n",
    "# Set model to device\n",
    "classifier.to(device)\n",
    "\n",
    "trainer = Trainer(\n",
    "    max_epochs=500,\n",
    "    accelerator=accelerator,\n",
    "    devices=device_id,\n",
    "    log_every_n_steps=2,\n",
    "    deterministic=deterministic,\n",
    "    logger=TensorBoardLogger(\n",
    "        save_dir=\".\",\n",
    "        version=random.getrandbits(128),\n",
    "    ),\n",
    ")\n",
    "mask = ExtremalMaskNet(\n",
    "    forward_func=classifier,\n",
    "    model=nn.Sequential(\n",
    "        RNN(\n",
    "            input_size=x_test.shape[-1],\n",
    "            rnn=\"gru\",\n",
    "            hidden_size=x_test.shape[-1],\n",
    "            bidirectional=True,\n",
    "        ),\n",
    "        MLP([2 * x_test.shape[-1], x_test.shape[-1]]),\n",
    "    ),\n",
    "    lambda_1=lambda_1,\n",
    "    lambda_2=lambda_2,\n",
    "    optim=\"adam\",\n",
    "    lr=0.01,\n",
    ")\n",
    "mask = mask.to(device)\n",
    "explainer = ExtremalMask(dataset_name, classifier, seed, fold)\n",
    "extremal_attr_hmm = explainer.attribute(\n",
    "    x_test,\n",
    "    additional_forward_args=(True,),\n",
    "    trainer=trainer,\n",
    "    mask_net=mask,\n",
    "    batch_size=100,\n",
    "    retrain=retrain,\n",
    ")\n",
    "extremal_attr_hmm = extremal_attr_hmm.to(device)"
   ]
  },
  {
   "cell_type": "code",
   "execution_count": 6,
   "metadata": {},
   "outputs": [
    {
     "name": "stdout",
     "output_type": "stream",
     "text": [
      "AUP: 0.5133\n",
      "AUR: 0.4386\n",
      "RMSE: 0.5531\n",
      "Information: 1.683e+05\n",
      "Entropy: 5.348e+03\n"
     ]
    }
   ],
   "source": [
    "from tint.metrics.white_box import aup, aur, entropy, information, rmse\n",
    "\n",
    "print(f\"AUP: {aup(extremal_attr_hmm, true_saliency):.4}\")\n",
    "print(f\"AUR: {aur(extremal_attr_hmm, true_saliency):.4}\")\n",
    "print(f\"RMSE: {rmse(extremal_attr_hmm, true_saliency):.4}\")\n",
    "print(f\"Information: {information(extremal_attr_hmm, true_saliency):.4}\")\n",
    "print(f\"Entropy: {entropy(extremal_attr_hmm, true_saliency):.4}\")"
   ]
  },
  {
   "cell_type": "code",
   "execution_count": 18,
   "metadata": {},
   "outputs": [
    {
     "name": "stderr",
     "output_type": "stream",
     "text": [
      "GPU available: False, used: False\n",
      "TPU available: False, using: 0 TPU cores\n",
      "IPU available: False, using: 0 IPUs\n",
      "HPU available: False, using: 0 HPUs\n"
     ]
    },
    {
     "name": "stdout",
     "output_type": "stream",
     "text": [
      "dyna_mask has loaded the saved weights on hmm dataset with fold = 1, if applicable, lambda 1 = None and lambda 2 = None.\n"
     ]
    },
    {
     "data": {
      "text/plain": [
       "MaskNet(\n",
       "  (net): Mask()\n",
       "  (_loss): MSELoss()\n",
       ")"
      ]
     },
     "execution_count": 18,
     "metadata": {},
     "output_type": "execute_result"
    }
   ],
   "source": [
    "import numpy as np\n",
    "from tint.attr import DynaMask\n",
    "from tint.attr.models import MaskNet\n",
    "\n",
    "trainer = Trainer(\n",
    "    max_epochs=1000,\n",
    "    accelerator=accelerator,\n",
    "    devices=device_id,\n",
    "    log_every_n_steps=2,\n",
    "    deterministic=deterministic,\n",
    "    logger=TensorBoardLogger(\n",
    "        save_dir=\".\",\n",
    "        version=random.getrandbits(128),\n",
    "    ),\n",
    ")\n",
    "mask = MaskNet(\n",
    "    forward_func=classifier,\n",
    "    perturbation=\"gaussian_blur\",\n",
    "    sigma_max=1,\n",
    "    keep_ratio=list(np.arange(0.25, 0.35, 0.01)),\n",
    "    size_reg_factor_init=0.1,\n",
    "    size_reg_factor_dilation=100,\n",
    "    time_reg_factor=1.0,\n",
    ")\n",
    "# explainer = DynaMask(dataset_name, classifier, seed, fold)\n",
    "# dyna_mask_attr_hmm = explainer.attribute(\n",
    "#     x_test,\n",
    "#     additional_forward_args=(True,),\n",
    "#     trainer=trainer,\n",
    "#     mask_net=mask,\n",
    "#     batch_size=100,\n",
    "#     return_best_ratio=True,\n",
    "# )\n",
    "\n",
    "data = x_test\n",
    "batch_size = 100\n",
    "\n",
    "# Init model\n",
    "mask.net.init(\n",
    "    shape=data.shape,\n",
    "    n_epochs=trainer.max_epochs or trainer.max_steps,\n",
    "    batch_size=batch_size,\n",
    ")\n",
    "\n",
    "# # Prepare data\n",
    "# dataloader = DataLoader(\n",
    "#     TensorDataset(\n",
    "#         *(\n",
    "#             (data, data, *additional_forward_args)\n",
    "#             if additional_forward_args is not None\n",
    "#             else (data, data, None)\n",
    "#         )\n",
    "#     ),\n",
    "#     batch_size=batch_size,\n",
    "#     collate_fn=default_collate,\n",
    "# )\n",
    "\n",
    "# Fit model\n",
    "mask_net = get_model(\n",
    "    trainer,\n",
    "    mask,\n",
    "    \"dyna_mask\",\n",
    "    dataset_name,\n",
    "    seed,\n",
    "    fold,\n",
    "    train_dataloaders=None,\n",
    ")\n",
    "\n",
    "# trainer.fit(mask_net, train_dataloaders=dataloader)\n",
    "\n",
    "# Set model to eval mode\n",
    "mask_net.eval()"
   ]
  },
  {
   "cell_type": "code",
   "execution_count": 19,
   "metadata": {},
   "outputs": [
    {
     "data": {
      "text/plain": [
       "Parameter containing:\n",
       "tensor([[[0.6359, 0.6805, 0.7054],\n",
       "         [0.7160, 0.3865, 0.6588],\n",
       "         [0.4583, 0.5780, 0.3777],\n",
       "         ...,\n",
       "         [0.7078, 0.5880, 0.5188],\n",
       "         [0.7072, 0.6860, 0.7001],\n",
       "         [0.6559, 0.5869, 0.4536]],\n",
       "\n",
       "        [[0.6780, 0.6561, 0.5710],\n",
       "         [0.7143, 0.6817, 0.6497],\n",
       "         [0.5842, 0.5620, 0.5394],\n",
       "         ...,\n",
       "         [0.3744, 0.7063, 0.7063],\n",
       "         [0.5746, 0.6604, 0.5752],\n",
       "         [0.6154, 0.3906, 0.6297]],\n",
       "\n",
       "        [[0.4525, 0.5324, 0.4119],\n",
       "         [0.6899, 0.4925, 0.7507],\n",
       "         [0.3205, 0.3383, 0.6694],\n",
       "         ...,\n",
       "         [0.5889, 0.3745, 0.6473],\n",
       "         [0.5713, 0.5296, 0.6025],\n",
       "         [0.5468, 0.5892, 0.5792]],\n",
       "\n",
       "        ...,\n",
       "\n",
       "        [[0.6979, 0.7007, 0.7158],\n",
       "         [0.6933, 0.7137, 0.7141],\n",
       "         [0.6816, 0.7190, 0.7012],\n",
       "         ...,\n",
       "         [0.5888, 0.5836, 0.5878],\n",
       "         [0.7141, 0.7282, 0.7310],\n",
       "         [0.6625, 0.6736, 0.6486]],\n",
       "\n",
       "        [[0.6218, 0.6469, 0.6481],\n",
       "         [0.3834, 0.7068, 0.6868],\n",
       "         [0.6919, 0.7045, 0.6901],\n",
       "         ...,\n",
       "         [0.5325, 0.3998, 0.6211],\n",
       "         [0.6959, 0.3730, 0.6282],\n",
       "         [0.6206, 0.4907, 0.6148]],\n",
       "\n",
       "        [[0.4893, 0.5797, 0.5687],\n",
       "         [0.6174, 0.6194, 0.5623],\n",
       "         [0.5717, 0.6146, 0.4112],\n",
       "         ...,\n",
       "         [0.4565, 0.5854, 0.5185],\n",
       "         [0.6116, 0.4355, 0.5552],\n",
       "         [0.6704, 0.6586, 0.5171]]], requires_grad=True)"
      ]
     },
     "execution_count": 19,
     "metadata": {},
     "output_type": "execute_result"
    }
   ],
   "source": [
    "mask.net.mask"
   ]
  },
  {
   "cell_type": "code",
   "execution_count": 13,
   "metadata": {},
   "outputs": [
    {
     "data": {
      "text/plain": [
       "(tensor([[[0.6502, 0.5954, 0.3554],\n",
       "          [0.7209, 0.7123, 0.7131],\n",
       "          [0.6979, 0.7039, 0.7088],\n",
       "          ...,\n",
       "          [0.6286, 0.6369, 0.4246],\n",
       "          [0.5316, 0.6063, 0.5234],\n",
       "          [0.6976, 0.7383, 0.4967]],\n",
       " \n",
       "         [[0.5822, 0.5839, 0.6987],\n",
       "          [0.7374, 0.5697, 0.6082],\n",
       "          [0.6584, 0.6627, 0.3557],\n",
       "          ...,\n",
       "          [0.6689, 0.7125, 0.7081],\n",
       "          [0.6335, 0.7123, 0.7053],\n",
       "          [0.6422, 0.7082, 0.7045]],\n",
       " \n",
       "         [[0.7142, 0.4447, 0.6850],\n",
       "          [0.6216, 0.5137, 0.6244],\n",
       "          [0.5749, 0.3293, 0.4289],\n",
       "          ...,\n",
       "          [0.3899, 0.6828, 0.6514],\n",
       "          [0.5709, 0.6967, 0.6997],\n",
       "          [0.4991, 0.6966, 0.7223]],\n",
       " \n",
       "         ...,\n",
       " \n",
       "         [[0.6979, 0.7007, 0.7158],\n",
       "          [0.6933, 0.7137, 0.7141],\n",
       "          [0.6816, 0.7190, 0.7012],\n",
       "          ...,\n",
       "          [0.5888, 0.5836, 0.5878],\n",
       "          [0.7141, 0.7282, 0.7310],\n",
       "          [0.6625, 0.6736, 0.6486]],\n",
       " \n",
       "         [[0.6218, 0.6469, 0.6481],\n",
       "          [0.3834, 0.7068, 0.6868],\n",
       "          [0.6919, 0.7045, 0.6901],\n",
       "          ...,\n",
       "          [0.5325, 0.3998, 0.6211],\n",
       "          [0.6959, 0.3730, 0.6282],\n",
       "          [0.6206, 0.4907, 0.6148]],\n",
       " \n",
       "         [[0.4893, 0.5797, 0.5687],\n",
       "          [0.6174, 0.6194, 0.5623],\n",
       "          [0.5717, 0.6146, 0.4112],\n",
       "          ...,\n",
       "          [0.4565, 0.5854, 0.5185],\n",
       "          [0.6116, 0.4355, 0.5552],\n",
       "          [0.6704, 0.6586, 0.5171]]]),\n",
       " 0.30000000000000004)"
      ]
     },
     "execution_count": 13,
     "metadata": {},
     "output_type": "execute_result"
    }
   ],
   "source": [
    "dyna_mask_attr_hmm"
   ]
  },
  {
   "cell_type": "markdown",
   "metadata": {},
   "source": [
    "### STOP HERE"
   ]
  },
  {
   "cell_type": "code",
   "execution_count": null,
   "metadata": {},
   "outputs": [],
   "source": [
    "# Load models trained on HMM data\n",
    "(\n",
    "    extremal_attr_hmm2,\n",
    "    extremal_mask_net_hmm2,\n",
    "    extremal_explainer_hmm2,\n",
    "    perturbation_net_hmm2,\n",
    "    _,\n",
    ") = load_explainer(explainer_name=\"42_hmm_extremal2\")\n",
    "\n",
    "# Switch to eval\n",
    "# classifier_hmm2.eval()\n",
    "print()"
   ]
  },
  {
   "cell_type": "code",
   "execution_count": null,
   "metadata": {},
   "outputs": [],
   "source": []
  },
  {
   "cell_type": "code",
   "execution_count": null,
   "metadata": {},
   "outputs": [],
   "source": [
    "from tint.metrics.white_box import aup, aur, entropy, information, rmse\n",
    "\n",
    "print(f\"AUP: {aup(extremal_attr_hmm, true_saliency_hmm):.4}\")\n",
    "print(f\"AUR: {aur(extremal_attr_hmm, true_saliency_hmm):.4}\")\n",
    "print(f\"RMSE: {rmse(extremal_attr_hmm, true_saliency_hmm):.4}\")\n",
    "print(f\"Information: {information(extremal_attr_hmm, true_saliency_hmm):.4}\")\n",
    "print(f\"Entropy: {entropy(extremal_attr_hmm, true_saliency_hmm):.4}\")"
   ]
  },
  {
   "cell_type": "code",
   "execution_count": null,
   "metadata": {},
   "outputs": [],
   "source": [
    "from tint.metrics.white_box import aup, aur, entropy, information, rmse\n",
    "\n",
    "print(f\"AUP: {aup(extremal_attr_hmm2, true_saliency_hmm):.4}\")\n",
    "print(f\"AUR: {aur(extremal_attr_hmm2, true_saliency_hmm):.4}\")\n",
    "print(f\"RMSE: {rmse(extremal_attr_hmm2, true_saliency_hmm):.4}\")\n",
    "print(f\"Information: {information(extremal_attr_hmm2, true_saliency_hmm):.4}\")\n",
    "print(f\"Entropy: {entropy(extremal_attr_hmm2, true_saliency_hmm):.4}\")"
   ]
  },
  {
   "cell_type": "markdown",
   "metadata": {},
   "source": [
    "### Visualize explanation performance - HMM"
   ]
  },
  {
   "cell_type": "code",
   "execution_count": null,
   "metadata": {},
   "outputs": [],
   "source": [
    "# Visualize true and predicted saliency\n",
    "SAL_ID = 11\n",
    "saliencies = {\n",
    "    \"true\": true_saliency_hmm[SAL_ID].T,\n",
    "    \"extremal\": extremal_attr_hmm[SAL_ID].T,\n",
    "}\n",
    "plot_heatmap(saliencies)"
   ]
  },
  {
   "cell_type": "code",
   "execution_count": null,
   "metadata": {},
   "outputs": [],
   "source": [
    "# Visualize true and predicted saliency\n",
    "SAL_ID = 11\n",
    "saliencies = {\n",
    "    \"true\": true_saliency_hmm[SAL_ID].T,\n",
    "    \"extremal\": extremal_attr_hmm[SAL_ID].T,\n",
    "}\n",
    "plot_heatmap(saliencies)"
   ]
  },
  {
   "cell_type": "markdown",
   "metadata": {},
   "source": [
    "### Visualize learned perturbations - HMM"
   ]
  },
  {
   "cell_type": "code",
   "execution_count": null,
   "metadata": {},
   "outputs": [],
   "source": [
    "# def compute_perturbations(\n",
    "#     data, mask_net, perturb_net=None, batch_idx: int = 0\n",
    "# ) -> (th.Tensor, th.Tensor, th.Tensor, th.Tensor, th.Tensor):\n",
    "\n",
    "# x, NN(x), m, x * m + (1 - m) * NN(x), x * (1 - m) + m * NN(x)\n",
    "hmm_batch, perturbation_hmm, mask_hmm, x1_hmm, x2_hmm = compute_perturbations(\n",
    "    data=inputs_hmm,\n",
    "    mask_net=extremal_mask_net_hmm,\n",
    "    perturb_net=extremal_mask_net_hmm.net.model,\n",
    "    batch_idx=0,\n",
    ")"
   ]
  },
  {
   "cell_type": "code",
   "execution_count": null,
   "metadata": {},
   "outputs": [],
   "source": [
    "# x, NN(x), m, x * m + (1 - m) * NN(x), x * (1 - m) + m * NN(x)\n",
    "hmm_batch, perturbation_hmm, mask_hmm, x1_hmm, x2_hmm = compute_perturbations(\n",
    "    inputs_hmm, extremal_mask_net_hmm2, perturb_net=perturbation_net_hmm2, batch_idx=0\n",
    ")"
   ]
  },
  {
   "cell_type": "code",
   "execution_count": null,
   "metadata": {},
   "outputs": [],
   "source": [
    "extremal_attr_hmm[:100]"
   ]
  },
  {
   "cell_type": "code",
   "execution_count": null,
   "metadata": {},
   "outputs": [],
   "source": [
    "SAL_ID = 14\n",
    "plot_saliency(\n",
    "    hmm_batch[SAL_ID].T,\n",
    "    x1_hmm[SAL_ID].T,\n",
    "    extremal_attr_hmm[:100][SAL_ID].T,\n",
    "    suptitle=\"Predicted saliency\",\n",
    ")"
   ]
  },
  {
   "cell_type": "code",
   "execution_count": null,
   "metadata": {},
   "outputs": [],
   "source": [
    "plot_saliency(\n",
    "    hmm_batch[SAL_ID].T,\n",
    "    x1_hmm[SAL_ID].T,\n",
    "    true_saliency_hmm[SAL_ID].T,\n",
    "    suptitle=\"True saliency\",\n",
    ")"
   ]
  },
  {
   "cell_type": "code",
   "execution_count": null,
   "metadata": {},
   "outputs": [],
   "source": [
    "plot_saliency(\n",
    "    hmm_batch[SAL_ID].T,\n",
    "    x1_hmm[SAL_ID].T,\n",
    "    mask_hmm[SAL_ID].T,\n",
    "    suptitle=\"Predicted saliency\",\n",
    ")"
   ]
  },
  {
   "cell_type": "code",
   "execution_count": null,
   "metadata": {},
   "outputs": [],
   "source": [
    "feat_no = 1  # Which specific time series to investigate?\n",
    "plot_components(\n",
    "    orig=hmm_batch[SAL_ID].T[feat_no],\n",
    "    perturbed=x1_hmm[SAL_ID].T[feat_no],\n",
    "    mask=mask_hmm[SAL_ID].T[feat_no],\n",
    "    perturbation=perturbation_hmm[SAL_ID].T[feat_no],\n",
    "    suptitle=f\"HMM: data sample {SAL_ID}, feature {feat_no}\",\n",
    "    figsize=(8, 8),\n",
    ")"
   ]
  },
  {
   "cell_type": "code",
   "execution_count": null,
   "metadata": {},
   "outputs": [],
   "source": [
    "# 1 - (1 - m) * |NN(x) - x|\n",
    "# Intuition: the higher this value, the more perturbed the data is.\n",
    "alternative = 1 - (1 - mask_hmm) * th.abs(perturbation_hmm - hmm_batch)\n",
    "plot_saliency(\n",
    "    hmm_batch[SAL_ID].T,\n",
    "    x1_hmm[SAL_ID].T,\n",
    "    alternative[SAL_ID].T,\n",
    "    suptitle=\"Alternative saliency\",\n",
    ")"
   ]
  },
  {
   "cell_type": "code",
   "execution_count": null,
   "metadata": {},
   "outputs": [],
   "source": [
    "plot_saliency(\n",
    "    hmm_batch[SAL_ID].T,\n",
    "    x1_hmm[SAL_ID].T,\n",
    "    true_saliency_hmm[SAL_ID].T,\n",
    "    suptitle=\"True saliency\",\n",
    ")"
   ]
  },
  {
   "cell_type": "code",
   "execution_count": null,
   "metadata": {},
   "outputs": [],
   "source": [
    "# plot true saliency vs (1 - m) * |NN(x) - x|\n",
    "alt_spec = alternative[SAL_ID].T[0]\n",
    "alternative_normalized = (alt_spec - alt_spec.min()) / (alt_spec.max() - alt_spec.min())\n",
    "plt.plot(true_saliency_hmm[SAL_ID].T[0], marker=\".\", label=\"true\")\n",
    "plt.plot(alternative_normalized, marker=\".\", label=\"alternative\")\n",
    "plt.legend()\n",
    "plt.show()"
   ]
  },
  {
   "cell_type": "markdown",
   "metadata": {},
   "source": [
    "## Extra: ARMA\n",
    "\n",
    "Fully whitebox dataset"
   ]
  },
  {
   "cell_type": "code",
   "execution_count": null,
   "metadata": {},
   "outputs": [],
   "source": [
    "from tint.datasets import Arma\n",
    "\n",
    "# Make sure to seed before data generation to return numpy and other libraries to their original state\n",
    "# in order to generate the same data with the same seed as the process for training the models\n",
    "seed_everything(seed=SEED, workers=True)\n",
    "arma = Arma(seed=SEED)\n",
    "# This method generates the dataset\n",
    "arma.download()\n",
    "inputs_arma = arma.preprocess()[\"x\"]\n",
    "true_saliency_arma = arma.true_saliency(dim=1)\n",
    "res_arma = arma.get_white_box(inputs_arma, true_saliency_arma)"
   ]
  },
  {
   "cell_type": "markdown",
   "metadata": {},
   "source": [
    "ARMA experiment uses a white box regressor as the main model to explain.\n",
    "\n",
    "This means, that a number is predicted for each time series in a multivariate time series sample. \n",
    "\n",
    "Thus, `res_arma.size()` refers to (batch_size, no. time series in a sample)."
   ]
  },
  {
   "cell_type": "code",
   "execution_count": null,
   "metadata": {},
   "outputs": [],
   "source": [
    "# Load the models trained on ARMA data\n",
    "(\n",
    "    extremal_attr_arma,\n",
    "    extremal_mask_net_arma,\n",
    "    extremal_explainer_arma,\n",
    "    _,\n",
    "    _,\n",
    ") = load_explainer(experiment=\"arma\", explainer_name=\"../arma/extremal\")"
   ]
  },
  {
   "cell_type": "code",
   "execution_count": null,
   "metadata": {},
   "outputs": [],
   "source": [
    "from tint.metrics.white_box import aup, aur, entropy, information, rmse\n",
    "\n",
    "print(f\"AUP: {aup(extremal_attr_arma, true_saliency_arma):.4}\")\n",
    "print(f\"AUR: {aur(extremal_attr_arma, true_saliency_arma):.4}\")\n",
    "print(f\"RMSE: {rmse(extremal_attr_arma, true_saliency_arma):.4}\")\n",
    "print(f\"Information: {information(extremal_attr_arma, true_saliency_arma):.4}\")\n",
    "print(f\"Entropy: {entropy(extremal_attr_arma, true_saliency_arma):.4}\")"
   ]
  },
  {
   "cell_type": "markdown",
   "metadata": {},
   "source": [
    "### Visualize explanation performance - ARMA"
   ]
  },
  {
   "cell_type": "code",
   "execution_count": null,
   "metadata": {},
   "outputs": [],
   "source": [
    "SAL_ID = 100  # Which sample to investigate?\n",
    "saliencies = {\n",
    "    \"true\": true_saliency_arma[SAL_ID].T,\n",
    "    \"extremal\": extremal_attr_arma[SAL_ID].T,\n",
    "}\n",
    "plot_heatmap(saliencies)"
   ]
  },
  {
   "cell_type": "markdown",
   "metadata": {},
   "source": [
    "### Visualize perturbations - ARMA"
   ]
  },
  {
   "cell_type": "code",
   "execution_count": null,
   "metadata": {},
   "outputs": [],
   "source": [
    "arma_batch, perturbation_arma, mask_arma, x1_arma, x2_arma = compute_perturbations(\n",
    "    inputs_arma, extremal_mask_net_arma, perturb_net=None, batch_idx=0\n",
    ")"
   ]
  },
  {
   "cell_type": "code",
   "execution_count": null,
   "metadata": {},
   "outputs": [],
   "source": [
    "sample_id = 2  # Which sample to investigate?\n",
    "FROM = 15  # From which time series\n",
    "TO = 22  # to which time series to plot?\n",
    "plot_saliency(\n",
    "    arma_batch[sample_id].T[FROM:TO],\n",
    "    x1_arma[sample_id].T[FROM:TO],\n",
    "    mask_arma[sample_id].T[FROM:TO],\n",
    "    suptitle=\"Predicted saliency\",\n",
    ")"
   ]
  },
  {
   "cell_type": "code",
   "execution_count": null,
   "metadata": {},
   "outputs": [],
   "source": [
    "plot_saliency(\n",
    "    arma_batch[sample_id].T[FROM:TO],\n",
    "    x1_arma[sample_id].T[FROM:TO],\n",
    "    true_saliency_arma[sample_id].T[FROM:TO],\n",
    "    suptitle=\"True saliency\",\n",
    ")"
   ]
  },
  {
   "cell_type": "code",
   "execution_count": null,
   "metadata": {},
   "outputs": [],
   "source": [
    "sample_id = 2  # Which sample to investigate?\n",
    "feat_no = 20  # Which specific time series to investigate?\n",
    "plot_components(\n",
    "    orig=arma_batch[sample_id].T[feat_no],\n",
    "    perturbed=x1_arma[sample_id].T[feat_no],\n",
    "    mask=mask_arma[sample_id].T[feat_no],\n",
    "    perturbation=perturbation_arma[sample_id].T[feat_no],\n",
    "    suptitle=f\"ARMA: data sample {sample_id}, feature {feat_no}\",\n",
    "    figsize=(8, 8),\n",
    ")"
   ]
  }
 ],
 "metadata": {
  "kernelspec": {
   "display_name": "venv",
   "language": "python",
   "name": "python3"
  },
  "language_info": {
   "codemirror_mode": {
    "name": "ipython",
    "version": 3
   },
   "file_extension": ".py",
   "mimetype": "text/x-python",
   "name": "python",
   "nbconvert_exporter": "python",
   "pygments_lexer": "ipython3",
   "version": "3.11.6"
  }
 },
 "nbformat": 4,
 "nbformat_minor": 2
}

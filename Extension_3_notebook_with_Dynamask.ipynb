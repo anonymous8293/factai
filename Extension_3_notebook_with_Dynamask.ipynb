{
 "cells": [
  {
   "cell_type": "code",
   "execution_count": 116,
   "metadata": {},
   "outputs": [],
   "source": [
    "import numpy as np\n",
    "from experiments.hmm.classifier import StateClassifierNet\n",
    "import torch as th\n",
    "import torch.nn as nn\n",
    "from pytorch_lightning import seed_everything\n",
    "from tint.attr.models import ExtremalMaskNN\n",
    "from tint.attr.dynamic_masks import DynaMask\n",
    "from tint.attr.models import MaskNet, Mask\n",
    "from tint.models import MLP, RNN\n",
    "from tint.datasets.hmm_modified import HMM_modified\n",
    "from forward import forward\n",
    "import matplotlib.pyplot as plt"
   ]
  },
  {
   "cell_type": "code",
   "execution_count": 62,
   "metadata": {},
   "outputs": [
    {
     "name": "stderr",
     "output_type": "stream",
     "text": [
      "Global seed set to 42\n"
     ]
    },
    {
     "data": {
      "text/plain": [
       "42"
      ]
     },
     "execution_count": 62,
     "metadata": {},
     "output_type": "execute_result"
    }
   ],
   "source": [
    "seed=42\n",
    "seed_everything(seed=seed, workers=True)"
   ]
  },
  {
   "cell_type": "code",
   "execution_count": 88,
   "metadata": {},
   "outputs": [
    {
     "name": "stderr",
     "output_type": "stream",
     "text": [
      "Global seed set to 42\n"
     ]
    },
    {
     "name": "stderr",
     "output_type": "stream",
     "text": [
      "GPU available: False, used: False\n",
      "TPU available: False, using: 0 TPU cores\n",
      "IPU available: False, using: 0 IPUs\n",
      "HPU available: False, using: 0 HPUs\n",
      "\n",
      "   | Name        | Type             | Params\n",
      "--------------------------------------------------\n",
      "0  | net         | StateClassifier  | 8.5 K \n",
      "1  | _loss       | CrossEntropyLoss | 0     \n",
      "2  | train_acc   | BinaryAccuracy   | 0     \n",
      "3  | train_pre   | BinaryPrecision  | 0     \n",
      "4  | train_rec   | BinaryRecall     | 0     \n",
      "5  | train_auroc | BinaryAUROC      | 0     \n",
      "6  | val_acc     | BinaryAccuracy   | 0     \n",
      "7  | val_pre     | BinaryPrecision  | 0     \n",
      "8  | val_rec     | BinaryRecall     | 0     \n",
      "9  | val_auroc   | BinaryAUROC      | 0     \n",
      "10 | test_acc    | BinaryAccuracy   | 0     \n",
      "11 | test_pre    | BinaryPrecision  | 0     \n",
      "12 | test_rec    | BinaryRecall     | 0     \n",
      "13 | test_auroc  | BinaryAUROC      | 0     \n",
      "--------------------------------------------------\n",
      "8.5 K     Trainable params\n",
      "0         Non-trainable params\n",
      "8.5 K     Total params\n",
      "0.034     Total estimated model params size (MB)\n"
     ]
    },
    {
     "data": {
      "application/vnd.jupyter.widget-view+json": {
       "model_id": "d4cade1d534b42e4854bb0b9c8305133",
       "version_major": 2,
       "version_minor": 0
      },
      "text/plain": [
       "Sanity Checking: 0it [00:00, ?it/s]"
      ]
     },
     "metadata": {},
     "output_type": "display_data"
    },
    {
     "data": {
      "application/vnd.jupyter.widget-view+json": {
       "model_id": "ca5fa9195a8f494f8121c2b64fd4ec27",
       "version_major": 2,
       "version_minor": 0
      },
      "text/plain": [
       "Training: 0it [00:00, ?it/s]"
      ]
     },
     "metadata": {},
     "output_type": "display_data"
    },
    {
     "data": {
      "application/vnd.jupyter.widget-view+json": {
       "model_id": "d3f093f6b05c428b9b2dbd285b72305f",
       "version_major": 2,
       "version_minor": 0
      },
      "text/plain": [
       "Validation: 0it [00:00, ?it/s]"
      ]
     },
     "metadata": {},
     "output_type": "display_data"
    },
    {
     "data": {
      "application/vnd.jupyter.widget-view+json": {
       "model_id": "36af8e08053945769c1bc430c769c68b",
       "version_major": 2,
       "version_minor": 0
      },
      "text/plain": [
       "Validation: 0it [00:00, ?it/s]"
      ]
     },
     "metadata": {},
     "output_type": "display_data"
    },
    {
     "data": {
      "application/vnd.jupyter.widget-view+json": {
       "model_id": "bfec5157e99047c1b5e80d4764bd9f81",
       "version_major": 2,
       "version_minor": 0
      },
      "text/plain": [
       "Validation: 0it [00:00, ?it/s]"
      ]
     },
     "metadata": {},
     "output_type": "display_data"
    },
    {
     "data": {
      "application/vnd.jupyter.widget-view+json": {
       "model_id": "a3d77eb14f8848cab9e2a865f5a3bd06",
       "version_major": 2,
       "version_minor": 0
      },
      "text/plain": [
       "Validation: 0it [00:00, ?it/s]"
      ]
     },
     "metadata": {},
     "output_type": "display_data"
    },
    {
     "data": {
      "application/vnd.jupyter.widget-view+json": {
       "model_id": "4f79a6daeb3446efbc2d021dad81f5c2",
       "version_major": 2,
       "version_minor": 0
      },
      "text/plain": [
       "Validation: 0it [00:00, ?it/s]"
      ]
     },
     "metadata": {},
     "output_type": "display_data"
    },
    {
     "data": {
      "application/vnd.jupyter.widget-view+json": {
       "model_id": "27033bda3a574b57802226765dad9ed0",
       "version_major": 2,
       "version_minor": 0
      },
      "text/plain": [
       "Validation: 0it [00:00, ?it/s]"
      ]
     },
     "metadata": {},
     "output_type": "display_data"
    },
    {
     "data": {
      "application/vnd.jupyter.widget-view+json": {
       "model_id": "5f7af7f9ba17490d817e81fedc75b1ae",
       "version_major": 2,
       "version_minor": 0
      },
      "text/plain": [
       "Validation: 0it [00:00, ?it/s]"
      ]
     },
     "metadata": {},
     "output_type": "display_data"
    },
    {
     "data": {
      "application/vnd.jupyter.widget-view+json": {
       "model_id": "39ccb7639a2a4fba9110635193dda108",
       "version_major": 2,
       "version_minor": 0
      },
      "text/plain": [
       "Validation: 0it [00:00, ?it/s]"
      ]
     },
     "metadata": {},
     "output_type": "display_data"
    },
    {
     "data": {
      "application/vnd.jupyter.widget-view+json": {
       "model_id": "a28347529c0a4e75aa00a98915717807",
       "version_major": 2,
       "version_minor": 0
      },
      "text/plain": [
       "Validation: 0it [00:00, ?it/s]"
      ]
     },
     "metadata": {},
     "output_type": "display_data"
    },
    {
     "data": {
      "application/vnd.jupyter.widget-view+json": {
       "model_id": "777fe201b1334b2088bb1c9f3b3d866c",
       "version_major": 2,
       "version_minor": 0
      },
      "text/plain": [
       "Validation: 0it [00:00, ?it/s]"
      ]
     },
     "metadata": {},
     "output_type": "display_data"
    },
    {
     "data": {
      "application/vnd.jupyter.widget-view+json": {
       "model_id": "bcf57cb8439e41648bf92f52fe4cfd8c",
       "version_major": 2,
       "version_minor": 0
      },
      "text/plain": [
       "Validation: 0it [00:00, ?it/s]"
      ]
     },
     "metadata": {},
     "output_type": "display_data"
    },
    {
     "data": {
      "application/vnd.jupyter.widget-view+json": {
       "model_id": "824a82c750d74d4996863de2bc4e4044",
       "version_major": 2,
       "version_minor": 0
      },
      "text/plain": [
       "Validation: 0it [00:00, ?it/s]"
      ]
     },
     "metadata": {},
     "output_type": "display_data"
    },
    {
     "data": {
      "application/vnd.jupyter.widget-view+json": {
       "model_id": "82a0216e8ead4368ada0713e9d358c12",
       "version_major": 2,
       "version_minor": 0
      },
      "text/plain": [
       "Validation: 0it [00:00, ?it/s]"
      ]
     },
     "metadata": {},
     "output_type": "display_data"
    },
    {
     "data": {
      "application/vnd.jupyter.widget-view+json": {
       "model_id": "f91bbbec1c924e10ad16c0b1e842ee28",
       "version_major": 2,
       "version_minor": 0
      },
      "text/plain": [
       "Validation: 0it [00:00, ?it/s]"
      ]
     },
     "metadata": {},
     "output_type": "display_data"
    },
    {
     "data": {
      "application/vnd.jupyter.widget-view+json": {
       "model_id": "fcfdeb9ca153489cb6e565646b8c92bb",
       "version_major": 2,
       "version_minor": 0
      },
      "text/plain": [
       "Validation: 0it [00:00, ?it/s]"
      ]
     },
     "metadata": {},
     "output_type": "display_data"
    },
    {
     "data": {
      "application/vnd.jupyter.widget-view+json": {
       "model_id": "f4fcec69c20c41aab98b6586312e163b",
       "version_major": 2,
       "version_minor": 0
      },
      "text/plain": [
       "Validation: 0it [00:00, ?it/s]"
      ]
     },
     "metadata": {},
     "output_type": "display_data"
    },
    {
     "data": {
      "application/vnd.jupyter.widget-view+json": {
       "model_id": "2e040a3ef6ff4bf6825a33268982e055",
       "version_major": 2,
       "version_minor": 0
      },
      "text/plain": [
       "Validation: 0it [00:00, ?it/s]"
      ]
     },
     "metadata": {},
     "output_type": "display_data"
    },
    {
     "data": {
      "application/vnd.jupyter.widget-view+json": {
       "model_id": "d6f842f6bead4bcbbeac9f5bc39f9200",
       "version_major": 2,
       "version_minor": 0
      },
      "text/plain": [
       "Validation: 0it [00:00, ?it/s]"
      ]
     },
     "metadata": {},
     "output_type": "display_data"
    },
    {
     "data": {
      "application/vnd.jupyter.widget-view+json": {
       "model_id": "4a6091a191da40d5b8293e159cf3a5be",
       "version_major": 2,
       "version_minor": 0
      },
      "text/plain": [
       "Validation: 0it [00:00, ?it/s]"
      ]
     },
     "metadata": {},
     "output_type": "display_data"
    },
    {
     "data": {
      "application/vnd.jupyter.widget-view+json": {
       "model_id": "10eb421c14f1471b97535c168ad5fdbe",
       "version_major": 2,
       "version_minor": 0
      },
      "text/plain": [
       "Validation: 0it [00:00, ?it/s]"
      ]
     },
     "metadata": {},
     "output_type": "display_data"
    },
    {
     "data": {
      "application/vnd.jupyter.widget-view+json": {
       "model_id": "83be747c23954c4dafe118e2342882c3",
       "version_major": 2,
       "version_minor": 0
      },
      "text/plain": [
       "Validation: 0it [00:00, ?it/s]"
      ]
     },
     "metadata": {},
     "output_type": "display_data"
    },
    {
     "data": {
      "application/vnd.jupyter.widget-view+json": {
       "model_id": "43351c30fde54dca992bfa6ca2d981fc",
       "version_major": 2,
       "version_minor": 0
      },
      "text/plain": [
       "Validation: 0it [00:00, ?it/s]"
      ]
     },
     "metadata": {},
     "output_type": "display_data"
    },
    {
     "data": {
      "application/vnd.jupyter.widget-view+json": {
       "model_id": "6123e27becc24f2c81d14eed0c39531a",
       "version_major": 2,
       "version_minor": 0
      },
      "text/plain": [
       "Validation: 0it [00:00, ?it/s]"
      ]
     },
     "metadata": {},
     "output_type": "display_data"
    },
    {
     "data": {
      "application/vnd.jupyter.widget-view+json": {
       "model_id": "06bde6a330ae4b38a925c4ca0a2b4771",
       "version_major": 2,
       "version_minor": 0
      },
      "text/plain": [
       "Validation: 0it [00:00, ?it/s]"
      ]
     },
     "metadata": {},
     "output_type": "display_data"
    },
    {
     "data": {
      "application/vnd.jupyter.widget-view+json": {
       "model_id": "1c8978a31cbc42a78d85b655b902ef65",
       "version_major": 2,
       "version_minor": 0
      },
      "text/plain": [
       "Validation: 0it [00:00, ?it/s]"
      ]
     },
     "metadata": {},
     "output_type": "display_data"
    },
    {
     "data": {
      "application/vnd.jupyter.widget-view+json": {
       "model_id": "df96f5b3773f4bfa8b796b6ecc44badc",
       "version_major": 2,
       "version_minor": 0
      },
      "text/plain": [
       "Validation: 0it [00:00, ?it/s]"
      ]
     },
     "metadata": {},
     "output_type": "display_data"
    },
    {
     "data": {
      "application/vnd.jupyter.widget-view+json": {
       "model_id": "f7156a52f7394cada0ef340cbc481e71",
       "version_major": 2,
       "version_minor": 0
      },
      "text/plain": [
       "Validation: 0it [00:00, ?it/s]"
      ]
     },
     "metadata": {},
     "output_type": "display_data"
    },
    {
     "data": {
      "application/vnd.jupyter.widget-view+json": {
       "model_id": "2c350be6aeab4744bc144d3d8a2ac9a6",
       "version_major": 2,
       "version_minor": 0
      },
      "text/plain": [
       "Validation: 0it [00:00, ?it/s]"
      ]
     },
     "metadata": {},
     "output_type": "display_data"
    },
    {
     "data": {
      "application/vnd.jupyter.widget-view+json": {
       "model_id": "ec514e8925264006a8a30957e61b40ea",
       "version_major": 2,
       "version_minor": 0
      },
      "text/plain": [
       "Validation: 0it [00:00, ?it/s]"
      ]
     },
     "metadata": {},
     "output_type": "display_data"
    },
    {
     "data": {
      "application/vnd.jupyter.widget-view+json": {
       "model_id": "b06fa64f83ca40e0a279971ef439f002",
       "version_major": 2,
       "version_minor": 0
      },
      "text/plain": [
       "Validation: 0it [00:00, ?it/s]"
      ]
     },
     "metadata": {},
     "output_type": "display_data"
    },
    {
     "data": {
      "application/vnd.jupyter.widget-view+json": {
       "model_id": "5b02bba12c144a2687a7731b1c0122fd",
       "version_major": 2,
       "version_minor": 0
      },
      "text/plain": [
       "Validation: 0it [00:00, ?it/s]"
      ]
     },
     "metadata": {},
     "output_type": "display_data"
    },
    {
     "data": {
      "application/vnd.jupyter.widget-view+json": {
       "model_id": "53648f831a4e49bcb6b23cd9a51548ec",
       "version_major": 2,
       "version_minor": 0
      },
      "text/plain": [
       "Validation: 0it [00:00, ?it/s]"
      ]
     },
     "metadata": {},
     "output_type": "display_data"
    },
    {
     "data": {
      "application/vnd.jupyter.widget-view+json": {
       "model_id": "0a307f6a070941ed90efc641c6bd0bb0",
       "version_major": 2,
       "version_minor": 0
      },
      "text/plain": [
       "Validation: 0it [00:00, ?it/s]"
      ]
     },
     "metadata": {},
     "output_type": "display_data"
    },
    {
     "data": {
      "application/vnd.jupyter.widget-view+json": {
       "model_id": "54db63a8bdfb4032acd45f76c72f1ed4",
       "version_major": 2,
       "version_minor": 0
      },
      "text/plain": [
       "Validation: 0it [00:00, ?it/s]"
      ]
     },
     "metadata": {},
     "output_type": "display_data"
    },
    {
     "data": {
      "application/vnd.jupyter.widget-view+json": {
       "model_id": "9f28262f6ca449319eaaa26dfb0fd2e9",
       "version_major": 2,
       "version_minor": 0
      },
      "text/plain": [
       "Validation: 0it [00:00, ?it/s]"
      ]
     },
     "metadata": {},
     "output_type": "display_data"
    },
    {
     "data": {
      "application/vnd.jupyter.widget-view+json": {
       "model_id": "9830ef78ff774bbc8a208bb38538c450",
       "version_major": 2,
       "version_minor": 0
      },
      "text/plain": [
       "Validation: 0it [00:00, ?it/s]"
      ]
     },
     "metadata": {},
     "output_type": "display_data"
    },
    {
     "data": {
      "application/vnd.jupyter.widget-view+json": {
       "model_id": "ecc72ebd4bbe45e68e4681479d40af43",
       "version_major": 2,
       "version_minor": 0
      },
      "text/plain": [
       "Validation: 0it [00:00, ?it/s]"
      ]
     },
     "metadata": {},
     "output_type": "display_data"
    },
    {
     "data": {
      "application/vnd.jupyter.widget-view+json": {
       "model_id": "6011cb0d1b42438aac182eb92c5e1c99",
       "version_major": 2,
       "version_minor": 0
      },
      "text/plain": [
       "Validation: 0it [00:00, ?it/s]"
      ]
     },
     "metadata": {},
     "output_type": "display_data"
    },
    {
     "data": {
      "application/vnd.jupyter.widget-view+json": {
       "model_id": "e0d35908f3c944a1b42aac499d11ff2b",
       "version_major": 2,
       "version_minor": 0
      },
      "text/plain": [
       "Validation: 0it [00:00, ?it/s]"
      ]
     },
     "metadata": {},
     "output_type": "display_data"
    },
    {
     "data": {
      "application/vnd.jupyter.widget-view+json": {
       "model_id": "114ea0fa08234de29a8d2b4c781b6754",
       "version_major": 2,
       "version_minor": 0
      },
      "text/plain": [
       "Validation: 0it [00:00, ?it/s]"
      ]
     },
     "metadata": {},
     "output_type": "display_data"
    },
    {
     "data": {
      "application/vnd.jupyter.widget-view+json": {
       "model_id": "fd4e4b5198bc4e69aa145e9c08f725cb",
       "version_major": 2,
       "version_minor": 0
      },
      "text/plain": [
       "Validation: 0it [00:00, ?it/s]"
      ]
     },
     "metadata": {},
     "output_type": "display_data"
    },
    {
     "data": {
      "application/vnd.jupyter.widget-view+json": {
       "model_id": "ee816c8d12394fce91bb841b2f7b2507",
       "version_major": 2,
       "version_minor": 0
      },
      "text/plain": [
       "Validation: 0it [00:00, ?it/s]"
      ]
     },
     "metadata": {},
     "output_type": "display_data"
    },
    {
     "data": {
      "application/vnd.jupyter.widget-view+json": {
       "model_id": "3eb9209db7d44a258285ed913b0d9338",
       "version_major": 2,
       "version_minor": 0
      },
      "text/plain": [
       "Validation: 0it [00:00, ?it/s]"
      ]
     },
     "metadata": {},
     "output_type": "display_data"
    },
    {
     "data": {
      "application/vnd.jupyter.widget-view+json": {
       "model_id": "8ee8b7223cc141e9ac5736d61cbd620a",
       "version_major": 2,
       "version_minor": 0
      },
      "text/plain": [
       "Validation: 0it [00:00, ?it/s]"
      ]
     },
     "metadata": {},
     "output_type": "display_data"
    },
    {
     "data": {
      "application/vnd.jupyter.widget-view+json": {
       "model_id": "466c417a280d4037bca8be81b45d96da",
       "version_major": 2,
       "version_minor": 0
      },
      "text/plain": [
       "Validation: 0it [00:00, ?it/s]"
      ]
     },
     "metadata": {},
     "output_type": "display_data"
    },
    {
     "data": {
      "application/vnd.jupyter.widget-view+json": {
       "model_id": "e726ef56d089479c873536540e38eb38",
       "version_major": 2,
       "version_minor": 0
      },
      "text/plain": [
       "Validation: 0it [00:00, ?it/s]"
      ]
     },
     "metadata": {},
     "output_type": "display_data"
    },
    {
     "data": {
      "application/vnd.jupyter.widget-view+json": {
       "model_id": "d197d859483743f78d915d60cd3f4e8a",
       "version_major": 2,
       "version_minor": 0
      },
      "text/plain": [
       "Validation: 0it [00:00, ?it/s]"
      ]
     },
     "metadata": {},
     "output_type": "display_data"
    },
    {
     "data": {
      "application/vnd.jupyter.widget-view+json": {
       "model_id": "a56ec298ba914b0fa779f14794771e48",
       "version_major": 2,
       "version_minor": 0
      },
      "text/plain": [
       "Validation: 0it [00:00, ?it/s]"
      ]
     },
     "metadata": {},
     "output_type": "display_data"
    },
    {
     "data": {
      "application/vnd.jupyter.widget-view+json": {
       "model_id": "59772e2d61034c98a229684dd8838846",
       "version_major": 2,
       "version_minor": 0
      },
      "text/plain": [
       "Validation: 0it [00:00, ?it/s]"
      ]
     },
     "metadata": {},
     "output_type": "display_data"
    },
    {
     "data": {
      "application/vnd.jupyter.widget-view+json": {
       "model_id": "62a8b743fa1b4d6aa22176df156ba083",
       "version_major": 2,
       "version_minor": 0
      },
      "text/plain": [
       "Validation: 0it [00:00, ?it/s]"
      ]
     },
     "metadata": {},
     "output_type": "display_data"
    },
    {
     "name": "stderr",
     "output_type": "stream",
     "text": [
      "`Trainer.fit` stopped: `max_epochs=50` reached.\n",
      "GPU available: False, used: False\n",
      "TPU available: False, using: 0 TPU cores\n",
      "IPU available: False, using: 0 IPUs\n",
      "HPU available: False, using: 0 HPUs\n",
      "\n",
      "  | Name  | Type           | Params\n",
      "-----------------------------------------\n",
      "0 | net   | ExtremalMaskNN | 30.2 K\n",
      "1 | _loss | MSELoss        | 0     \n",
      "-----------------------------------------\n",
      "30.2 K    Trainable params\n",
      "0         Non-trainable params\n",
      "30.2 K    Total params\n",
      "0.121     Total estimated model params size (MB)\n"
     ]
    },
    {
     "name": "stdout",
     "output_type": "stream",
     "text": [
      "preservation mode is  True\n"
     ]
    },
    {
     "data": {
      "application/vnd.jupyter.widget-view+json": {
       "model_id": "db426df2fbff44bc846a899127434ef4",
       "version_major": 2,
       "version_minor": 0
      },
      "text/plain": [
       "Training: 0it [00:00, ?it/s]"
      ]
     },
     "metadata": {},
     "output_type": "display_data"
    },
    {
     "name": "stderr",
     "output_type": "stream",
     "text": [
      "`Trainer.fit` stopped: `max_epochs=500` reached.\n"
     ]
    }
   ],
   "source": [
    "# Train classifier and Extremal mask explainer, store model weights\n",
    "# TODO: add flags for training from scratch and for preservation/deletion game IF DON'T EXIST ALREADY\n",
    "# %run experiments/hmm/main.py --explainers \"extremal_mask\" --deterministic --output-file \"hmm_modified_results_per_fold.csv\" --dataset_name \"hmm_modified\" --hidden_size 50\n",
    "### If you use a diff fold u have to change all the file names below\n",
    "%run experiments/hmm/main.py --fold 0 --explainers \"extremal_mask\" --deterministic --output-file \"hmm_modified_results_per_fold.csv\" --dataset_name \"hmm_modified\" --hidden_size 50 "
   ]
  },
  {
   "cell_type": "code",
   "execution_count": 94,
   "metadata": {},
   "outputs": [
    {
     "name": "stderr",
     "output_type": "stream",
     "text": [
      "Global seed set to 42\n",
      "GPU available: False, used: False\n",
      "TPU available: False, using: 0 TPU cores\n",
      "IPU available: False, using: 0 IPUs\n",
      "HPU available: False, using: 0 HPUs\n"
     ]
    },
    {
     "name": "stdout",
     "output_type": "stream",
     "text": [
      "classifier has loaded the saved weights on hmm_modified dataset with fold = 0, if applicable, lambda 1 = 1.0 and lambda 2 = 1.0.\n"
     ]
    },
    {
     "name": "stderr",
     "output_type": "stream",
     "text": [
      "GPU available: False, used: False\n",
      "TPU available: False, using: 0 TPU cores\n",
      "IPU available: False, using: 0 IPUs\n",
      "HPU available: False, using: 0 HPUs\n",
      "\n",
      "  | Name  | Type    | Params\n",
      "----------------------------------\n",
      "0 | net   | Mask    | 300 K \n",
      "1 | _loss | MSELoss | 0     \n",
      "----------------------------------\n",
      "300 K     Trainable params\n",
      "0         Non-trainable params\n",
      "300 K     Total params\n",
      "1.200     Total estimated model params size (MB)\n"
     ]
    },
    {
     "data": {
      "application/vnd.jupyter.widget-view+json": {
       "model_id": "465f49936922426d8481979d36005586",
       "version_major": 2,
       "version_minor": 0
      },
      "text/plain": [
       "Training: 0it [00:00, ?it/s]"
      ]
     },
     "metadata": {},
     "output_type": "display_data"
    },
    {
     "name": "stderr",
     "output_type": "stream",
     "text": [
      "`Trainer.fit` stopped: `max_epochs=1000` reached.\n"
     ]
    },
    {
     "data": {
      "application/vnd.jupyter.widget-view+json": {
       "model_id": "8e9a2e7196d147c7acf504ad49c3958f",
       "version_major": 2,
       "version_minor": 0
      },
      "text/plain": [
       "Predicting: 0it [00:00, ?it/s]"
      ]
     },
     "metadata": {},
     "output_type": "display_data"
    },
    {
     "name": "stdout",
     "output_type": "stream",
     "text": [
      "Best keep ratio is 0.30000000000000004\n"
     ]
    }
   ],
   "source": [
    "\n",
    "### dynamask training\n",
    "\n",
    "%run experiments/hmm/main.py --fold 0 --explainers \"dyna_mask\" --deterministic --output-file \"hmm_modified_dynamask_results_per_fold.csv\" --dataset_name \"hmm_modified\" --hidden_size 50 \n"
   ]
  },
  {
   "cell_type": "code",
   "execution_count": 95,
   "metadata": {},
   "outputs": [],
   "source": [
    "### Get data\n",
    "train_features = np.load('tint/data/hmm/train_features_modified.npz', allow_pickle= True)   ### DELETE these files b4 running again\n",
    "test_features = np.load('tint/data/hmm/test_features_modified.npz', allow_pickle= True)\n",
    "train_labels = np.load('tint/data/hmm/train_labels_modified.npz', allow_pickle= True)"
   ]
  },
  {
   "cell_type": "code",
   "execution_count": 96,
   "metadata": {},
   "outputs": [
    {
     "name": "stdout",
     "output_type": "stream",
     "text": [
      "<class 'torch.Tensor'> torch.Size([800, 50, 3])\n"
     ]
    }
   ],
   "source": [
    "# Transform to tensors, check shape\n",
    "x_train = th.tensor(train_features)\n",
    "x_test = th.tensor(test_features)\n",
    "print(type(x_train),x_train.shape)"
   ]
  },
  {
   "cell_type": "code",
   "execution_count": 97,
   "metadata": {},
   "outputs": [
    {
     "data": {
      "text/plain": [
       "<All keys matched successfully>"
      ]
     },
     "execution_count": 97,
     "metadata": {},
     "output_type": "execute_result"
    }
   ],
   "source": [
    "### Get classifier         \n",
    "# Create model\n",
    "classifier = StateClassifierNet(\n",
    "        feature_size=3,\n",
    "        n_state=2,\n",
    "        hidden_size=50,\n",
    "        regres=True,\n",
    "        loss=\"cross_entropy\",\n",
    "        lr=0.0001,\n",
    "        l2=1e-3,\n",
    "    )\n",
    "\n",
    "# Load the state dictionary from the checkpoint file\n",
    "checkpoint_path = 'experiments/checkpoints/hmm_modified_classifier_42_0.ckpt'       ### change path when using different hyperparameters\n",
    "state_dict = th.load(checkpoint_path)\n",
    "\n",
    "# Load the state dictionary into the model\n",
    "classifier.load_state_dict(state_dict)"
   ]
  },
  {
   "cell_type": "code",
   "execution_count": 99,
   "metadata": {},
   "outputs": [
    {
     "name": "stdout",
     "output_type": "stream",
     "text": [
      "net.mask: torch.Size([2000, 50, 3])\n"
     ]
    }
   ],
   "source": [
    "# Sanity check\n",
    "checkpoint_path = 'experiments/checkpoints/hmm_modified_dyna_mask_42_0.ckpt'           ### change path when using different hyperparameters\n",
    "\n",
    "# Load the state dictionary\n",
    "state_dict = th.load(checkpoint_path)\n",
    "\n",
    "# Print keys and shapes in the state dictionary\n",
    "for key, value in state_dict.items():\n",
    "    print(f\"{key}: {value.shape if isinstance(value, th.Tensor) else type(value)}\")"
   ]
  },
  {
   "cell_type": "code",
   "execution_count": 100,
   "metadata": {},
   "outputs": [
    {
     "name": "stdout",
     "output_type": "stream",
     "text": [
      "Parameter: model.0.rnn.weight_ih_l0, Shape: torch.Size([9, 3])\n",
      "Parameter: model.0.rnn.weight_hh_l0, Shape: torch.Size([9, 3])\n",
      "Parameter: model.0.rnn.bias_ih_l0, Shape: torch.Size([9])\n",
      "Parameter: model.0.rnn.bias_hh_l0, Shape: torch.Size([9])\n",
      "Parameter: model.0.rnn.weight_ih_l0_reverse, Shape: torch.Size([9, 3])\n",
      "Parameter: model.0.rnn.weight_hh_l0_reverse, Shape: torch.Size([9, 3])\n",
      "Parameter: model.0.rnn.bias_ih_l0_reverse, Shape: torch.Size([9])\n",
      "Parameter: model.0.rnn.bias_hh_l0_reverse, Shape: torch.Size([9])\n",
      "Parameter: model.1.mlp.Linear_0.weight, Shape: torch.Size([3, 6])\n",
      "Parameter: model.1.mlp.Linear_0.bias, Shape: torch.Size([3])\n"
     ]
    },
    {
     "ename": "RuntimeError",
     "evalue": "Error(s) in loading state_dict for ExtremalMaskNN:\n\tMissing key(s) in state_dict: \"model.0.rnn.weight_ih_l0\", \"model.0.rnn.weight_hh_l0\", \"model.0.rnn.bias_ih_l0\", \"model.0.rnn.bias_hh_l0\", \"model.0.rnn.weight_ih_l0_reverse\", \"model.0.rnn.weight_hh_l0_reverse\", \"model.0.rnn.bias_ih_l0_reverse\", \"model.0.rnn.bias_hh_l0_reverse\", \"model.1.mlp.Linear_0.weight\", \"model.1.mlp.Linear_0.bias\". ",
     "output_type": "error",
     "traceback": [
      "\u001b[1;31m---------------------------------------------------------------------------\u001b[0m",
      "\u001b[1;31mRuntimeError\u001b[0m                              Traceback (most recent call last)",
      "Cell \u001b[1;32mIn[100], line 28\u001b[0m\n\u001b[0;32m     25\u001b[0m \u001b[38;5;28;01mfor\u001b[39;00m name, param \u001b[38;5;129;01min\u001b[39;00m EMNN\u001b[38;5;241m.\u001b[39mnamed_parameters():\n\u001b[0;32m     26\u001b[0m     \u001b[38;5;28mprint\u001b[39m(\u001b[38;5;124mf\u001b[39m\u001b[38;5;124m\"\u001b[39m\u001b[38;5;124mParameter: \u001b[39m\u001b[38;5;132;01m{\u001b[39;00mname\u001b[38;5;132;01m}\u001b[39;00m\u001b[38;5;124m, Shape: \u001b[39m\u001b[38;5;132;01m{\u001b[39;00mparam\u001b[38;5;241m.\u001b[39mshape\u001b[38;5;132;01m}\u001b[39;00m\u001b[38;5;124m\"\u001b[39m)\n\u001b[1;32m---> 28\u001b[0m \u001b[43mEMNN\u001b[49m\u001b[38;5;241;43m.\u001b[39;49m\u001b[43mload_state_dict\u001b[49m\u001b[43m(\u001b[49m\u001b[43mfiltered_state_dict_model\u001b[49m\u001b[43m)\u001b[49m\n\u001b[0;32m     29\u001b[0m \u001b[38;5;66;03m#mask.load_state_dict(filtered_state_dict_mask)\u001b[39;00m\n\u001b[0;32m     30\u001b[0m mask \u001b[38;5;241m=\u001b[39m state_dict[\u001b[38;5;124m'\u001b[39m\u001b[38;5;124mnet.mask\u001b[39m\u001b[38;5;124m'\u001b[39m]\n",
      "File \u001b[1;32mc:\\Users\\sebas\\anaconda3\\envs\\tint\\lib\\site-packages\\torch\\nn\\modules\\module.py:2152\u001b[0m, in \u001b[0;36mModule.load_state_dict\u001b[1;34m(self, state_dict, strict, assign)\u001b[0m\n\u001b[0;32m   2147\u001b[0m         error_msgs\u001b[38;5;241m.\u001b[39minsert(\n\u001b[0;32m   2148\u001b[0m             \u001b[38;5;241m0\u001b[39m, \u001b[38;5;124m'\u001b[39m\u001b[38;5;124mMissing key(s) in state_dict: \u001b[39m\u001b[38;5;132;01m{}\u001b[39;00m\u001b[38;5;124m. \u001b[39m\u001b[38;5;124m'\u001b[39m\u001b[38;5;241m.\u001b[39mformat(\n\u001b[0;32m   2149\u001b[0m                 \u001b[38;5;124m'\u001b[39m\u001b[38;5;124m, \u001b[39m\u001b[38;5;124m'\u001b[39m\u001b[38;5;241m.\u001b[39mjoin(\u001b[38;5;124mf\u001b[39m\u001b[38;5;124m'\u001b[39m\u001b[38;5;124m\"\u001b[39m\u001b[38;5;132;01m{\u001b[39;00mk\u001b[38;5;132;01m}\u001b[39;00m\u001b[38;5;124m\"\u001b[39m\u001b[38;5;124m'\u001b[39m \u001b[38;5;28;01mfor\u001b[39;00m k \u001b[38;5;129;01min\u001b[39;00m missing_keys)))\n\u001b[0;32m   2151\u001b[0m \u001b[38;5;28;01mif\u001b[39;00m \u001b[38;5;28mlen\u001b[39m(error_msgs) \u001b[38;5;241m>\u001b[39m \u001b[38;5;241m0\u001b[39m:\n\u001b[1;32m-> 2152\u001b[0m     \u001b[38;5;28;01mraise\u001b[39;00m \u001b[38;5;167;01mRuntimeError\u001b[39;00m(\u001b[38;5;124m'\u001b[39m\u001b[38;5;124mError(s) in loading state_dict for \u001b[39m\u001b[38;5;132;01m{}\u001b[39;00m\u001b[38;5;124m:\u001b[39m\u001b[38;5;130;01m\\n\u001b[39;00m\u001b[38;5;130;01m\\t\u001b[39;00m\u001b[38;5;132;01m{}\u001b[39;00m\u001b[38;5;124m'\u001b[39m\u001b[38;5;241m.\u001b[39mformat(\n\u001b[0;32m   2153\u001b[0m                        \u001b[38;5;28mself\u001b[39m\u001b[38;5;241m.\u001b[39m\u001b[38;5;18m__class__\u001b[39m\u001b[38;5;241m.\u001b[39m\u001b[38;5;18m__name__\u001b[39m, \u001b[38;5;124m\"\u001b[39m\u001b[38;5;130;01m\\n\u001b[39;00m\u001b[38;5;130;01m\\t\u001b[39;00m\u001b[38;5;124m\"\u001b[39m\u001b[38;5;241m.\u001b[39mjoin(error_msgs)))\n\u001b[0;32m   2154\u001b[0m \u001b[38;5;28;01mreturn\u001b[39;00m _IncompatibleKeys(missing_keys, unexpected_keys)\n",
      "\u001b[1;31mRuntimeError\u001b[0m: Error(s) in loading state_dict for ExtremalMaskNN:\n\tMissing key(s) in state_dict: \"model.0.rnn.weight_ih_l0\", \"model.0.rnn.weight_hh_l0\", \"model.0.rnn.bias_ih_l0\", \"model.0.rnn.bias_hh_l0\", \"model.0.rnn.weight_ih_l0_reverse\", \"model.0.rnn.weight_hh_l0_reverse\", \"model.0.rnn.bias_ih_l0_reverse\", \"model.0.rnn.bias_hh_l0_reverse\", \"model.1.mlp.Linear_0.weight\", \"model.1.mlp.Linear_0.bias\". "
     ]
    }
   ],
   "source": [
    "## using ExtremalMaskNN instead of Net \n",
    "EMNN = ExtremalMaskNN(forward_func=classifier,\n",
    "        model=nn.Sequential(\n",
    "                RNN(\n",
    "                    input_size=x_train.shape[-1],        \n",
    "                    rnn=\"gru\",\n",
    "                    hidden_size=x_train.shape[-1],\n",
    "                    bidirectional=True,\n",
    "                ),\n",
    "                MLP([2 * x_train.shape[-1], x_train.shape[-1]]),\n",
    "            ),\n",
    "        batch_size= 32)\n",
    "\n",
    "mask = nn.Parameter(th.Tensor([200,50,3]))\n",
    "\n",
    "# Load the state dictionary from the checkpoint file\n",
    "checkpoint_path = ''       ### change path when using different hyperparameters\n",
    "state_dict = th.load(checkpoint_path)\n",
    "\n",
    "filtered_state_dict_mask =  {key: value for key, value in state_dict.items() if key == 'net.mask'}\n",
    "filtered_state_dict_model = {key[4:]: value for key, value in state_dict.items() if key !='net.mask'}  # had to get rid of the 'net.' prefix\n",
    "\n",
    "# Load the state dictionary into the model\n",
    "#print(EMNN.named_parameters)\n",
    "for name, param in EMNN.named_parameters():\n",
    "    print(f\"Parameter: {name}, Shape: {param.shape}\")\n",
    "\n",
    "EMNN.load_state_dict(filtered_state_dict_model)\n",
    "#mask.load_state_dict(filtered_state_dict_mask)\n",
    "mask = state_dict['net.mask']"
   ]
  },
  {
   "cell_type": "code",
   "execution_count": 106,
   "metadata": {},
   "outputs": [
    {
     "name": "stdout",
     "output_type": "stream",
     "text": [
      "net.mask: torch.Size([2000, 50, 3])\n"
     ]
    }
   ],
   "source": [
    "# Sanity check\n",
    "checkpoint_path = 'experiments/checkpoints/hmm_modified_dyna_mask_42_0.ckpt'           ### change path when using different hyperparameters\n",
    "\n",
    "# Load the state dictionary\n",
    "state_dict = th.load(checkpoint_path)\n",
    "\n",
    "# Print keys and shapes in the state dictionary\n",
    "for key, value in state_dict.items():\n",
    "    print(f\"{key}: {value.shape if isinstance(value, th.Tensor) else type(value)}\")"
   ]
  },
  {
   "cell_type": "code",
   "execution_count": 122,
   "metadata": {},
   "outputs": [
    {
     "ename": "TypeError",
     "evalue": "cannot assign 'torch.FloatTensor' as parameter 'mask' (torch.nn.Parameter or None expected)",
     "output_type": "error",
     "traceback": [
      "\u001b[1;31m---------------------------------------------------------------------------\u001b[0m",
      "\u001b[1;31mTypeError\u001b[0m                                 Traceback (most recent call last)",
      "Cell \u001b[1;32mIn[122], line 18\u001b[0m\n\u001b[0;32m     16\u001b[0m checkpoint_path \u001b[38;5;241m=\u001b[39m \u001b[38;5;124m'\u001b[39m\u001b[38;5;124mexperiments/checkpoints/hmm_modified_dyna_mask_42_0.ckpt\u001b[39m\u001b[38;5;124m'\u001b[39m       \u001b[38;5;66;03m### change path when using different hyperparameters\u001b[39;00m\n\u001b[0;32m     17\u001b[0m state_dict \u001b[38;5;241m=\u001b[39m th\u001b[38;5;241m.\u001b[39mload(checkpoint_path)\n\u001b[1;32m---> 18\u001b[0m DynaMask_mask\u001b[38;5;241m.\u001b[39mmask \u001b[38;5;241m=\u001b[39m state_dict[\u001b[38;5;124m\"\u001b[39m\u001b[38;5;124mnet.mask\u001b[39m\u001b[38;5;124m\"\u001b[39m]\n\u001b[0;32m     19\u001b[0m \u001b[38;5;28mprint\u001b[39m(DynaMask_mask\u001b[38;5;241m.\u001b[39mmask)\n\u001b[0;32m     20\u001b[0m \u001b[38;5;28;01mfor\u001b[39;00m name, param \u001b[38;5;129;01min\u001b[39;00m DynaMask_mask\u001b[38;5;241m.\u001b[39mnamed_parameters():\n",
      "File \u001b[1;32mc:\\Users\\sebas\\anaconda3\\envs\\tint\\lib\\site-packages\\torch\\nn\\modules\\module.py:1715\u001b[0m, in \u001b[0;36mModule.__setattr__\u001b[1;34m(self, name, value)\u001b[0m\n\u001b[0;32m   1713\u001b[0m \u001b[38;5;28;01melif\u001b[39;00m params \u001b[38;5;129;01mis\u001b[39;00m \u001b[38;5;129;01mnot\u001b[39;00m \u001b[38;5;28;01mNone\u001b[39;00m \u001b[38;5;129;01mand\u001b[39;00m name \u001b[38;5;129;01min\u001b[39;00m params:\n\u001b[0;32m   1714\u001b[0m     \u001b[38;5;28;01mif\u001b[39;00m value \u001b[38;5;129;01mis\u001b[39;00m \u001b[38;5;129;01mnot\u001b[39;00m \u001b[38;5;28;01mNone\u001b[39;00m:\n\u001b[1;32m-> 1715\u001b[0m         \u001b[38;5;28;01mraise\u001b[39;00m \u001b[38;5;167;01mTypeError\u001b[39;00m(\u001b[38;5;124mf\u001b[39m\u001b[38;5;124m\"\u001b[39m\u001b[38;5;124mcannot assign \u001b[39m\u001b[38;5;124m'\u001b[39m\u001b[38;5;132;01m{\u001b[39;00mtorch\u001b[38;5;241m.\u001b[39mtypename(value)\u001b[38;5;132;01m}\u001b[39;00m\u001b[38;5;124m'\u001b[39m\u001b[38;5;124m as parameter \u001b[39m\u001b[38;5;124m'\u001b[39m\u001b[38;5;132;01m{\u001b[39;00mname\u001b[38;5;132;01m}\u001b[39;00m\u001b[38;5;124m'\u001b[39m\u001b[38;5;124m \u001b[39m\u001b[38;5;124m\"\u001b[39m\n\u001b[0;32m   1716\u001b[0m                         \u001b[38;5;124m\"\u001b[39m\u001b[38;5;124m(torch.nn.Parameter or None expected)\u001b[39m\u001b[38;5;124m\"\u001b[39m\n\u001b[0;32m   1717\u001b[0m                         )\n\u001b[0;32m   1718\u001b[0m     \u001b[38;5;28mself\u001b[39m\u001b[38;5;241m.\u001b[39mregister_parameter(name, value)\n\u001b[0;32m   1719\u001b[0m \u001b[38;5;28;01melse\u001b[39;00m:\n",
      "\u001b[1;31mTypeError\u001b[0m: cannot assign 'torch.FloatTensor' as parameter 'mask' (torch.nn.Parameter or None expected)"
     ]
    }
   ],
   "source": [
    "### make code like above, but for dynamask\n",
    "\n",
    "## using ExtremalMaskNN instead of Net \n",
    "DynaMask_mask = Mask(\n",
    "            forward_func=classifier,\n",
    "            perturbation=\"gaussian_blur\",\n",
    "            sigma_max=1,\n",
    "            keep_ratio=list(np.arange(0.25, 0.35, 0.01)),\n",
    "            size_reg_factor_init=0.1,\n",
    "            size_reg_factor_dilation=100,\n",
    "            time_reg_factor=1.0,\n",
    "        )\n",
    "DynaMask_explainer = DynaMask('hmm_modified', classifier, 42, 0)\n",
    "\n",
    "# Load the state dictionary from the checkpoint file\n",
    "checkpoint_path = 'experiments/checkpoints/hmm_modified_dyna_mask_42_0.ckpt'       ### change path when using different hyperparameters\n",
    "state_dict = th.load(checkpoint_path)\n",
    "DynaMask_mask.mask = state_dict[\"net.mask\"]\n",
    "print(DynaMask_mask.mask)\n",
    "for name, param in DynaMask_mask.named_parameters():\n",
    "    print(f\"Parameter name: {name}, Size: {param.size()}\")\n",
    "filtered_state_dict = {key[4:]: value for key, value in state_dict.items()}  # had to get rid of the 'net.' prefix\n",
    "\n",
    "DynaMask_mask.load_state_dict(state_dict)"
   ]
  },
  {
   "cell_type": "code",
   "execution_count": 81,
   "metadata": {},
   "outputs": [
    {
     "data": {
      "text/plain": [
       "(array([21095.,   217.,   231.,   260.,   291.,   371.,   470.,   666.,\n",
       "         1055.,  5344.]),\n",
       " array([-0.00897944,  0.09297914,  0.19493772,  0.29689631,  0.39885491,\n",
       "         0.50081348,  0.60277206,  0.70473063,  0.80668926,  0.90864784,\n",
       "         1.01060641]),\n",
       " <BarContainer object of 10 artists>)"
      ]
     },
     "execution_count": 81,
     "metadata": {},
     "output_type": "execute_result"
    },
    {
     "data": {
      "image/png": "[encoded data removed]",
      "text/plain": [
       "<Figure size 640x480 with 1 Axes>"
      ]
     },
     "metadata": {},
     "output_type": "display_data"
    }
   ],
   "source": [
    "plt.hist(mask.view(-1))"
   ]
  },
  {
   "cell_type": "code",
   "execution_count": 82,
   "metadata": {},
   "outputs": [],
   "source": [
    "def perturb(x,m,x_):\n",
    "    return m*x + (1-m)*x_ "
   ]
  },
  {
   "cell_type": "code",
   "execution_count": 83,
   "metadata": {},
   "outputs": [],
   "source": [
    "hmm = HMM_modified(n_folds=5, fold=1, seed=seed)      ### set the right fold"
   ]
  },
  {
   "cell_type": "code",
   "execution_count": 84,
   "metadata": {},
   "outputs": [
    {
     "name": "stdout",
     "output_type": "stream",
     "text": [
      "probs: [2.08896713e-79 9.27594260e-72]\n",
      "mean log probs: [-211.23392499 -174.39077039]\n"
     ]
    }
   ],
   "source": [
    "# Apply forward algorithm to get log probabilities of test set datapoints and their perturbations\n",
    "\n",
    "N = x_test.shape[0]\n",
    "p = np.zeros(shape=(N,2))\n",
    "l = np.zeros(shape=(N,2))\n",
    "for i in range(N):    \n",
    "    x = x_test[i].to(th.float32)\n",
    "    #print(type(x))\n",
    "    x_ = EMNN.model(x)  ### baselines are 0 by default\n",
    "    x_p = perturb(x,mask[i],x_) \n",
    "    x = x.detach().numpy()\n",
    "    x_p = x_p.detach().numpy()\n",
    "    p[i,0] = forward(hmm, x)[1]\n",
    "    p[i,1] = forward(hmm, x_p)[1]\n",
    "    l[i,0] = np.log(p[i,0])\n",
    "    l[i,1] = np.log(p[i,1])\n",
    "    \n",
    "print(f\"probs: {np.mean(p, axis=0)}\")\n",
    "print(f\"mean log probs: {np.mean(l, axis=0)}\")"
   ]
  },
  {
   "cell_type": "code",
   "execution_count": 85,
   "metadata": {},
   "outputs": [
    {
     "data": {
      "text/plain": [
       "Text(0.5, 1.0, 'Log probability boxplot')"
      ]
     },
     "execution_count": 85,
     "metadata": {},
     "output_type": "execute_result"
    },
    {
     "data": {
      "image/png": "[encoded data removed]",
      "text/plain": [
       "<Figure size 640x480 with 1 Axes>"
      ]
     },
     "metadata": {},
     "output_type": "display_data"
    }
   ],
   "source": [
    "plt.boxplot(l, labels=['original','perturbed'])\n",
    "# Add labels and title\n",
    "plt.xlabel('Datapoint category')\n",
    "plt.ylabel('logPDF value')\n",
    "plt.title('Log probability boxplot')"
   ]
  }
 ],
 "metadata": {
  "kernelspec": {
   "display_name": "tint",
   "language": "python",
   "name": "python3"
  },
  "language_info": {
   "codemirror_mode": {
    "name": "ipython",
    "version": 3
   },
   "file_extension": ".py",
   "mimetype": "text/x-python",
   "name": "python",
   "nbconvert_exporter": "python",
   "pygments_lexer": "ipython3",
   "version": "3.9.7"
  }
 },
 "nbformat": 4,
 "nbformat_minor": 2
}

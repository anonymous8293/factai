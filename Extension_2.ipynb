{
 "cells": [
  {
   "cell_type": "markdown",
   "metadata": {},
   "source": [
    "# Notebook for Extension 2\n",
    "This notebook includes the replication of extension 3 findings from the report.\n",
    "\n",
    "**Disclaimer**: we do not provide the necessary data or trained models to run the following notebook due to the fact that MIMIC-III data is not public. If you were to gain access to it, train your the necessary models (seen below), and put them in the correct folders, you would be able to run the notebook. Please contact us if you would like to get access to our trained models and explainers.\n",
    "\n",
    "\n",
    "Concretely what it includes is:\n",
    "1) Training of the classifier, and ExtremalMask explainer on HMM Modified dataset (or just loading their weights if the models already exist)\n",
    "2) Perturbing all test set datapoints using the explainer (we do this on the classifier's test set data only because those are the datapoints for which we have mask values)\n",
    "3) Application of the forward algorithm to calculate log-probabilities of original and perturbed datapoints\n",
    "4) Plotting the log-probabilities\n",
    "5) Additional plots\n",
    "\n",
    "**Extension 2:** Using a synthetic dataset (HMM modified, Section 3.2.2),we explore the plausibility of the perturbations created with ExtremalMask by testing their probability relative to the original distribution."
   ]
  },
  {
   "cell_type": "code",
   "execution_count": 8,
   "metadata": {},
   "outputs": [],
   "source": [
    "import matplotlib.pyplot as plt\n",
    "import numpy as np\n",
    "import torch as th\n",
    "import torch.nn as nn\n",
    "from pytorch_lightning import seed_everything\n",
    "from tint.attr.models import ExtremalMaskNN\n",
    "from tint.datasets.hmm_modified import HMM_modified\n",
    "from tint.models import MLP, RNN\n",
    "from tint.utils.forward import forward\n",
    "\n",
    "from experiments.hmm.classifier import StateClassifierNet"
   ]
  },
  {
   "cell_type": "code",
   "execution_count": 9,
   "metadata": {},
   "outputs": [
    {
     "name": "stderr",
     "output_type": "stream",
     "text": [
      "Global seed set to 42\n"
     ]
    },
    {
     "data": {
      "text/plain": [
       "42"
      ]
     },
     "execution_count": 9,
     "metadata": {},
     "output_type": "execute_result"
    }
   ],
   "source": [
    "# Make the results deterministic\n",
    "seed = 42\n",
    "seed_everything(seed=seed, workers=True)"
   ]
  },
  {
   "cell_type": "code",
   "execution_count": 10,
   "metadata": {},
   "outputs": [
    {
     "name": "stderr",
     "output_type": "stream",
     "text": [
      "Global seed set to 42\n"
     ]
    },
    {
     "name": "stderr",
     "output_type": "stream",
     "text": [
      "GPU available: False, used: False\n",
      "TPU available: False, using: 0 TPU cores\n",
      "IPU available: False, using: 0 IPUs\n",
      "HPU available: False, using: 0 HPUs\n",
      "\n",
      "   | Name        | Type             | Params\n",
      "--------------------------------------------------\n",
      "0  | net         | StateClassifier  | 8.5 K \n",
      "1  | _loss       | CrossEntropyLoss | 0     \n",
      "2  | train_acc   | BinaryAccuracy   | 0     \n",
      "3  | train_pre   | BinaryPrecision  | 0     \n",
      "4  | train_rec   | BinaryRecall     | 0     \n",
      "5  | train_auroc | BinaryAUROC      | 0     \n",
      "6  | val_acc     | BinaryAccuracy   | 0     \n",
      "7  | val_pre     | BinaryPrecision  | 0     \n",
      "8  | val_rec     | BinaryRecall     | 0     \n",
      "9  | val_auroc   | BinaryAUROC      | 0     \n",
      "10 | test_acc    | BinaryAccuracy   | 0     \n",
      "11 | test_pre    | BinaryPrecision  | 0     \n",
      "12 | test_rec    | BinaryRecall     | 0     \n",
      "13 | test_auroc  | BinaryAUROC      | 0     \n",
      "--------------------------------------------------\n",
      "8.5 K     Trainable params\n",
      "0         Non-trainable params\n",
      "8.5 K     Total params\n",
      "0.034     Total estimated model params size (MB)\n"
     ]
    },
    {
     "data": {
      "application/vnd.jupyter.widget-view+json": {
       "model_id": "260d58b1ce9e49beb1378e89d26eae34",
       "version_major": 2,
       "version_minor": 0
      },
      "text/plain": [
       "Sanity Checking: 0it [00:00, ?it/s]"
      ]
     },
     "metadata": {},
     "output_type": "display_data"
    },
    {
     "data": {
      "application/vnd.jupyter.widget-view+json": {
       "model_id": "97a1a947019e4e6bae584b7bec3d0494",
       "version_major": 2,
       "version_minor": 0
      },
      "text/plain": [
       "Training: 0it [00:00, ?it/s]"
      ]
     },
     "metadata": {},
     "output_type": "display_data"
    },
    {
     "data": {
      "application/vnd.jupyter.widget-view+json": {
       "model_id": "c06492eb35874f81afe795c56abc74e6",
       "version_major": 2,
       "version_minor": 0
      },
      "text/plain": [
       "Validation: 0it [00:00, ?it/s]"
      ]
     },
     "metadata": {},
     "output_type": "display_data"
    },
    {
     "data": {
      "application/vnd.jupyter.widget-view+json": {
       "model_id": "6c435a2ff90a4266a9e8669dc5b7d899",
       "version_major": 2,
       "version_minor": 0
      },
      "text/plain": [
       "Validation: 0it [00:00, ?it/s]"
      ]
     },
     "metadata": {},
     "output_type": "display_data"
    },
    {
     "data": {
      "application/vnd.jupyter.widget-view+json": {
       "model_id": "741e62e9eed84ca0a5e2b7295c4b9c12",
       "version_major": 2,
       "version_minor": 0
      },
      "text/plain": [
       "Validation: 0it [00:00, ?it/s]"
      ]
     },
     "metadata": {},
     "output_type": "display_data"
    },
    {
     "data": {
      "application/vnd.jupyter.widget-view+json": {
       "model_id": "fd3130b6b6cd46be87c0cf678ae8aea1",
       "version_major": 2,
       "version_minor": 0
      },
      "text/plain": [
       "Validation: 0it [00:00, ?it/s]"
      ]
     },
     "metadata": {},
     "output_type": "display_data"
    },
    {
     "data": {
      "application/vnd.jupyter.widget-view+json": {
       "model_id": "b0c6f3afaf3f462e922ac8586a669fe1",
       "version_major": 2,
       "version_minor": 0
      },
      "text/plain": [
       "Validation: 0it [00:00, ?it/s]"
      ]
     },
     "metadata": {},
     "output_type": "display_data"
    },
    {
     "data": {
      "application/vnd.jupyter.widget-view+json": {
       "model_id": "9926ce76d8944847a72b91ae6df7a58e",
       "version_major": 2,
       "version_minor": 0
      },
      "text/plain": [
       "Validation: 0it [00:00, ?it/s]"
      ]
     },
     "metadata": {},
     "output_type": "display_data"
    },
    {
     "data": {
      "application/vnd.jupyter.widget-view+json": {
       "model_id": "bcb7825b6dc64581b8d3aff1c56d4472",
       "version_major": 2,
       "version_minor": 0
      },
      "text/plain": [
       "Validation: 0it [00:00, ?it/s]"
      ]
     },
     "metadata": {},
     "output_type": "display_data"
    },
    {
     "data": {
      "application/vnd.jupyter.widget-view+json": {
       "model_id": "db4b7750f85940fe93b6ca124f4f110d",
       "version_major": 2,
       "version_minor": 0
      },
      "text/plain": [
       "Validation: 0it [00:00, ?it/s]"
      ]
     },
     "metadata": {},
     "output_type": "display_data"
    },
    {
     "data": {
      "application/vnd.jupyter.widget-view+json": {
       "model_id": "1ed3e74aae6f43139514138aeb8a5719",
       "version_major": 2,
       "version_minor": 0
      },
      "text/plain": [
       "Validation: 0it [00:00, ?it/s]"
      ]
     },
     "metadata": {},
     "output_type": "display_data"
    },
    {
     "data": {
      "application/vnd.jupyter.widget-view+json": {
       "model_id": "c863143aa9454f63a9d0d3d43f813045",
       "version_major": 2,
       "version_minor": 0
      },
      "text/plain": [
       "Validation: 0it [00:00, ?it/s]"
      ]
     },
     "metadata": {},
     "output_type": "display_data"
    },
    {
     "data": {
      "application/vnd.jupyter.widget-view+json": {
       "model_id": "0970529b16e04aef9e68e3c336d8a04c",
       "version_major": 2,
       "version_minor": 0
      },
      "text/plain": [
       "Validation: 0it [00:00, ?it/s]"
      ]
     },
     "metadata": {},
     "output_type": "display_data"
    },
    {
     "data": {
      "application/vnd.jupyter.widget-view+json": {
       "model_id": "39aef88beb0b462b83fa3d48779a4cc5",
       "version_major": 2,
       "version_minor": 0
      },
      "text/plain": [
       "Validation: 0it [00:00, ?it/s]"
      ]
     },
     "metadata": {},
     "output_type": "display_data"
    },
    {
     "data": {
      "application/vnd.jupyter.widget-view+json": {
       "model_id": "e53bdc41764449cb990e08813221dc09",
       "version_major": 2,
       "version_minor": 0
      },
      "text/plain": [
       "Validation: 0it [00:00, ?it/s]"
      ]
     },
     "metadata": {},
     "output_type": "display_data"
    },
    {
     "data": {
      "application/vnd.jupyter.widget-view+json": {
       "model_id": "d868b7dc4d984187a7bbfeaee438d974",
       "version_major": 2,
       "version_minor": 0
      },
      "text/plain": [
       "Validation: 0it [00:00, ?it/s]"
      ]
     },
     "metadata": {},
     "output_type": "display_data"
    },
    {
     "data": {
      "application/vnd.jupyter.widget-view+json": {
       "model_id": "3a041dc9115a4fab953ef0fc74c0f0cb",
       "version_major": 2,
       "version_minor": 0
      },
      "text/plain": [
       "Validation: 0it [00:00, ?it/s]"
      ]
     },
     "metadata": {},
     "output_type": "display_data"
    },
    {
     "data": {
      "application/vnd.jupyter.widget-view+json": {
       "model_id": "7b44c93375f04c92a3bbc3a09a2f9bca",
       "version_major": 2,
       "version_minor": 0
      },
      "text/plain": [
       "Validation: 0it [00:00, ?it/s]"
      ]
     },
     "metadata": {},
     "output_type": "display_data"
    },
    {
     "data": {
      "application/vnd.jupyter.widget-view+json": {
       "model_id": "0e66e99a34c64c76ab42525f4a80698c",
       "version_major": 2,
       "version_minor": 0
      },
      "text/plain": [
       "Validation: 0it [00:00, ?it/s]"
      ]
     },
     "metadata": {},
     "output_type": "display_data"
    },
    {
     "data": {
      "application/vnd.jupyter.widget-view+json": {
       "model_id": "01c9c10e138443eb92e58e7d57585332",
       "version_major": 2,
       "version_minor": 0
      },
      "text/plain": [
       "Validation: 0it [00:00, ?it/s]"
      ]
     },
     "metadata": {},
     "output_type": "display_data"
    },
    {
     "data": {
      "application/vnd.jupyter.widget-view+json": {
       "model_id": "7d3c578a5b7b4fa4808035b3877ab907",
       "version_major": 2,
       "version_minor": 0
      },
      "text/plain": [
       "Validation: 0it [00:00, ?it/s]"
      ]
     },
     "metadata": {},
     "output_type": "display_data"
    },
    {
     "data": {
      "application/vnd.jupyter.widget-view+json": {
       "model_id": "cbd7684f51244e3ba4a9c30509e4c043",
       "version_major": 2,
       "version_minor": 0
      },
      "text/plain": [
       "Validation: 0it [00:00, ?it/s]"
      ]
     },
     "metadata": {},
     "output_type": "display_data"
    },
    {
     "data": {
      "application/vnd.jupyter.widget-view+json": {
       "model_id": "eaa84f48c4c6412ea7ab34a592946883",
       "version_major": 2,
       "version_minor": 0
      },
      "text/plain": [
       "Validation: 0it [00:00, ?it/s]"
      ]
     },
     "metadata": {},
     "output_type": "display_data"
    },
    {
     "data": {
      "application/vnd.jupyter.widget-view+json": {
       "model_id": "fee494442876429bbbb41125f139914a",
       "version_major": 2,
       "version_minor": 0
      },
      "text/plain": [
       "Validation: 0it [00:00, ?it/s]"
      ]
     },
     "metadata": {},
     "output_type": "display_data"
    },
    {
     "data": {
      "application/vnd.jupyter.widget-view+json": {
       "model_id": "50ccde76ddbd44cdbc6be4affb9ff40b",
       "version_major": 2,
       "version_minor": 0
      },
      "text/plain": [
       "Validation: 0it [00:00, ?it/s]"
      ]
     },
     "metadata": {},
     "output_type": "display_data"
    },
    {
     "data": {
      "application/vnd.jupyter.widget-view+json": {
       "model_id": "d3a3340fa52942dbaa29ad1b32f19d12",
       "version_major": 2,
       "version_minor": 0
      },
      "text/plain": [
       "Validation: 0it [00:00, ?it/s]"
      ]
     },
     "metadata": {},
     "output_type": "display_data"
    },
    {
     "data": {
      "application/vnd.jupyter.widget-view+json": {
       "model_id": "5f5d9cd4b25e4f5799306753f0907cb0",
       "version_major": 2,
       "version_minor": 0
      },
      "text/plain": [
       "Validation: 0it [00:00, ?it/s]"
      ]
     },
     "metadata": {},
     "output_type": "display_data"
    },
    {
     "data": {
      "application/vnd.jupyter.widget-view+json": {
       "model_id": "bcc9f4cf0ba04d5dab147bb5300f1738",
       "version_major": 2,
       "version_minor": 0
      },
      "text/plain": [
       "Validation: 0it [00:00, ?it/s]"
      ]
     },
     "metadata": {},
     "output_type": "display_data"
    },
    {
     "data": {
      "application/vnd.jupyter.widget-view+json": {
       "model_id": "dfa2f37c9cbb430481953bd9c3cc7d61",
       "version_major": 2,
       "version_minor": 0
      },
      "text/plain": [
       "Validation: 0it [00:00, ?it/s]"
      ]
     },
     "metadata": {},
     "output_type": "display_data"
    },
    {
     "data": {
      "application/vnd.jupyter.widget-view+json": {
       "model_id": "5ec6dbf2e53647c4aa620f648d212a98",
       "version_major": 2,
       "version_minor": 0
      },
      "text/plain": [
       "Validation: 0it [00:00, ?it/s]"
      ]
     },
     "metadata": {},
     "output_type": "display_data"
    },
    {
     "data": {
      "application/vnd.jupyter.widget-view+json": {
       "model_id": "92808b97d29749dda2f455d4ecb8e585",
       "version_major": 2,
       "version_minor": 0
      },
      "text/plain": [
       "Validation: 0it [00:00, ?it/s]"
      ]
     },
     "metadata": {},
     "output_type": "display_data"
    },
    {
     "data": {
      "application/vnd.jupyter.widget-view+json": {
       "model_id": "af36e2aabe3b4714ae3893c1d8372785",
       "version_major": 2,
       "version_minor": 0
      },
      "text/plain": [
       "Validation: 0it [00:00, ?it/s]"
      ]
     },
     "metadata": {},
     "output_type": "display_data"
    },
    {
     "data": {
      "application/vnd.jupyter.widget-view+json": {
       "model_id": "96cbc26ba0f5420ebe408d3e4c8b7aab",
       "version_major": 2,
       "version_minor": 0
      },
      "text/plain": [
       "Validation: 0it [00:00, ?it/s]"
      ]
     },
     "metadata": {},
     "output_type": "display_data"
    },
    {
     "data": {
      "application/vnd.jupyter.widget-view+json": {
       "model_id": "cb52d10ab3714eb6b796bd0c0b30cf24",
       "version_major": 2,
       "version_minor": 0
      },
      "text/plain": [
       "Validation: 0it [00:00, ?it/s]"
      ]
     },
     "metadata": {},
     "output_type": "display_data"
    },
    {
     "data": {
      "application/vnd.jupyter.widget-view+json": {
       "model_id": "c5f559fd0e634610ae2713f2fe4b8855",
       "version_major": 2,
       "version_minor": 0
      },
      "text/plain": [
       "Validation: 0it [00:00, ?it/s]"
      ]
     },
     "metadata": {},
     "output_type": "display_data"
    },
    {
     "data": {
      "application/vnd.jupyter.widget-view+json": {
       "model_id": "ffd417513e02400c8c01f3fda5411f29",
       "version_major": 2,
       "version_minor": 0
      },
      "text/plain": [
       "Validation: 0it [00:00, ?it/s]"
      ]
     },
     "metadata": {},
     "output_type": "display_data"
    },
    {
     "data": {
      "application/vnd.jupyter.widget-view+json": {
       "model_id": "f57bb4b55e074c16882bda5149bda971",
       "version_major": 2,
       "version_minor": 0
      },
      "text/plain": [
       "Validation: 0it [00:00, ?it/s]"
      ]
     },
     "metadata": {},
     "output_type": "display_data"
    },
    {
     "data": {
      "application/vnd.jupyter.widget-view+json": {
       "model_id": "f11cd889490942f08442900b22f8ec03",
       "version_major": 2,
       "version_minor": 0
      },
      "text/plain": [
       "Validation: 0it [00:00, ?it/s]"
      ]
     },
     "metadata": {},
     "output_type": "display_data"
    },
    {
     "data": {
      "application/vnd.jupyter.widget-view+json": {
       "model_id": "5bab5806324243128bc5f71b96900815",
       "version_major": 2,
       "version_minor": 0
      },
      "text/plain": [
       "Validation: 0it [00:00, ?it/s]"
      ]
     },
     "metadata": {},
     "output_type": "display_data"
    },
    {
     "data": {
      "application/vnd.jupyter.widget-view+json": {
       "model_id": "1100073df09445a78f51cc808d750d46",
       "version_major": 2,
       "version_minor": 0
      },
      "text/plain": [
       "Validation: 0it [00:00, ?it/s]"
      ]
     },
     "metadata": {},
     "output_type": "display_data"
    },
    {
     "data": {
      "application/vnd.jupyter.widget-view+json": {
       "model_id": "2a89512a7e354406947d84fc115f3c83",
       "version_major": 2,
       "version_minor": 0
      },
      "text/plain": [
       "Validation: 0it [00:00, ?it/s]"
      ]
     },
     "metadata": {},
     "output_type": "display_data"
    },
    {
     "data": {
      "application/vnd.jupyter.widget-view+json": {
       "model_id": "dca88656773049ceb3ab0e416d2e5535",
       "version_major": 2,
       "version_minor": 0
      },
      "text/plain": [
       "Validation: 0it [00:00, ?it/s]"
      ]
     },
     "metadata": {},
     "output_type": "display_data"
    },
    {
     "data": {
      "application/vnd.jupyter.widget-view+json": {
       "model_id": "5879bf4ffb4643969e34077b598b6e29",
       "version_major": 2,
       "version_minor": 0
      },
      "text/plain": [
       "Validation: 0it [00:00, ?it/s]"
      ]
     },
     "metadata": {},
     "output_type": "display_data"
    },
    {
     "data": {
      "application/vnd.jupyter.widget-view+json": {
       "model_id": "5f807de587724739901b4790c3e198cb",
       "version_major": 2,
       "version_minor": 0
      },
      "text/plain": [
       "Validation: 0it [00:00, ?it/s]"
      ]
     },
     "metadata": {},
     "output_type": "display_data"
    },
    {
     "data": {
      "application/vnd.jupyter.widget-view+json": {
       "model_id": "8bb354ae6f67439a9aa2afd559607dd5",
       "version_major": 2,
       "version_minor": 0
      },
      "text/plain": [
       "Validation: 0it [00:00, ?it/s]"
      ]
     },
     "metadata": {},
     "output_type": "display_data"
    },
    {
     "data": {
      "application/vnd.jupyter.widget-view+json": {
       "model_id": "266a65640d3a46e382cd6ef21ed66d3f",
       "version_major": 2,
       "version_minor": 0
      },
      "text/plain": [
       "Validation: 0it [00:00, ?it/s]"
      ]
     },
     "metadata": {},
     "output_type": "display_data"
    },
    {
     "data": {
      "application/vnd.jupyter.widget-view+json": {
       "model_id": "adc44d27e8a142ab97d37511399924ef",
       "version_major": 2,
       "version_minor": 0
      },
      "text/plain": [
       "Validation: 0it [00:00, ?it/s]"
      ]
     },
     "metadata": {},
     "output_type": "display_data"
    },
    {
     "data": {
      "application/vnd.jupyter.widget-view+json": {
       "model_id": "2c92bb3031e741b4b81d74aaece882a1",
       "version_major": 2,
       "version_minor": 0
      },
      "text/plain": [
       "Validation: 0it [00:00, ?it/s]"
      ]
     },
     "metadata": {},
     "output_type": "display_data"
    },
    {
     "data": {
      "application/vnd.jupyter.widget-view+json": {
       "model_id": "89dad8839ce7432787b5f8621f632169",
       "version_major": 2,
       "version_minor": 0
      },
      "text/plain": [
       "Validation: 0it [00:00, ?it/s]"
      ]
     },
     "metadata": {},
     "output_type": "display_data"
    },
    {
     "data": {
      "application/vnd.jupyter.widget-view+json": {
       "model_id": "85f1053c87d84b389041e170ad21509d",
       "version_major": 2,
       "version_minor": 0
      },
      "text/plain": [
       "Validation: 0it [00:00, ?it/s]"
      ]
     },
     "metadata": {},
     "output_type": "display_data"
    },
    {
     "data": {
      "application/vnd.jupyter.widget-view+json": {
       "model_id": "ac65c1c6375b41a0ae6ff4bb705091c1",
       "version_major": 2,
       "version_minor": 0
      },
      "text/plain": [
       "Validation: 0it [00:00, ?it/s]"
      ]
     },
     "metadata": {},
     "output_type": "display_data"
    },
    {
     "data": {
      "application/vnd.jupyter.widget-view+json": {
       "model_id": "c3be43e44f614d9fa3efef64f50961e2",
       "version_major": 2,
       "version_minor": 0
      },
      "text/plain": [
       "Validation: 0it [00:00, ?it/s]"
      ]
     },
     "metadata": {},
     "output_type": "display_data"
    },
    {
     "name": "stderr",
     "output_type": "stream",
     "text": [
      "`Trainer.fit` stopped: `max_epochs=50` reached.\n",
      "GPU available: False, used: False\n",
      "TPU available: False, using: 0 TPU cores\n",
      "IPU available: False, using: 0 IPUs\n",
      "HPU available: False, using: 0 HPUs\n",
      "\n",
      "  | Name  | Type           | Params\n",
      "-----------------------------------------\n",
      "0 | net   | ExtremalMaskNN | 30.2 K\n",
      "1 | _loss | MSELoss        | 0     \n",
      "-----------------------------------------\n",
      "30.2 K    Trainable params\n",
      "0         Non-trainable params\n",
      "30.2 K    Total params\n",
      "0.121     Total estimated model params size (MB)\n"
     ]
    },
    {
     "name": "stdout",
     "output_type": "stream",
     "text": [
      "preservation mode is  True\n"
     ]
    },
    {
     "data": {
      "application/vnd.jupyter.widget-view+json": {
       "model_id": "5f8386ab30434ece85880352fb1404d3",
       "version_major": 2,
       "version_minor": 0
      },
      "text/plain": [
       "Training: 0it [00:00, ?it/s]"
      ]
     },
     "metadata": {},
     "output_type": "display_data"
    },
    {
     "name": "stderr",
     "output_type": "stream",
     "text": [
      "`Trainer.fit` stopped: `max_epochs=500` reached.\n"
     ]
    }
   ],
   "source": [
    "# Train classifier and Extremal mask explainer, store model weights\n",
    "%run experiments/hmm/main.py --fold 0 --explainers \"extremal_mask\" --deterministic --output-file \"hmm_modified_results_per_fold.csv\" --dataset-name \"hmm_modified\" --hidden-size 50 "
   ]
  },
  {
   "cell_type": "code",
   "execution_count": 11,
   "metadata": {},
   "outputs": [],
   "source": [
    "### Get data\n",
    "train_features = np.load(\"tint/data/hmm/train_features_modified.npz\", allow_pickle=True)\n",
    "test_features = np.load(\"tint/data/hmm/test_features_modified.npz\", allow_pickle=True)\n",
    "test_states = np.load('tint/data/hmm/test_states_modified.npz', allow_pickle= True)"
   ]
  },
  {
   "cell_type": "code",
   "execution_count": 12,
   "metadata": {},
   "outputs": [
    {
     "name": "stdout",
     "output_type": "stream",
     "text": [
      "<class 'torch.Tensor'> torch.Size([800, 50, 3])\n"
     ]
    }
   ],
   "source": [
    "# Transform to tensors, check shape\n",
    "x_train = th.tensor(train_features)\n",
    "x_test = th.tensor(test_features)\n",
    "x_test_states = th.tensor(test_states)\n",
    "print(type(x_train), x_train.shape)"
   ]
  },
  {
   "cell_type": "code",
   "execution_count": 13,
   "metadata": {},
   "outputs": [
    {
     "data": {
      "text/plain": [
       "<All keys matched successfully>"
      ]
     },
     "execution_count": 13,
     "metadata": {},
     "output_type": "execute_result"
    }
   ],
   "source": [
    "### Get classifier\n",
    "# Create model\n",
    "classifier = StateClassifierNet(\n",
    "    feature_size=3,\n",
    "    n_state=2,\n",
    "    hidden_size=50,\n",
    "    regres=True,\n",
    "    loss=\"cross_entropy\",\n",
    "    lr=0.0001,\n",
    "    l2=1e-3,\n",
    ")\n",
    "\n",
    "# Load the state dictionary from the checkpoint file\n",
    "checkpoint_path = \"experiments/checkpoints/hmm_modified_classifier_42_0.ckpt\"  ### change path when using different hyperparameters\n",
    "state_dict = th.load(checkpoint_path)\n",
    "\n",
    "# Load the state dictionary into the model\n",
    "classifier.load_state_dict(state_dict)"
   ]
  },
  {
   "cell_type": "code",
   "execution_count": 14,
   "metadata": {},
   "outputs": [
    {
     "name": "stdout",
     "output_type": "stream",
     "text": [
      "net.mask: torch.Size([200, 50, 3])\n",
      "net.model.0.rnn.weight_ih_l0: torch.Size([9, 3])\n",
      "net.model.0.rnn.weight_hh_l0: torch.Size([9, 3])\n",
      "net.model.0.rnn.bias_ih_l0: torch.Size([9])\n",
      "net.model.0.rnn.bias_hh_l0: torch.Size([9])\n",
      "net.model.0.rnn.weight_ih_l0_reverse: torch.Size([9, 3])\n",
      "net.model.0.rnn.weight_hh_l0_reverse: torch.Size([9, 3])\n",
      "net.model.0.rnn.bias_ih_l0_reverse: torch.Size([9])\n",
      "net.model.0.rnn.bias_hh_l0_reverse: torch.Size([9])\n",
      "net.model.1.mlp.Linear_0.weight: torch.Size([3, 6])\n",
      "net.model.1.mlp.Linear_0.bias: torch.Size([3])\n"
     ]
    }
   ],
   "source": [
    "# Sanity check for explainer model weights\n",
    "checkpoint_path = \"experiments/checkpoints/hmm_modified_extremal_mask_42_1.0_1.0_0.ckpt\"  ### change path when using different hyperparameters\n",
    "\n",
    "# Load the state dictionary\n",
    "state_dict = th.load(checkpoint_path)\n",
    "\n",
    "# Print keys and shapes in the state dictionary\n",
    "for key, value in state_dict.items():\n",
    "    print(f\"{key}: {value.shape if isinstance(value, th.Tensor) else type(value)}\")"
   ]
  },
  {
   "cell_type": "code",
   "execution_count": 15,
   "metadata": {},
   "outputs": [
    {
     "name": "stdout",
     "output_type": "stream",
     "text": [
      "Parameter: model.0.rnn.weight_ih_l0, Shape: torch.Size([9, 3])\n",
      "Parameter: model.0.rnn.weight_hh_l0, Shape: torch.Size([9, 3])\n",
      "Parameter: model.0.rnn.bias_ih_l0, Shape: torch.Size([9])\n",
      "Parameter: model.0.rnn.bias_hh_l0, Shape: torch.Size([9])\n",
      "Parameter: model.0.rnn.weight_ih_l0_reverse, Shape: torch.Size([9, 3])\n",
      "Parameter: model.0.rnn.weight_hh_l0_reverse, Shape: torch.Size([9, 3])\n",
      "Parameter: model.0.rnn.bias_ih_l0_reverse, Shape: torch.Size([9])\n",
      "Parameter: model.0.rnn.bias_hh_l0_reverse, Shape: torch.Size([9])\n",
      "Parameter: model.1.mlp.Linear_0.weight, Shape: torch.Size([3, 6])\n",
      "Parameter: model.1.mlp.Linear_0.bias, Shape: torch.Size([3])\n"
     ]
    }
   ],
   "source": [
    "EMNN = ExtremalMaskNN(\n",
    "    forward_func=classifier,\n",
    "    model=nn.Sequential(\n",
    "        RNN(\n",
    "            input_size=x_train.shape[-1],\n",
    "            rnn=\"gru\",\n",
    "            hidden_size=x_train.shape[-1],\n",
    "            bidirectional=True,\n",
    "        ),\n",
    "        MLP([2 * x_train.shape[-1], x_train.shape[-1]]),\n",
    "    ),\n",
    "    batch_size=32,\n",
    ")\n",
    "\n",
    "mask = nn.Parameter(th.Tensor([200, 50, 3]))\n",
    "\n",
    "# Load the state dictionary from the checkpoint file\n",
    "checkpoint_path = \"experiments/checkpoints/hmm_modified_extremal_mask_42_1.0_1.0_0.ckpt\"  ### change path when using different hyperparameters\n",
    "state_dict = th.load(checkpoint_path)\n",
    "\n",
    "filtered_state_dict_mask = {\n",
    "    key: value for key, value in state_dict.items() if key == \"net.mask\"\n",
    "}\n",
    "filtered_state_dict_model = {\n",
    "    key[4:]: value for key, value in state_dict.items() if key != \"net.mask\"\n",
    "}\n",
    "\n",
    "# Load the state dictionary into the model\n",
    "# print(EMNN.named_parameters)\n",
    "for name, param in EMNN.named_parameters():\n",
    "    print(f\"Parameter: {name}, Shape: {param.shape}\")\n",
    "\n",
    "EMNN.load_state_dict(filtered_state_dict_model)\n",
    "# mask.load_state_dict(filtered_state_dict_mask)\n",
    "mask = state_dict[\"net.mask\"]"
   ]
  },
  {
   "cell_type": "code",
   "execution_count": 16,
   "metadata": {},
   "outputs": [
    {
     "data": {
      "text/plain": [
       "(array([21100.,   218.,   229.,   274.,   284.,   358.,   463.,   664.,\n",
       "         1035.,  5375.]),\n",
       " array([-0.00901446,  0.09286568,  0.19474581,  0.29662594,  0.39850608,\n",
       "         0.50038618,  0.60226631,  0.70414644,  0.80602658,  0.90790671,\n",
       "         1.00978684]),\n",
       " <BarContainer object of 10 artists>)"
      ]
     },
     "execution_count": 16,
     "metadata": {},
     "output_type": "execute_result"
    },
    {
     "data": {
      "image/png": "[encoded data removed]",
      "text/plain": [
       "<Figure size 640x480 with 1 Axes>"
      ]
     },
     "metadata": {},
     "output_type": "display_data"
    }
   ],
   "source": [
    "# sanity check - mask values histogram, should be bimodal with modes at 0 and 1, and most values at 0\n",
    "plt.hist(mask.view(-1))"
   ]
  },
  {
   "cell_type": "code",
   "execution_count": 17,
   "metadata": {},
   "outputs": [],
   "source": [
    "def perturb(x, m, x_):\n",
    "    return m * x + (1 - m) * x_"
   ]
  },
  {
   "cell_type": "code",
   "execution_count": 18,
   "metadata": {},
   "outputs": [],
   "source": [
    "hmm = HMM_modified(n_folds=5, fold=0, seed=seed)  ### change if using different fold"
   ]
  },
  {
   "cell_type": "code",
   "execution_count": 19,
   "metadata": {},
   "outputs": [
    {
     "name": "stdout",
     "output_type": "stream",
     "text": [
      "mean probs: [2.08896713e-79 9.69643646e-72]\n",
      "mean log probs: [-211.23392499 -174.96850948]\n"
     ]
    }
   ],
   "source": [
    "# Apply forward algorithm to get log probabilities of test set datapoints and their perturbations\n",
    "\n",
    "N = x_test.shape[0]\n",
    "p = np.zeros(shape=(N, 2))\n",
    "l = np.zeros(shape=(N, 2))\n",
    "for i in range(N):\n",
    "    x = x_test[i].to(th.float32)\n",
    "    x_ = EMNN.model(x)  ### baselines are 0 by default\n",
    "    x_p = perturb(x, mask[i], x_)\n",
    "    x = x.detach().numpy()\n",
    "    x_p = x_p.detach().numpy()\n",
    "    p[i, 0] = forward(hmm, x)[1]\n",
    "    p[i, 1] = forward(hmm, x_p)[1]\n",
    "    l[i, 0] = np.log(p[i, 0])\n",
    "    l[i, 1] = np.log(p[i, 1])\n",
    "\n",
    "print(f\"mean probs: {np.mean(p, axis=0)}\")\n",
    "print(f\"mean log probs: {np.mean(l, axis=0)}\")"
   ]
  },
  {
   "cell_type": "code",
   "execution_count": 20,
   "metadata": {},
   "outputs": [
    {
     "data": {
      "text/plain": [
       "Text(0, 0.5, 'logPDF value')"
      ]
     },
     "execution_count": 20,
     "metadata": {},
     "output_type": "execute_result"
    },
    {
     "data": {
      "image/png": "[encoded data removed]",
      "text/plain": [
       "<Figure size 640x480 with 1 Axes>"
      ]
     },
     "metadata": {},
     "output_type": "display_data"
    }
   ],
   "source": [
    "# Visualize results\n",
    "\n",
    "plt.boxplot(\n",
    "    l,\n",
    "    labels=[\"original\", \"perturbed\"],\n",
    "    medianprops=dict(color=\"red\"),\n",
    "    patch_artist=\"white\",\n",
    ")\n",
    "# Add labels and title\n",
    "plt.xlabel(\"Datapoint category\")\n",
    "plt.ylabel(\"logPDF value\")"
   ]
  },
  {
   "cell_type": "code",
   "execution_count": 21,
   "metadata": {},
   "outputs": [],
   "source": [
    "def centered_non_salient_features(x_test, x_test_states):\n",
    "    x_test_non_salient = np.zeros((200,50,2))\n",
    "    ### take only the 2 non-salient features at each timestep of each sample\n",
    "    for i in range(200):\n",
    "        for j in range(50):\n",
    "            x_test_non_salient[i,j,0] = x_test[i,j,0]   ### feature 0 is always non-salient\n",
    "            x_test_non_salient[i,j,1] = x_test[i,j,2 if x_test_states[i,j]==0 else 1]    ### if state is 0 non-salient feature is 2 if state is 1 non-sal feature is 1\n",
    "\n",
    "    ### subtract the corresponding mean\n",
    "    for i in range(200):\n",
    "        for j in range(50):\n",
    "            x_test_non_salient[i,j,0] -= 0.1 if x_test_states[i,j]==0 else -0.1\n",
    "            x_test_non_salient[i,j,1] -= 0.5 if x_test_states[i,j]==0 else -0.4 ### if state is 0 non-salient feature is 2 if state is 1 non-sal feature is 1\n",
    "\n",
    "    return x_test_non_salient"
   ]
  },
  {
   "cell_type": "code",
   "execution_count": 22,
   "metadata": {},
   "outputs": [],
   "source": [
    "N = x_test.shape[0]\n",
    "\n",
    "x_test_numpy = np.zeros((200,50,3))\n",
    "x_test_perturbed = np.zeros((200,50,3))\n",
    "\n",
    "for i in range(N):    \n",
    "    x = x_test[i].to(th.float32)\n",
    "    x_ = EMNN.model(x)  ### baselines are 0 by default\n",
    "    x_p = perturb(x,mask[i],x_) \n",
    "    x = x.detach().numpy()\n",
    "    x_p = x_p.detach().numpy()\n",
    "    x_test_numpy[i,:,:] = x\n",
    "    x_test_perturbed[i,:,:] = x_p\n",
    "\n",
    "x_test_numpy_cnsf = centered_non_salient_features(x_test_numpy, x_test_states)\n",
    "x_test_perturbed_cnsf = centered_non_salient_features(x_test_perturbed, x_test_states)"
   ]
  },
  {
   "cell_type": "code",
   "execution_count": 23,
   "metadata": {},
   "outputs": [
    {
     "data": {
      "text/plain": [
       "Text(0, 0.5, 'Centered feature values')"
      ]
     },
     "execution_count": 23,
     "metadata": {},
     "output_type": "execute_result"
    },
    {
     "data": {
      "image/png": "[encoded data removed]",
      "text/plain": [
       "<Figure size 640x480 with 1 Axes>"
      ]
     },
     "metadata": {},
     "output_type": "display_data"
    }
   ],
   "source": [
    "x_test_numpy_cnsf = x_test_numpy_cnsf.reshape(-1, x_test_numpy_cnsf.shape[-1])\n",
    "x_test_perturbed_cnsf = x_test_perturbed_cnsf.reshape(-1, x_test_perturbed_cnsf.shape[-1])\n",
    "# Visualize results\n",
    "l = np.zeros((10000,4))\n",
    "l[:,0:2] = x_test_numpy_cnsf\n",
    "l[:,2:4] = x_test_perturbed_cnsf\n",
    "plt.boxplot(l, labels=['Original NSF 1','Original NSF 2','Perturbed NSF 1','Perturbed NSF 2'], boxprops=dict(color='black'),\n",
    "                      medianprops=dict(color='orange'), patch_artist='white')\n",
    "# Add labels and title\n",
    "#plt.xlabel('Datapoint category')\n",
    "plt.ylabel('Centered feature values')"
   ]
  }
 ],
 "metadata": {
  "kernelspec": {
   "display_name": "tint",
   "language": "python",
   "name": "python3"
  },
  "language_info": {
   "codemirror_mode": {
    "name": "ipython",
    "version": 3
   },
   "file_extension": ".py",
   "mimetype": "text/x-python",
   "name": "python",
   "nbconvert_exporter": "python",
   "pygments_lexer": "ipython3",
   "version": "3.9.7"
  }
 },
 "nbformat": 4,
 "nbformat_minor": 2
}

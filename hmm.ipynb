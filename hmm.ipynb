{
 "cells": [
  {
   "cell_type": "code",
   "execution_count": null,
   "metadata": {},
   "outputs": [],
   "source": [
    "from experiments.hmm.main import main\n",
    "from experiments.utils.average_results import average_main_experiment\n",
    "from experiments.utils.compare_results import compare_results\n",
    "from multiprocessing import Process"
   ]
  },
  {
   "cell_type": "markdown",
   "metadata": {},
   "source": [
    "We have not ran this notebook in full ourselves as on Snellius, it took us 30 hours to run all the experiments on 1 powerful GPU and 9 CPUs, and we have much worse hardware locally. We have however tested that each method is able to be executed for at least 1 iteration. Since, we are loading checkpoints for the available neural networks, we expect the running time to be a little shorter but it will still take a while. We have provided job files alongside in the repository that may be run on Snellius to obtain the same results as an alternative."
   ]
  },
  {
   "cell_type": "markdown",
   "metadata": {},
   "source": [
    "**Claim 1**"
   ]
  },
  {
   "cell_type": "markdown",
   "metadata": {},
   "source": [
    "**Table 1**"
   ]
  },
  {
   "cell_type": "markdown",
   "metadata": {},
   "source": [
    "The only 4 methods that uses a NN and hence re-uses our saved weights are dyna mask, fit, extremal mask and retain. The other methods will have to be trained from scratch. The following code block retrieves the performance metric for each explainer for all 5 folds."
   ]
  },
  {
   "cell_type": "code",
   "execution_count": null,
   "metadata": {},
   "outputs": [],
   "source": [
    "device = 'cpu'\n",
    "# Uncomment the line below to use gpu\n",
    "# device = 'cuda'\n",
    "# Note lime is commented out as we skipped it due to resource constraint on snellius.\n",
    "explainers = [\n",
    "    \"deep_lift\",\n",
    "    \"dyna_mask\",\n",
    "    \"extremal_mask\",\n",
    "    \"fit\",\n",
    "    \"gradient_shap\",\n",
    "    \"integrated_gradients\",\n",
    "    # \"lime\",\n",
    "    \"augmented_occlusion\",\n",
    "    \"occlusion\",\n",
    "    \"retain\",\n",
    "]\n",
    "output_file = 'hmm_results_per_fold.csv'\n",
    "\n",
    "for i in range(5):\n",
    "    main(explainers, device, deterministic=True, fold=i, output_file=output_file)"
   ]
  },
  {
   "cell_type": "markdown",
   "metadata": {},
   "source": [
    "The results for each fold are to be found in hmm_results_per_fold.csv under the same folder as this notebook. Now, we calculate the average together with the standard deviation for every model."
   ]
  },
  {
   "cell_type": "code",
   "execution_count": null,
   "metadata": {},
   "outputs": [],
   "source": [
    "average_main_experiment(output_file)"
   ]
  },
  {
   "cell_type": "markdown",
   "metadata": {},
   "source": [
    "The results that we present in table 1 may be found in hmm_results_per_fold_averaged.csv under the same folder as this notebook."
   ]
  },
  {
   "cell_type": "markdown",
   "metadata": {},
   "source": [
    "**Table 2**"
   ]
  },
  {
   "cell_type": "code",
   "execution_count": null,
   "metadata": {},
   "outputs": [],
   "source": [
    "dataset_name = 'hmm'\n",
    "original_results_filename = 'hmm_original_results.csv'\n",
    "repro_results_filename = 'hmm_results_per_fold_averaged.csv'\n",
    "compare_results(dataset_name, original_results_filename, repro_results_filename, ratio_mode=True)"
   ]
  },
  {
   "cell_type": "markdown",
   "metadata": {},
   "source": [
    "The result for table 2 can now be found in hmm_results_per_fold_averaged_ratio.csv."
   ]
  },
  {
   "cell_type": "markdown",
   "metadata": {},
   "source": [
    "**Claim 3 - Table 4**"
   ]
  },
  {
   "cell_type": "markdown",
   "metadata": {},
   "source": [
    "To reproduce the result, we follow the same procedure as that for table 1 other than setting the preservation_mode argument to False to perform deletion game."
   ]
  },
  {
   "cell_type": "code",
   "execution_count": null,
   "metadata": {},
   "outputs": [],
   "source": [
    "output_file = 'hmm_results_per_fold_deletion.csv'\n",
    "for i in range(5):\n",
    "    main('extremal_mask', device, deterministic=True, fold=i, output_file=output_file, preservation_mode=False)\n",
    "    \n",
    "average_main_experiment(output_file)"
   ]
  },
  {
   "cell_type": "markdown",
   "metadata": {},
   "source": [
    "The results that we present in table 4 may be found in hmm_results_per_fold_deletion_averaged.csv under the same folder as this notebook."
   ]
  }
 ],
 "metadata": {
  "language_info": {
   "name": "python"
  }
 },
 "nbformat": 4,
 "nbformat_minor": 2
}

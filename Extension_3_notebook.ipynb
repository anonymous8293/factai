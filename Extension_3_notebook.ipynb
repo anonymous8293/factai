{
 "cells": [
  {
   "cell_type": "markdown",
   "metadata": {},
   "source": [
    "**Notebook for Extension 3**<br>\n",
    "This notebook includes the replication of extension 3 findings from the report.\n",
    "Concretely what it includes is:\n",
    "1) Training of the classifier, and ExtremalMask explainer on HMM Modified dataset (or just loading their weights if the models already exist)\n",
    "2) Perturbing all test set datapoints using the explainer (we do this on the classifier's test set data only because those are the datapoints for which we have mask values)\n",
    "3) Application of the forward algorithm to calculate log-probabilities of original and perturbed datapoints\n",
    "4) Plotting the log-probabilities\n",
    "\n",
    "**Extension 3:** Using a synthetic dataset (HMM modified), we explore the plausibility of the perturbations created with Extremal Mask by testing their probability relative to the original distribution."
   ]
  },
  {
   "cell_type": "code",
   "execution_count": 1,
   "metadata": {},
   "outputs": [
    {
     "name": "stderr",
     "output_type": "stream",
     "text": [
      "c:\\Users\\sebas\\anaconda3\\envs\\tint\\lib\\site-packages\\torchvision\\io\\image.py:13: UserWarning: Failed to load image Python extension: '[WinError 127] The specified procedure could not be found'If you don't plan on using image functionality from `torchvision.io`, you can ignore this warning. Otherwise, there might be something wrong with your environment. Did you have `libjpeg` or `libpng` installed before building `torchvision` from source?\n",
      "  warn(\n"
     ]
    }
   ],
   "source": [
    "import numpy as np\n",
    "from experiments.hmm.classifier import StateClassifierNet\n",
    "import torch as th\n",
    "import torch.nn as nn\n",
    "from pytorch_lightning import seed_everything\n",
    "from tint.attr.models import ExtremalMaskNN\n",
    "from tint.models import MLP, RNN\n",
    "from tint.datasets.hmm_modified import HMM_modified\n",
    "from forward import forward\n",
    "import matplotlib.pyplot as plt"
   ]
  },
  {
   "cell_type": "code",
   "execution_count": 2,
   "metadata": {},
   "outputs": [
    {
     "name": "stderr",
     "output_type": "stream",
     "text": [
      "Global seed set to 42\n"
     ]
    },
    {
     "data": {
      "text/plain": [
       "42"
      ]
     },
     "execution_count": 2,
     "metadata": {},
     "output_type": "execute_result"
    }
   ],
   "source": [
    "# Make the results deterministic\n",
    "seed=42\n",
    "seed_everything(seed=seed, workers=True)"
   ]
  },
  {
   "cell_type": "code",
   "execution_count": 3,
   "metadata": {},
   "outputs": [
    {
     "name": "stderr",
     "output_type": "stream",
     "text": [
      "Global seed set to 42\n",
      "GPU available: False, used: False\n",
      "TPU available: False, using: 0 TPU cores\n",
      "IPU available: False, using: 0 IPUs\n",
      "HPU available: False, using: 0 HPUs\n",
      "\n",
      "   | Name        | Type             | Params\n",
      "--------------------------------------------------\n",
      "0  | net         | StateClassifier  | 8.5 K \n",
      "1  | _loss       | CrossEntropyLoss | 0     \n",
      "2  | train_acc   | BinaryAccuracy   | 0     \n",
      "3  | train_pre   | BinaryPrecision  | 0     \n",
      "4  | train_rec   | BinaryRecall     | 0     \n",
      "5  | train_auroc | BinaryAUROC      | 0     \n",
      "6  | val_acc     | BinaryAccuracy   | 0     \n",
      "7  | val_pre     | BinaryPrecision  | 0     \n",
      "8  | val_rec     | BinaryRecall     | 0     \n",
      "9  | val_auroc   | BinaryAUROC      | 0     \n",
      "10 | test_acc    | BinaryAccuracy   | 0     \n",
      "11 | test_pre    | BinaryPrecision  | 0     \n",
      "12 | test_rec    | BinaryRecall     | 0     \n",
      "13 | test_auroc  | BinaryAUROC      | 0     \n",
      "--------------------------------------------------\n",
      "8.5 K     Trainable params\n",
      "0         Non-trainable params\n",
      "8.5 K     Total params\n",
      "0.034     Total estimated model params size (MB)\n"
     ]
    },
    {
     "data": {
      "application/vnd.jupyter.widget-view+json": {
       "model_id": "4331c311deaf4d8f8dfe03e469c8c508",
       "version_major": 2,
       "version_minor": 0
      },
      "text/plain": [
       "Sanity Checking: 0it [00:00, ?it/s]"
      ]
     },
     "metadata": {},
     "output_type": "display_data"
    },
    {
     "data": {
      "application/vnd.jupyter.widget-view+json": {
       "model_id": "600688de5a6948a2b45b6ef8dc35057a",
       "version_major": 2,
       "version_minor": 0
      },
      "text/plain": [
       "Training: 0it [00:00, ?it/s]"
      ]
     },
     "metadata": {},
     "output_type": "display_data"
    },
    {
     "data": {
      "application/vnd.jupyter.widget-view+json": {
       "model_id": "051136061f8042088b12a4f319a588b1",
       "version_major": 2,
       "version_minor": 0
      },
      "text/plain": [
       "Validation: 0it [00:00, ?it/s]"
      ]
     },
     "metadata": {},
     "output_type": "display_data"
    },
    {
     "data": {
      "application/vnd.jupyter.widget-view+json": {
       "model_id": "44869fcf74844e6b8373ff2ed9ef2e63",
       "version_major": 2,
       "version_minor": 0
      },
      "text/plain": [
       "Validation: 0it [00:00, ?it/s]"
      ]
     },
     "metadata": {},
     "output_type": "display_data"
    },
    {
     "data": {
      "application/vnd.jupyter.widget-view+json": {
       "model_id": "b60c03b4e0ba46aea4d3ef0829de2a9f",
       "version_major": 2,
       "version_minor": 0
      },
      "text/plain": [
       "Validation: 0it [00:00, ?it/s]"
      ]
     },
     "metadata": {},
     "output_type": "display_data"
    },
    {
     "data": {
      "application/vnd.jupyter.widget-view+json": {
       "model_id": "ed8bc248fd414061ace99a3671df666e",
       "version_major": 2,
       "version_minor": 0
      },
      "text/plain": [
       "Validation: 0it [00:00, ?it/s]"
      ]
     },
     "metadata": {},
     "output_type": "display_data"
    },
    {
     "data": {
      "application/vnd.jupyter.widget-view+json": {
       "model_id": "8234c5b97e364832aeb747b6b80ad501",
       "version_major": 2,
       "version_minor": 0
      },
      "text/plain": [
       "Validation: 0it [00:00, ?it/s]"
      ]
     },
     "metadata": {},
     "output_type": "display_data"
    },
    {
     "data": {
      "application/vnd.jupyter.widget-view+json": {
       "model_id": "d4f21837cad84bcf8a3d40af19bd0437",
       "version_major": 2,
       "version_minor": 0
      },
      "text/plain": [
       "Validation: 0it [00:00, ?it/s]"
      ]
     },
     "metadata": {},
     "output_type": "display_data"
    },
    {
     "data": {
      "application/vnd.jupyter.widget-view+json": {
       "model_id": "37b97268405842aeaa7b47e9324632d4",
       "version_major": 2,
       "version_minor": 0
      },
      "text/plain": [
       "Validation: 0it [00:00, ?it/s]"
      ]
     },
     "metadata": {},
     "output_type": "display_data"
    },
    {
     "data": {
      "application/vnd.jupyter.widget-view+json": {
       "model_id": "6f4f9ef9106a43c3ac330b5676446ea5",
       "version_major": 2,
       "version_minor": 0
      },
      "text/plain": [
       "Validation: 0it [00:00, ?it/s]"
      ]
     },
     "metadata": {},
     "output_type": "display_data"
    },
    {
     "data": {
      "application/vnd.jupyter.widget-view+json": {
       "model_id": "4a0936b548534af29fca6820456978f4",
       "version_major": 2,
       "version_minor": 0
      },
      "text/plain": [
       "Validation: 0it [00:00, ?it/s]"
      ]
     },
     "metadata": {},
     "output_type": "display_data"
    },
    {
     "data": {
      "application/vnd.jupyter.widget-view+json": {
       "model_id": "673a392d1a47403f912593bf8d2aee8f",
       "version_major": 2,
       "version_minor": 0
      },
      "text/plain": [
       "Validation: 0it [00:00, ?it/s]"
      ]
     },
     "metadata": {},
     "output_type": "display_data"
    },
    {
     "data": {
      "application/vnd.jupyter.widget-view+json": {
       "model_id": "dda1ee8e12a04c9ebba955eb4d64a7b1",
       "version_major": 2,
       "version_minor": 0
      },
      "text/plain": [
       "Validation: 0it [00:00, ?it/s]"
      ]
     },
     "metadata": {},
     "output_type": "display_data"
    },
    {
     "data": {
      "application/vnd.jupyter.widget-view+json": {
       "model_id": "857c17ffdf574863a7e20a7f9f5ed4f4",
       "version_major": 2,
       "version_minor": 0
      },
      "text/plain": [
       "Validation: 0it [00:00, ?it/s]"
      ]
     },
     "metadata": {},
     "output_type": "display_data"
    },
    {
     "data": {
      "application/vnd.jupyter.widget-view+json": {
       "model_id": "8f55c6930fe540b89b9f21ac0b6ae431",
       "version_major": 2,
       "version_minor": 0
      },
      "text/plain": [
       "Validation: 0it [00:00, ?it/s]"
      ]
     },
     "metadata": {},
     "output_type": "display_data"
    },
    {
     "data": {
      "application/vnd.jupyter.widget-view+json": {
       "model_id": "1262e9ab94f343bba9dbf7eab446530a",
       "version_major": 2,
       "version_minor": 0
      },
      "text/plain": [
       "Validation: 0it [00:00, ?it/s]"
      ]
     },
     "metadata": {},
     "output_type": "display_data"
    },
    {
     "data": {
      "application/vnd.jupyter.widget-view+json": {
       "model_id": "06131653cf5942fa9b3790e56f4d6c84",
       "version_major": 2,
       "version_minor": 0
      },
      "text/plain": [
       "Validation: 0it [00:00, ?it/s]"
      ]
     },
     "metadata": {},
     "output_type": "display_data"
    },
    {
     "data": {
      "application/vnd.jupyter.widget-view+json": {
       "model_id": "0f98f3722edd4676b59e4a9a30f5a225",
       "version_major": 2,
       "version_minor": 0
      },
      "text/plain": [
       "Validation: 0it [00:00, ?it/s]"
      ]
     },
     "metadata": {},
     "output_type": "display_data"
    },
    {
     "data": {
      "application/vnd.jupyter.widget-view+json": {
       "model_id": "c3b344f655bc41eb8958e93042e2f96b",
       "version_major": 2,
       "version_minor": 0
      },
      "text/plain": [
       "Validation: 0it [00:00, ?it/s]"
      ]
     },
     "metadata": {},
     "output_type": "display_data"
    },
    {
     "data": {
      "application/vnd.jupyter.widget-view+json": {
       "model_id": "b455c28eade84c788f3bc6a88627951c",
       "version_major": 2,
       "version_minor": 0
      },
      "text/plain": [
       "Validation: 0it [00:00, ?it/s]"
      ]
     },
     "metadata": {},
     "output_type": "display_data"
    },
    {
     "data": {
      "application/vnd.jupyter.widget-view+json": {
       "model_id": "92bce943f0f04994a919fa7aaea4686f",
       "version_major": 2,
       "version_minor": 0
      },
      "text/plain": [
       "Validation: 0it [00:00, ?it/s]"
      ]
     },
     "metadata": {},
     "output_type": "display_data"
    },
    {
     "data": {
      "application/vnd.jupyter.widget-view+json": {
       "model_id": "a46f730f10b7474ca174516ea244dbd0",
       "version_major": 2,
       "version_minor": 0
      },
      "text/plain": [
       "Validation: 0it [00:00, ?it/s]"
      ]
     },
     "metadata": {},
     "output_type": "display_data"
    },
    {
     "data": {
      "application/vnd.jupyter.widget-view+json": {
       "model_id": "2888fea57a12467696b82d67ff63f18b",
       "version_major": 2,
       "version_minor": 0
      },
      "text/plain": [
       "Validation: 0it [00:00, ?it/s]"
      ]
     },
     "metadata": {},
     "output_type": "display_data"
    },
    {
     "data": {
      "application/vnd.jupyter.widget-view+json": {
       "model_id": "13e142b2594d4fa9a1d72dc1263b01f3",
       "version_major": 2,
       "version_minor": 0
      },
      "text/plain": [
       "Validation: 0it [00:00, ?it/s]"
      ]
     },
     "metadata": {},
     "output_type": "display_data"
    },
    {
     "data": {
      "application/vnd.jupyter.widget-view+json": {
       "model_id": "7c040184023a401c917d340a34a55d7d",
       "version_major": 2,
       "version_minor": 0
      },
      "text/plain": [
       "Validation: 0it [00:00, ?it/s]"
      ]
     },
     "metadata": {},
     "output_type": "display_data"
    },
    {
     "data": {
      "application/vnd.jupyter.widget-view+json": {
       "model_id": "73e0be9dee7842fc9e96ac59c553c55a",
       "version_major": 2,
       "version_minor": 0
      },
      "text/plain": [
       "Validation: 0it [00:00, ?it/s]"
      ]
     },
     "metadata": {},
     "output_type": "display_data"
    },
    {
     "data": {
      "application/vnd.jupyter.widget-view+json": {
       "model_id": "877187633a4844cf9d05b16df53d6924",
       "version_major": 2,
       "version_minor": 0
      },
      "text/plain": [
       "Validation: 0it [00:00, ?it/s]"
      ]
     },
     "metadata": {},
     "output_type": "display_data"
    },
    {
     "data": {
      "application/vnd.jupyter.widget-view+json": {
       "model_id": "71866e45f2b0443abead3fdac0a28aec",
       "version_major": 2,
       "version_minor": 0
      },
      "text/plain": [
       "Validation: 0it [00:00, ?it/s]"
      ]
     },
     "metadata": {},
     "output_type": "display_data"
    },
    {
     "data": {
      "application/vnd.jupyter.widget-view+json": {
       "model_id": "7d1a4ba48b53441aac03f0edf9422b62",
       "version_major": 2,
       "version_minor": 0
      },
      "text/plain": [
       "Validation: 0it [00:00, ?it/s]"
      ]
     },
     "metadata": {},
     "output_type": "display_data"
    },
    {
     "data": {
      "application/vnd.jupyter.widget-view+json": {
       "model_id": "6d0192b0f4ea49c89a313f9e2ed17059",
       "version_major": 2,
       "version_minor": 0
      },
      "text/plain": [
       "Validation: 0it [00:00, ?it/s]"
      ]
     },
     "metadata": {},
     "output_type": "display_data"
    },
    {
     "data": {
      "application/vnd.jupyter.widget-view+json": {
       "model_id": "6ca14b363b6f42f6b69fba41fa078948",
       "version_major": 2,
       "version_minor": 0
      },
      "text/plain": [
       "Validation: 0it [00:00, ?it/s]"
      ]
     },
     "metadata": {},
     "output_type": "display_data"
    },
    {
     "data": {
      "application/vnd.jupyter.widget-view+json": {
       "model_id": "fd78ccea79ad46b399734279b95cf412",
       "version_major": 2,
       "version_minor": 0
      },
      "text/plain": [
       "Validation: 0it [00:00, ?it/s]"
      ]
     },
     "metadata": {},
     "output_type": "display_data"
    },
    {
     "data": {
      "application/vnd.jupyter.widget-view+json": {
       "model_id": "5c7868f3c9ad48a0bb5ca12a5d9a216d",
       "version_major": 2,
       "version_minor": 0
      },
      "text/plain": [
       "Validation: 0it [00:00, ?it/s]"
      ]
     },
     "metadata": {},
     "output_type": "display_data"
    },
    {
     "data": {
      "application/vnd.jupyter.widget-view+json": {
       "model_id": "95b8b88a82d847bbb3e01e29e2bf7b43",
       "version_major": 2,
       "version_minor": 0
      },
      "text/plain": [
       "Validation: 0it [00:00, ?it/s]"
      ]
     },
     "metadata": {},
     "output_type": "display_data"
    },
    {
     "data": {
      "application/vnd.jupyter.widget-view+json": {
       "model_id": "7b35b92dfdb14429bee6df1a8442e84c",
       "version_major": 2,
       "version_minor": 0
      },
      "text/plain": [
       "Validation: 0it [00:00, ?it/s]"
      ]
     },
     "metadata": {},
     "output_type": "display_data"
    },
    {
     "data": {
      "application/vnd.jupyter.widget-view+json": {
       "model_id": "104958dab46244fea2c9cbf52b45ddc6",
       "version_major": 2,
       "version_minor": 0
      },
      "text/plain": [
       "Validation: 0it [00:00, ?it/s]"
      ]
     },
     "metadata": {},
     "output_type": "display_data"
    },
    {
     "data": {
      "application/vnd.jupyter.widget-view+json": {
       "model_id": "a007685160e94775a3ecb4f47304e7bc",
       "version_major": 2,
       "version_minor": 0
      },
      "text/plain": [
       "Validation: 0it [00:00, ?it/s]"
      ]
     },
     "metadata": {},
     "output_type": "display_data"
    },
    {
     "data": {
      "application/vnd.jupyter.widget-view+json": {
       "model_id": "f66ee7f25c7a4143bc65e37ec91f3960",
       "version_major": 2,
       "version_minor": 0
      },
      "text/plain": [
       "Validation: 0it [00:00, ?it/s]"
      ]
     },
     "metadata": {},
     "output_type": "display_data"
    },
    {
     "data": {
      "application/vnd.jupyter.widget-view+json": {
       "model_id": "9f300b0142b24db7a1a8f0840ca1eb52",
       "version_major": 2,
       "version_minor": 0
      },
      "text/plain": [
       "Validation: 0it [00:00, ?it/s]"
      ]
     },
     "metadata": {},
     "output_type": "display_data"
    },
    {
     "data": {
      "application/vnd.jupyter.widget-view+json": {
       "model_id": "5f959e89f1384da2a96901b4c1c29d57",
       "version_major": 2,
       "version_minor": 0
      },
      "text/plain": [
       "Validation: 0it [00:00, ?it/s]"
      ]
     },
     "metadata": {},
     "output_type": "display_data"
    },
    {
     "data": {
      "application/vnd.jupyter.widget-view+json": {
       "model_id": "c37c92de137f4edd8905d011e40fccfd",
       "version_major": 2,
       "version_minor": 0
      },
      "text/plain": [
       "Validation: 0it [00:00, ?it/s]"
      ]
     },
     "metadata": {},
     "output_type": "display_data"
    },
    {
     "data": {
      "application/vnd.jupyter.widget-view+json": {
       "model_id": "bad005714e4441a0ae639d0866b843f3",
       "version_major": 2,
       "version_minor": 0
      },
      "text/plain": [
       "Validation: 0it [00:00, ?it/s]"
      ]
     },
     "metadata": {},
     "output_type": "display_data"
    },
    {
     "data": {
      "application/vnd.jupyter.widget-view+json": {
       "model_id": "009d81bb26624685ba93e22d51665a0d",
       "version_major": 2,
       "version_minor": 0
      },
      "text/plain": [
       "Validation: 0it [00:00, ?it/s]"
      ]
     },
     "metadata": {},
     "output_type": "display_data"
    },
    {
     "data": {
      "application/vnd.jupyter.widget-view+json": {
       "model_id": "23dd736c177a49ec8916cf74c021361e",
       "version_major": 2,
       "version_minor": 0
      },
      "text/plain": [
       "Validation: 0it [00:00, ?it/s]"
      ]
     },
     "metadata": {},
     "output_type": "display_data"
    },
    {
     "data": {
      "application/vnd.jupyter.widget-view+json": {
       "model_id": "517f386644524bc18e21af375e6513a1",
       "version_major": 2,
       "version_minor": 0
      },
      "text/plain": [
       "Validation: 0it [00:00, ?it/s]"
      ]
     },
     "metadata": {},
     "output_type": "display_data"
    },
    {
     "data": {
      "application/vnd.jupyter.widget-view+json": {
       "model_id": "9e093e5079524042a5e62fc69f8872d9",
       "version_major": 2,
       "version_minor": 0
      },
      "text/plain": [
       "Validation: 0it [00:00, ?it/s]"
      ]
     },
     "metadata": {},
     "output_type": "display_data"
    },
    {
     "data": {
      "application/vnd.jupyter.widget-view+json": {
       "model_id": "d9a201fa122947329cfa25172cbea25c",
       "version_major": 2,
       "version_minor": 0
      },
      "text/plain": [
       "Validation: 0it [00:00, ?it/s]"
      ]
     },
     "metadata": {},
     "output_type": "display_data"
    },
    {
     "data": {
      "application/vnd.jupyter.widget-view+json": {
       "model_id": "3336e73af16e4c41a0e3b96da877e58f",
       "version_major": 2,
       "version_minor": 0
      },
      "text/plain": [
       "Validation: 0it [00:00, ?it/s]"
      ]
     },
     "metadata": {},
     "output_type": "display_data"
    },
    {
     "data": {
      "application/vnd.jupyter.widget-view+json": {
       "model_id": "5333d46bcca845d4b076ac944c12f417",
       "version_major": 2,
       "version_minor": 0
      },
      "text/plain": [
       "Validation: 0it [00:00, ?it/s]"
      ]
     },
     "metadata": {},
     "output_type": "display_data"
    },
    {
     "data": {
      "application/vnd.jupyter.widget-view+json": {
       "model_id": "0cd90e01b7ed4145be49b4ac02d7fc11",
       "version_major": 2,
       "version_minor": 0
      },
      "text/plain": [
       "Validation: 0it [00:00, ?it/s]"
      ]
     },
     "metadata": {},
     "output_type": "display_data"
    },
    {
     "data": {
      "application/vnd.jupyter.widget-view+json": {
       "model_id": "b2d0982257734ea0b36114d7054c91e2",
       "version_major": 2,
       "version_minor": 0
      },
      "text/plain": [
       "Validation: 0it [00:00, ?it/s]"
      ]
     },
     "metadata": {},
     "output_type": "display_data"
    },
    {
     "data": {
      "application/vnd.jupyter.widget-view+json": {
       "model_id": "4032b53c94c04fa89544e05b79afb621",
       "version_major": 2,
       "version_minor": 0
      },
      "text/plain": [
       "Validation: 0it [00:00, ?it/s]"
      ]
     },
     "metadata": {},
     "output_type": "display_data"
    },
    {
     "name": "stderr",
     "output_type": "stream",
     "text": [
      "`Trainer.fit` stopped: `max_epochs=50` reached.\n",
      "GPU available: False, used: False\n",
      "TPU available: False, using: 0 TPU cores\n",
      "IPU available: False, using: 0 IPUs\n",
      "HPU available: False, using: 0 HPUs\n",
      "\n",
      "  | Name  | Type           | Params\n",
      "-----------------------------------------\n",
      "0 | net   | ExtremalMaskNN | 30.2 K\n",
      "1 | _loss | MSELoss        | 0     \n",
      "-----------------------------------------\n",
      "30.2 K    Trainable params\n",
      "0         Non-trainable params\n",
      "30.2 K    Total params\n",
      "0.121     Total estimated model params size (MB)\n"
     ]
    },
    {
     "data": {
      "application/vnd.jupyter.widget-view+json": {
       "model_id": "a37a877b76814d46a4223727715e0c00",
       "version_major": 2,
       "version_minor": 0
      },
      "text/plain": [
       "Training: 0it [00:00, ?it/s]"
      ]
     },
     "metadata": {},
     "output_type": "display_data"
    },
    {
     "name": "stderr",
     "output_type": "stream",
     "text": [
      "`Trainer.fit` stopped: `max_epochs=500` reached.\n"
     ]
    }
   ],
   "source": [
    "# Train classifier and Extremal mask explainer, store model weights\n",
    "%run experiments/hmm/main.py --fold 0 --explainers \"extremal_mask\" --deterministic --output-file \"hmm_modified_results_per_fold.csv\" --dataset_name \"hmm_modified\" --hidden_size 50 "
   ]
  },
  {
   "cell_type": "code",
   "execution_count": 4,
   "metadata": {},
   "outputs": [],
   "source": [
    "### Get data\n",
    "train_features = np.load('tint/data/hmm/train_features_modified.npz', allow_pickle= True)  \n",
    "test_features = np.load('tint/data/hmm/test_features_modified.npz', allow_pickle= True)"
   ]
  },
  {
   "cell_type": "code",
   "execution_count": 5,
   "metadata": {},
   "outputs": [
    {
     "name": "stdout",
     "output_type": "stream",
     "text": [
      "<class 'torch.Tensor'> torch.Size([800, 50, 3])\n"
     ]
    }
   ],
   "source": [
    "# Transform to tensors, check shape\n",
    "x_train = th.tensor(train_features)\n",
    "x_test = th.tensor(test_features)\n",
    "print(type(x_train),x_train.shape)"
   ]
  },
  {
   "cell_type": "code",
   "execution_count": 6,
   "metadata": {},
   "outputs": [
    {
     "data": {
      "text/plain": [
       "<All keys matched successfully>"
      ]
     },
     "execution_count": 6,
     "metadata": {},
     "output_type": "execute_result"
    }
   ],
   "source": [
    "### Get classifier         \n",
    "# Create model\n",
    "classifier = StateClassifierNet(\n",
    "        feature_size=3,\n",
    "        n_state=2,\n",
    "        hidden_size=50,\n",
    "        regres=True,\n",
    "        loss=\"cross_entropy\",\n",
    "        lr=0.0001,\n",
    "        l2=1e-3,\n",
    "    )\n",
    "\n",
    "# Load the state dictionary from the checkpoint file\n",
    "checkpoint_path = 'experiments/checkpoints/hmm_modified_classifier_42_0.ckpt'       ### change path when using different hyperparameters\n",
    "state_dict = th.load(checkpoint_path)\n",
    "\n",
    "# Load the state dictionary into the model\n",
    "classifier.load_state_dict(state_dict)"
   ]
  },
  {
   "cell_type": "code",
   "execution_count": 7,
   "metadata": {},
   "outputs": [
    {
     "name": "stdout",
     "output_type": "stream",
     "text": [
      "net.mask: torch.Size([200, 50, 3])\n",
      "net.model.0.rnn.weight_ih_l0: torch.Size([9, 3])\n",
      "net.model.0.rnn.weight_hh_l0: torch.Size([9, 3])\n",
      "net.model.0.rnn.bias_ih_l0: torch.Size([9])\n",
      "net.model.0.rnn.bias_hh_l0: torch.Size([9])\n",
      "net.model.0.rnn.weight_ih_l0_reverse: torch.Size([9, 3])\n",
      "net.model.0.rnn.weight_hh_l0_reverse: torch.Size([9, 3])\n",
      "net.model.0.rnn.bias_ih_l0_reverse: torch.Size([9])\n",
      "net.model.0.rnn.bias_hh_l0_reverse: torch.Size([9])\n",
      "net.model.1.mlp.Linear_0.weight: torch.Size([3, 6])\n",
      "net.model.1.mlp.Linear_0.bias: torch.Size([3])\n"
     ]
    }
   ],
   "source": [
    "# Sanity check for explainer model weights\n",
    "checkpoint_path = 'experiments/checkpoints/hmm_modified_extremal_mask_42_1.0_1.0_0.ckpt'           ### change path when using different hyperparameters\n",
    "\n",
    "# Load the state dictionary\n",
    "state_dict = th.load(checkpoint_path)\n",
    "\n",
    "# Print keys and shapes in the state dictionary\n",
    "for key, value in state_dict.items():\n",
    "    print(f\"{key}: {value.shape if isinstance(value, th.Tensor) else type(value)}\")"
   ]
  },
  {
   "cell_type": "code",
   "execution_count": 8,
   "metadata": {},
   "outputs": [
    {
     "name": "stdout",
     "output_type": "stream",
     "text": [
      "Parameter: model.0.rnn.weight_ih_l0, Shape: torch.Size([9, 3])\n",
      "Parameter: model.0.rnn.weight_hh_l0, Shape: torch.Size([9, 3])\n",
      "Parameter: model.0.rnn.bias_ih_l0, Shape: torch.Size([9])\n",
      "Parameter: model.0.rnn.bias_hh_l0, Shape: torch.Size([9])\n",
      "Parameter: model.0.rnn.weight_ih_l0_reverse, Shape: torch.Size([9, 3])\n",
      "Parameter: model.0.rnn.weight_hh_l0_reverse, Shape: torch.Size([9, 3])\n",
      "Parameter: model.0.rnn.bias_ih_l0_reverse, Shape: torch.Size([9])\n",
      "Parameter: model.0.rnn.bias_hh_l0_reverse, Shape: torch.Size([9])\n",
      "Parameter: model.1.mlp.Linear_0.weight, Shape: torch.Size([3, 6])\n",
      "Parameter: model.1.mlp.Linear_0.bias, Shape: torch.Size([3])\n"
     ]
    }
   ],
   "source": [
    "EMNN = ExtremalMaskNN(forward_func=classifier,\n",
    "        model=nn.Sequential(\n",
    "                RNN(\n",
    "                    input_size=x_train.shape[-1],        \n",
    "                    rnn=\"gru\",\n",
    "                    hidden_size=x_train.shape[-1],\n",
    "                    bidirectional=True,\n",
    "                ),\n",
    "                MLP([2 * x_train.shape[-1], x_train.shape[-1]]),\n",
    "            ),\n",
    "        batch_size= 32)\n",
    "\n",
    "mask = nn.Parameter(th.Tensor([200,50,3]))\n",
    "\n",
    "# Load the state dictionary from the checkpoint file\n",
    "checkpoint_path = 'experiments/checkpoints/hmm_modified_extremal_mask_42_1.0_1.0_0.ckpt'       ### change path when using different hyperparameters\n",
    "state_dict = th.load(checkpoint_path)\n",
    "\n",
    "filtered_state_dict_mask =  {key: value for key, value in state_dict.items() if key == 'net.mask'}\n",
    "filtered_state_dict_model = {key[4:]: value for key, value in state_dict.items() if key !='net.mask'} \n",
    "\n",
    "# Load the state dictionary into the model\n",
    "#print(EMNN.named_parameters)\n",
    "for name, param in EMNN.named_parameters():\n",
    "    print(f\"Parameter: {name}, Shape: {param.shape}\")\n",
    "\n",
    "EMNN.load_state_dict(filtered_state_dict_model)\n",
    "#mask.load_state_dict(filtered_state_dict_mask)\n",
    "mask = state_dict['net.mask']"
   ]
  },
  {
   "cell_type": "code",
   "execution_count": 9,
   "metadata": {},
   "outputs": [
    {
     "data": {
      "text/plain": [
       "(array([21100.,   218.,   229.,   274.,   284.,   358.,   463.,   664.,\n",
       "         1035.,  5375.]),\n",
       " array([-0.00901446,  0.09286568,  0.19474581,  0.29662594,  0.39850608,\n",
       "         0.50038618,  0.60226631,  0.70414644,  0.80602658,  0.90790671,\n",
       "         1.00978684]),\n",
       " <BarContainer object of 10 artists>)"
      ]
     },
     "execution_count": 9,
     "metadata": {},
     "output_type": "execute_result"
    },
    {
     "data": {
      "image/png": "[encoded data removed]",
      "text/plain": [
       "<Figure size 640x480 with 1 Axes>"
      ]
     },
     "metadata": {},
     "output_type": "display_data"
    }
   ],
   "source": [
    "# sanity check - mask values histogram, should be bimodal with modes at 0 and 1, and most values at 0\n",
    "plt.hist(mask.view(-1))"
   ]
  },
  {
   "cell_type": "code",
   "execution_count": 10,
   "metadata": {},
   "outputs": [],
   "source": [
    "\n",
    "def perturb(x,m,x_):\n",
    "    return m*x + (1-m)*x_ "
   ]
  },
  {
   "cell_type": "code",
   "execution_count": 11,
   "metadata": {},
   "outputs": [],
   "source": [
    "hmm = HMM_modified(n_folds=5, fold=0, seed=seed)    ### change if using different fold"
   ]
  },
  {
   "cell_type": "code",
   "execution_count": 12,
   "metadata": {},
   "outputs": [
    {
     "name": "stdout",
     "output_type": "stream",
     "text": [
      "mean probs: [2.08896713e-79 9.69643646e-72]\n",
      "mean log probs: [-211.23392499 -174.96850948]\n"
     ]
    }
   ],
   "source": [
    "# Apply forward algorithm to get log probabilities of test set datapoints and their perturbations\n",
    "\n",
    "N = x_test.shape[0]\n",
    "p = np.zeros(shape=(N,2))\n",
    "l = np.zeros(shape=(N,2))\n",
    "for i in range(N):    \n",
    "    x = x_test[i].to(th.float32)\n",
    "    x_ = EMNN.model(x)  ### baselines are 0 by default\n",
    "    x_p = perturb(x,mask[i],x_) \n",
    "    x = x.detach().numpy()\n",
    "    x_p = x_p.detach().numpy()\n",
    "    p[i,0] = forward(hmm, x)[1]\n",
    "    p[i,1] = forward(hmm, x_p)[1]\n",
    "    l[i,0] = np.log(p[i,0])\n",
    "    l[i,1] = np.log(p[i,1])\n",
    "    \n",
    "print(f\"mean probs: {np.mean(p, axis=0)}\")\n",
    "print(f\"mean log probs: {np.mean(l, axis=0)}\")"
   ]
  },
  {
   "cell_type": "code",
   "execution_count": 13,
   "metadata": {},
   "outputs": [
    {
     "data": {
      "text/plain": [
       "Text(0, 0.5, 'logPDF value')"
      ]
     },
     "execution_count": 13,
     "metadata": {},
     "output_type": "execute_result"
    },
    {
     "data": {
      "image/png": "[encoded data removed]",
      "text/plain": [
       "<Figure size 640x480 with 1 Axes>"
      ]
     },
     "metadata": {},
     "output_type": "display_data"
    }
   ],
   "source": [
    "# Visualize results\n",
    "\n",
    "plt.boxplot(l, labels=['original','perturbed'], boxprops=dict(color='green'),\n",
    "                      medianprops=dict(color='red'), patch_artist='white')\n",
    "# Add labels and title\n",
    "plt.xlabel('Datapoint category')\n",
    "plt.ylabel('logPDF value')"
   ]
  }
 ],
 "metadata": {
  "kernelspec": {
   "display_name": "tint",
   "language": "python",
   "name": "python3"
  },
  "language_info": {
   "codemirror_mode": {
    "name": "ipython",
    "version": 3
   },
   "file_extension": ".py",
   "mimetype": "text/x-python",
   "name": "python",
   "nbconvert_exporter": "python",
   "pygments_lexer": "ipython3",
   "version": "3.9.7"
  }
 },
 "nbformat": 4,
 "nbformat_minor": 2
}

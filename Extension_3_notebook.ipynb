{
 "cells": [
  {
   "cell_type": "code",
   "execution_count": 1,
   "metadata": {},
   "outputs": [],
   "source": [
    "import matplotlib.pyplot as plt\n",
    "import numpy as np\n",
    "import torch as th\n",
    "import torch.nn as nn\n",
    "from experiments.hmm.classifier import StateClassifierNet\n",
    "from forward import forward\n",
    "from pytorch_lightning import seed_everything\n",
    "from tint.attr.models import ExtremalMaskNN\n",
    "from tint.datasets.hmm_modified import HMM_modified\n",
    "from tint.models import MLP, RNN"
   ]
  },
  {
   "cell_type": "code",
   "execution_count": 2,
   "metadata": {},
   "outputs": [
    {
     "name": "stderr",
     "output_type": "stream",
     "text": [
      "Seed set to 42\n"
     ]
    },
    {
     "data": {
      "text/plain": [
       "42"
      ]
     },
     "execution_count": 2,
     "metadata": {},
     "output_type": "execute_result"
    }
   ],
   "source": [
    "seed = 42\n",
    "seed_everything(seed=seed, workers=True)"
   ]
  },
  {
   "cell_type": "code",
   "execution_count": 3,
   "metadata": {},
   "outputs": [
    {
     "name": "stderr",
     "output_type": "stream",
     "text": [
      "Seed set to 42\n"
     ]
    },
    {
     "name": "stderr",
     "output_type": "stream",
     "text": [
      "GPU available: False, used: False\n",
      "TPU available: False, using: 0 TPU cores\n",
      "IPU available: False, using: 0 IPUs\n",
      "HPU available: False, using: 0 HPUs\n",
      "GPU available: False, used: False\n",
      "TPU available: False, using: 0 TPU cores\n",
      "IPU available: False, using: 0 IPUs\n",
      "HPU available: False, using: 0 HPUs\n"
     ]
    },
    {
     "name": "stdout",
     "output_type": "stream",
     "text": [
      "classifier has loaded the saved weights on hmm_modified dataset with fold = 0, if applicable, lambda 1 = 1.0 and lambda 2 = 1.0.\n",
      "extremal_mask has loaded the saved weights on hmm_modified dataset with fold = 0, if applicable, lambda 1 = 1.0 and lambda 2 = 1.0.\n"
     ]
    }
   ],
   "source": [
    "# Train classifier and Extremal mask explainer, store model weights\n",
    "# %run experiments/hmm/main.py --explainers \"extremal_mask\" --deterministic --output-file \"hmm_modified_results_per_fold.csv\" --dataset_name \"hmm_modified\" --hidden_size 50\n",
    "%run experiments/hmm/main.py --fold 0 --explainers \"extremal_mask\" --deterministic --output-file \"hmm_modified_results_per_fold.csv\" --dataset_name \"hmm_modified\" --hidden_size 50 "
   ]
  },
  {
   "cell_type": "code",
   "execution_count": 4,
   "metadata": {},
   "outputs": [],
   "source": [
    "### Get data\n",
    "train_features = np.load(\"tint/data/hmm/train_features_modified.npz\", allow_pickle=True)\n",
    "test_features = np.load(\"tint/data/hmm/test_features_modified.npz\", allow_pickle=True)\n",
    "train_labels = np.load(\"tint/data/hmm/train_labels_modified.npz\", allow_pickle=True)"
   ]
  },
  {
   "cell_type": "code",
   "execution_count": 5,
   "metadata": {},
   "outputs": [
    {
     "name": "stdout",
     "output_type": "stream",
     "text": [
      "<class 'torch.Tensor'> torch.Size([800, 50, 3])\n"
     ]
    }
   ],
   "source": [
    "# Transform to tensors, check shape\n",
    "x_train = th.tensor(train_features)\n",
    "x_test = th.tensor(test_features)\n",
    "print(type(x_train), x_train.shape)"
   ]
  },
  {
   "cell_type": "code",
   "execution_count": 6,
   "metadata": {},
   "outputs": [
    {
     "data": {
      "text/plain": [
       "<All keys matched successfully>"
      ]
     },
     "execution_count": 6,
     "metadata": {},
     "output_type": "execute_result"
    }
   ],
   "source": [
    "### Get classifier\n",
    "# Create model\n",
    "classifier = StateClassifierNet(\n",
    "    feature_size=3,\n",
    "    n_state=2,\n",
    "    hidden_size=50,\n",
    "    regres=True,\n",
    "    loss=\"cross_entropy\",\n",
    "    lr=0.0001,\n",
    "    l2=1e-3,\n",
    ")\n",
    "\n",
    "# Load the state dictionary from the checkpoint file\n",
    "checkpoint_path = \"experiments/checkpoints/hmm_modified_classifier_42_0.ckpt\"  ### change path when using different hyperparameters\n",
    "state_dict = th.load(checkpoint_path)\n",
    "\n",
    "# Load the state dictionary into the model\n",
    "classifier.load_state_dict(state_dict)"
   ]
  },
  {
   "cell_type": "code",
   "execution_count": 7,
   "metadata": {},
   "outputs": [
    {
     "name": "stdout",
     "output_type": "stream",
     "text": [
      "net.mask: torch.Size([200, 50, 3])\n",
      "net.model.0.rnn.weight_ih_l0: torch.Size([9, 3])\n",
      "net.model.0.rnn.weight_hh_l0: torch.Size([9, 3])\n",
      "net.model.0.rnn.bias_ih_l0: torch.Size([9])\n",
      "net.model.0.rnn.bias_hh_l0: torch.Size([9])\n",
      "net.model.0.rnn.weight_ih_l0_reverse: torch.Size([9, 3])\n",
      "net.model.0.rnn.weight_hh_l0_reverse: torch.Size([9, 3])\n",
      "net.model.0.rnn.bias_ih_l0_reverse: torch.Size([9])\n",
      "net.model.0.rnn.bias_hh_l0_reverse: torch.Size([9])\n",
      "net.model.1.mlp.Linear_0.weight: torch.Size([3, 6])\n",
      "net.model.1.mlp.Linear_0.bias: torch.Size([3])\n"
     ]
    }
   ],
   "source": [
    "# Sanity check\n",
    "checkpoint_path = \"experiments/checkpoints/hmm_modified_extremal_mask_42_1.0_1.0_0.ckpt\"  ### change path when using different hyperparameters\n",
    "\n",
    "# Load the state dictionary\n",
    "state_dict = th.load(checkpoint_path)\n",
    "\n",
    "# Print keys and shapes in the state dictionary\n",
    "for key, value in state_dict.items():\n",
    "    print(f\"{key}: {value.shape if isinstance(value, th.Tensor) else type(value)}\")"
   ]
  },
  {
   "cell_type": "code",
   "execution_count": 8,
   "metadata": {},
   "outputs": [
    {
     "name": "stdout",
     "output_type": "stream",
     "text": [
      "Parameter: model.0.rnn.weight_ih_l0, Shape: torch.Size([9, 3])\n",
      "Parameter: model.0.rnn.weight_hh_l0, Shape: torch.Size([9, 3])\n",
      "Parameter: model.0.rnn.bias_ih_l0, Shape: torch.Size([9])\n",
      "Parameter: model.0.rnn.bias_hh_l0, Shape: torch.Size([9])\n",
      "Parameter: model.0.rnn.weight_ih_l0_reverse, Shape: torch.Size([9, 3])\n",
      "Parameter: model.0.rnn.weight_hh_l0_reverse, Shape: torch.Size([9, 3])\n",
      "Parameter: model.0.rnn.bias_ih_l0_reverse, Shape: torch.Size([9])\n",
      "Parameter: model.0.rnn.bias_hh_l0_reverse, Shape: torch.Size([9])\n",
      "Parameter: model.1.mlp.Linear_0.weight, Shape: torch.Size([3, 6])\n",
      "Parameter: model.1.mlp.Linear_0.bias, Shape: torch.Size([3])\n"
     ]
    }
   ],
   "source": [
    "from tint.attr.models import ExtremalMaskNN\n",
    "\n",
    "## using ExtremalMaskNN instead of Net\n",
    "EMNN = ExtremalMaskNN(\n",
    "    forward_func=classifier,\n",
    "    model=nn.Sequential(\n",
    "        RNN(\n",
    "            input_size=x_train.shape[-1],\n",
    "            rnn=\"gru\",\n",
    "            hidden_size=x_train.shape[-1],\n",
    "            bidirectional=True,\n",
    "        ),\n",
    "        MLP([2 * x_train.shape[-1], x_train.shape[-1]]),\n",
    "    ),\n",
    "    batch_size=32,\n",
    ")\n",
    "\n",
    "mask = nn.Parameter(th.Tensor([200, 50, 3]))\n",
    "\n",
    "# Load the state dictionary from the checkpoint file\n",
    "checkpoint_path = \"experiments/checkpoints/hmm_modified_extremal_mask_42_1.0_1.0_0.ckpt\"  ### change path when using different hyperparameters\n",
    "state_dict = th.load(checkpoint_path)\n",
    "\n",
    "filtered_state_dict_mask = {\n",
    "    key: value for key, value in state_dict.items() if key == \"net.mask\"\n",
    "}\n",
    "filtered_state_dict_model = {\n",
    "    key[4:]: value for key, value in state_dict.items() if key != \"net.mask\"\n",
    "}\n",
    "\n",
    "# Load the state dictionary into the model\n",
    "# print(EMNN.named_parameters)\n",
    "for name, param in EMNN.named_parameters():\n",
    "    print(f\"Parameter: {name}, Shape: {param.shape}\")\n",
    "\n",
    "EMNN.load_state_dict(filtered_state_dict_model)\n",
    "# mask.load_state_dict(filtered_state_dict_mask)\n",
    "mask = state_dict[\"net.mask\"]"
   ]
  },
  {
   "cell_type": "code",
   "execution_count": 9,
   "metadata": {},
   "outputs": [
    {
     "data": {
      "text/plain": [
       "(array([22386.,   177.,   188.,   238.,   297.,   356.,   505.,   692.,\n",
       "          995.,  4166.]),\n",
       " array([-0.00866774,  0.09322203,  0.1951118 ,  0.29700157,  0.39889133,\n",
       "         0.50078112,  0.60267085,  0.70456064,  0.80645043,  0.90834016,\n",
       "         1.01022995]),\n",
       " <BarContainer object of 10 artists>)"
      ]
     },
     "execution_count": 9,
     "metadata": {},
     "output_type": "execute_result"
    },
    {
     "data": {
      "image/png": "[encoded data removed]",
      "text/plain": [
       "<Figure size 640x480 with 1 Axes>"
      ]
     },
     "metadata": {},
     "output_type": "display_data"
    }
   ],
   "source": [
    "plt.hist(mask.view(-1))"
   ]
  },
  {
   "cell_type": "code",
   "execution_count": 10,
   "metadata": {},
   "outputs": [],
   "source": [
    "def perturb(x, m, x_):\n",
    "    return m * x + (1 - m) * x_"
   ]
  },
  {
   "cell_type": "code",
   "execution_count": 11,
   "metadata": {},
   "outputs": [],
   "source": [
    "hmm = HMM_modified(n_folds=5, fold=1, seed=seed)  ### set the right fold"
   ]
  },
  {
   "cell_type": "code",
   "execution_count": 12,
   "metadata": {},
   "outputs": [
    {
     "name": "stdout",
     "output_type": "stream",
     "text": [
      "probs: [2.08896713e-79 3.18023334e-72]\n",
      "mean log probs: [-211.23392499 -176.11133511]\n"
     ]
    }
   ],
   "source": [
    "# Apply forward algorithm to get log probabilities of test set datapoints and their perturbations\n",
    "\n",
    "N = x_test.shape[0]\n",
    "p = np.zeros(shape=(N, 2))\n",
    "l = np.zeros(shape=(N, 2))\n",
    "for i in range(N):\n",
    "    x = x_test[i].to(th.float32)\n",
    "    # print(type(x))\n",
    "    x_ = EMNN.model(x)  ### baselines are 0 by default\n",
    "    x_p = perturb(x, mask[i], x_)\n",
    "    x = x.detach().numpy()\n",
    "    x_p = x_p.detach().numpy()\n",
    "    p[i, 0] = forward(hmm, x)[1]\n",
    "    p[i, 1] = forward(hmm, x_p)[1]\n",
    "    l[i, 0] = np.log(p[i, 0])\n",
    "    l[i, 1] = np.log(p[i, 1])\n",
    "\n",
    "print(f\"probs: {np.mean(p, axis=0)}\")\n",
    "print(f\"mean log probs: {np.mean(l, axis=0)}\")"
   ]
  },
  {
   "cell_type": "code",
   "execution_count": 15,
   "metadata": {},
   "outputs": [
    {
     "data": {
      "text/plain": [
       "Text(0, 0.5, 'Log PDF value')"
      ]
     },
     "execution_count": 15,
     "metadata": {},
     "output_type": "execute_result"
    },
    {
     "data": {
      "image/png": "[encoded data removed]",
      "text/plain": [
       "<Figure size 640x480 with 1 Axes>"
      ]
     },
     "metadata": {},
     "output_type": "display_data"
    }
   ],
   "source": [
    "plt.boxplot(l, labels=[\"Original\", \"Perturbed\"], patch_artist=True)\n",
    "plt.ylabel(\"Log PDF value\")"
   ]
  }
 ],
 "metadata": {
  "kernelspec": {
   "display_name": "Python 3 (ipykernel)",
   "language": "python",
   "name": "python3"
  },
  "language_info": {
   "codemirror_mode": {
    "name": "ipython",
    "version": 3
   },
   "file_extension": ".py",
   "mimetype": "text/x-python",
   "name": "python",
   "nbconvert_exporter": "python",
   "pygments_lexer": "ipython3",
   "version": "3.11.6"
  }
 },
 "nbformat": 4,
 "nbformat_minor": 4
}

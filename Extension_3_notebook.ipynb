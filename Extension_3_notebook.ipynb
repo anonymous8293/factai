{
 "cells": [
  {
   "cell_type": "markdown",
   "metadata": {},
   "source": [
    "**Notebook for Extension 3**<br>\n",
    "This notebook includes the replication of extension 3 findings from the report.\n",
    "Concretely what it includes is:\n",
    "1) Training of the classifier, and ExtremalMask explainer on HMM Modified dataset (or just loading their weights if the models already exist)\n",
    "2) Perturbing all test set datapoints using the explainer (we do this on the classifier's test set data only because those are the datapoints for which we have mask values)\n",
    "3) Application of the forward algorithm to calculate log-probabilities of original and perturbed datapoints\n",
    "4) Plotting the log-probabilities\n",
    "5) Additional plots\n",
    "\n",
    "**Extension 3:** Using a synthetic dataset (HMM modified), we explore the plausibility of the perturbations created with Extremal Mask by testing their probability relative to the original distribution."
   ]
  },
  {
   "cell_type": "code",
   "execution_count": 27,
   "metadata": {},
   "outputs": [],
   "source": [
    "import numpy as np\n",
    "from experiments.hmm.classifier import StateClassifierNet\n",
    "import torch as th\n",
    "import torch.nn as nn\n",
    "from pytorch_lightning import seed_everything\n",
    "from tint.attr.models import ExtremalMaskNN\n",
    "from tint.models import MLP, RNN\n",
    "from tint.datasets.hmm_modified import HMM_modified\n",
    "from forward import forward\n",
    "import matplotlib.pyplot as plt"
   ]
  },
  {
   "cell_type": "code",
   "execution_count": 28,
   "metadata": {},
   "outputs": [
    {
     "name": "stderr",
     "output_type": "stream",
     "text": [
      "Global seed set to 42\n"
     ]
    },
    {
     "data": {
      "text/plain": [
       "42"
      ]
     },
     "execution_count": 28,
     "metadata": {},
     "output_type": "execute_result"
    }
   ],
   "source": [
    "# Make the results deterministic\n",
    "seed=42\n",
    "seed_everything(seed=seed, workers=True)"
   ]
  },
  {
   "cell_type": "code",
   "execution_count": 29,
   "metadata": {},
   "outputs": [
    {
     "name": "stderr",
     "output_type": "stream",
     "text": [
      "Global seed set to 42\n",
      "GPU available: False, used: False\n",
      "TPU available: False, using: 0 TPU cores\n",
      "IPU available: False, using: 0 IPUs\n",
      "HPU available: False, using: 0 HPUs\n"
     ]
    },
    {
     "name": "stdout",
     "output_type": "stream",
     "text": [
      "classifier has loaded the saved weights on hmm_modified dataset with fold = 0, if applicable, lambda 1 = 1.0 and lambda 2 = 1.0.\n"
     ]
    },
    {
     "name": "stderr",
     "output_type": "stream",
     "text": [
      "GPU available: False, used: False\n",
      "TPU available: False, using: 0 TPU cores\n",
      "IPU available: False, using: 0 IPUs\n",
      "HPU available: False, using: 0 HPUs\n"
     ]
    },
    {
     "name": "stdout",
     "output_type": "stream",
     "text": [
      "extremal_mask has loaded the saved weights on hmm_modified dataset with fold = 0, if applicable, lambda 1 = 1.0 and lambda 2 = 1.0.\n"
     ]
    }
   ],
   "source": [
    "# Train classifier and Extremal mask explainer, store model weights\n",
    "%run experiments/hmm/main.py --fold 0 --explainers \"extremal_mask\" --deterministic --output-file \"hmm_modified_results_per_fold.csv\" --dataset_name \"hmm_modified\" --hidden_size 50 "
   ]
  },
  {
   "cell_type": "code",
   "execution_count": 30,
   "metadata": {},
   "outputs": [],
   "source": [
    "### Get data\n",
    "train_features = np.load('tint/data/hmm/train_features_modified.npz', allow_pickle= True)  \n",
    "test_features = np.load('tint/data/hmm/test_features_modified.npz', allow_pickle= True)\n",
    "test_states = np.load('tint/data/hmm/test_states_modified.npz', allow_pickle= True)"
   ]
  },
  {
   "cell_type": "code",
   "execution_count": 31,
   "metadata": {},
   "outputs": [
    {
     "name": "stdout",
     "output_type": "stream",
     "text": [
      "<class 'torch.Tensor'> torch.Size([800, 50, 3])\n",
      "<class 'torch.Tensor'> torch.Size([200, 50])\n"
     ]
    }
   ],
   "source": [
    "# Transform to tensors, check shape\n",
    "x_train = th.tensor(train_features)\n",
    "x_test = th.tensor(test_features)\n",
    "x_test_states = th.tensor(test_states)\n",
    "print(type(x_train),x_train.shape)\n",
    "print(type(x_test_states),x_test_states.shape)"
   ]
  },
  {
   "cell_type": "code",
   "execution_count": 32,
   "metadata": {},
   "outputs": [
    {
     "name": "stdout",
     "output_type": "stream",
     "text": [
      "tensor([[1, 1, 1,  ..., 0, 0, 1],\n",
      "        [0, 0, 1,  ..., 1, 1, 1],\n",
      "        [1, 1, 1,  ..., 0, 0, 1],\n",
      "        ...,\n",
      "        [1, 1, 1,  ..., 1, 1, 1],\n",
      "        [1, 1, 1,  ..., 1, 1, 1],\n",
      "        [1, 1, 1,  ..., 0, 0, 1]])\n"
     ]
    }
   ],
   "source": [
    "print(x_test_states)"
   ]
  },
  {
   "cell_type": "code",
   "execution_count": 33,
   "metadata": {},
   "outputs": [
    {
     "data": {
      "text/plain": [
       "<All keys matched successfully>"
      ]
     },
     "execution_count": 33,
     "metadata": {},
     "output_type": "execute_result"
    }
   ],
   "source": [
    "### Get classifier         \n",
    "# Create model\n",
    "classifier = StateClassifierNet(\n",
    "        feature_size=3,\n",
    "        n_state=2,\n",
    "        hidden_size=50,\n",
    "        regres=True,\n",
    "        loss=\"cross_entropy\",\n",
    "        lr=0.0001,\n",
    "        l2=1e-3,\n",
    "    )\n",
    "\n",
    "# Load the state dictionary from the checkpoint file\n",
    "checkpoint_path = 'experiments/checkpoints/hmm_modified_classifier_42_0.ckpt'       ### change path when using different hyperparameters\n",
    "state_dict = th.load(checkpoint_path)\n",
    "\n",
    "# Load the state dictionary into the model\n",
    "classifier.load_state_dict(state_dict)"
   ]
  },
  {
   "cell_type": "code",
   "execution_count": 34,
   "metadata": {},
   "outputs": [
    {
     "name": "stdout",
     "output_type": "stream",
     "text": [
      "net.mask: torch.Size([200, 50, 3])\n",
      "net.model.0.rnn.weight_ih_l0: torch.Size([9, 3])\n",
      "net.model.0.rnn.weight_hh_l0: torch.Size([9, 3])\n",
      "net.model.0.rnn.bias_ih_l0: torch.Size([9])\n",
      "net.model.0.rnn.bias_hh_l0: torch.Size([9])\n",
      "net.model.0.rnn.weight_ih_l0_reverse: torch.Size([9, 3])\n",
      "net.model.0.rnn.weight_hh_l0_reverse: torch.Size([9, 3])\n",
      "net.model.0.rnn.bias_ih_l0_reverse: torch.Size([9])\n",
      "net.model.0.rnn.bias_hh_l0_reverse: torch.Size([9])\n",
      "net.model.1.mlp.Linear_0.weight: torch.Size([3, 6])\n",
      "net.model.1.mlp.Linear_0.bias: torch.Size([3])\n"
     ]
    }
   ],
   "source": [
    "# Sanity check for explainer model weights\n",
    "checkpoint_path = 'experiments/checkpoints/hmm_modified_extremal_mask_42_1.0_1.0_0.ckpt'           ### change path when using different hyperparameters\n",
    "\n",
    "# Load the state dictionary\n",
    "state_dict = th.load(checkpoint_path)\n",
    "\n",
    "# Print keys and shapes in the state dictionary\n",
    "for key, value in state_dict.items():\n",
    "    print(f\"{key}: {value.shape if isinstance(value, th.Tensor) else type(value)}\")"
   ]
  },
  {
   "cell_type": "code",
   "execution_count": 35,
   "metadata": {},
   "outputs": [
    {
     "name": "stdout",
     "output_type": "stream",
     "text": [
      "Parameter: model.0.rnn.weight_ih_l0, Shape: torch.Size([9, 3])\n",
      "Parameter: model.0.rnn.weight_hh_l0, Shape: torch.Size([9, 3])\n",
      "Parameter: model.0.rnn.bias_ih_l0, Shape: torch.Size([9])\n",
      "Parameter: model.0.rnn.bias_hh_l0, Shape: torch.Size([9])\n",
      "Parameter: model.0.rnn.weight_ih_l0_reverse, Shape: torch.Size([9, 3])\n",
      "Parameter: model.0.rnn.weight_hh_l0_reverse, Shape: torch.Size([9, 3])\n",
      "Parameter: model.0.rnn.bias_ih_l0_reverse, Shape: torch.Size([9])\n",
      "Parameter: model.0.rnn.bias_hh_l0_reverse, Shape: torch.Size([9])\n",
      "Parameter: model.1.mlp.Linear_0.weight, Shape: torch.Size([3, 6])\n",
      "Parameter: model.1.mlp.Linear_0.bias, Shape: torch.Size([3])\n"
     ]
    }
   ],
   "source": [
    "EMNN = ExtremalMaskNN(forward_func=classifier,\n",
    "        model=nn.Sequential(\n",
    "                RNN(\n",
    "                    input_size=x_train.shape[-1],        \n",
    "                    rnn=\"gru\",\n",
    "                    hidden_size=x_train.shape[-1],\n",
    "                    bidirectional=True,\n",
    "                ),\n",
    "                MLP([2 * x_train.shape[-1], x_train.shape[-1]]),\n",
    "            ),\n",
    "        batch_size= 32)\n",
    "\n",
    "mask = nn.Parameter(th.Tensor([200,50,3]))\n",
    "\n",
    "# Load the state dictionary from the checkpoint file\n",
    "checkpoint_path = 'experiments/checkpoints/hmm_modified_extremal_mask_42_1.0_1.0_0.ckpt'       ### change path when using different hyperparameters\n",
    "state_dict = th.load(checkpoint_path)\n",
    "\n",
    "filtered_state_dict_mask =  {key: value for key, value in state_dict.items() if key == 'net.mask'}\n",
    "filtered_state_dict_model = {key[4:]: value for key, value in state_dict.items() if key !='net.mask'} \n",
    "\n",
    "# Load the state dictionary into the model\n",
    "#print(EMNN.named_parameters)\n",
    "for name, param in EMNN.named_parameters():\n",
    "    print(f\"Parameter: {name}, Shape: {param.shape}\")\n",
    "\n",
    "EMNN.load_state_dict(filtered_state_dict_model)\n",
    "#mask.load_state_dict(filtered_state_dict_mask)\n",
    "mask = state_dict['net.mask']"
   ]
  },
  {
   "cell_type": "code",
   "execution_count": 36,
   "metadata": {},
   "outputs": [
    {
     "data": {
      "text/plain": [
       "(array([21100.,   218.,   229.,   274.,   284.,   358.,   463.,   664.,\n",
       "         1035.,  5375.]),\n",
       " array([-0.00901446,  0.09286568,  0.19474581,  0.29662594,  0.39850608,\n",
       "         0.50038618,  0.60226631,  0.70414644,  0.80602658,  0.90790671,\n",
       "         1.00978684]),\n",
       " <BarContainer object of 10 artists>)"
      ]
     },
     "execution_count": 36,
     "metadata": {},
     "output_type": "execute_result"
    },
    {
     "data": {
      "image/png": "[encoded data removed]",
      "text/plain": [
       "<Figure size 640x480 with 1 Axes>"
      ]
     },
     "metadata": {},
     "output_type": "display_data"
    }
   ],
   "source": [
    "# sanity check - mask values histogram, should be bimodal with modes at 0 and 1, and most values at 0\n",
    "plt.hist(mask.view(-1))"
   ]
  },
  {
   "cell_type": "code",
   "execution_count": 37,
   "metadata": {},
   "outputs": [],
   "source": [
    "\n",
    "def perturb(x,m,x_):\n",
    "    return m*x + (1-m)*x_ "
   ]
  },
  {
   "cell_type": "code",
   "execution_count": 38,
   "metadata": {},
   "outputs": [],
   "source": [
    "hmm = HMM_modified(n_folds=5, fold=0, seed=seed)    ### change if using different fold"
   ]
  },
  {
   "cell_type": "code",
   "execution_count": 39,
   "metadata": {},
   "outputs": [
    {
     "name": "stdout",
     "output_type": "stream",
     "text": [
      "mean probs: [2.08896713e-79 9.69643646e-72]\n",
      "mean log probs: [-211.23392499 -174.96850948]\n"
     ]
    }
   ],
   "source": [
    "# Apply forward algorithm to get log probabilities of test set datapoints and their perturbations\n",
    "\n",
    "N = x_test.shape[0]\n",
    "p = np.zeros(shape=(N,2))\n",
    "l = np.zeros(shape=(N,2))\n",
    "for i in range(N):    \n",
    "    x = x_test[i].to(th.float32)\n",
    "    x_ = EMNN.model(x)  ### baselines are 0 by default\n",
    "    x_p = perturb(x,mask[i],x_) \n",
    "    x = x.detach().numpy()\n",
    "    x_p = x_p.detach().numpy()\n",
    "    p[i,0] = forward(hmm, x)[1]\n",
    "    p[i,1] = forward(hmm, x_p)[1]\n",
    "    l[i,0] = np.log(p[i,0])\n",
    "    l[i,1] = np.log(p[i,1])\n",
    "    \n",
    "print(f\"mean probs: {np.mean(p, axis=0)}\")\n",
    "print(f\"mean log probs: {np.mean(l, axis=0)}\")"
   ]
  },
  {
   "cell_type": "code",
   "execution_count": 40,
   "metadata": {},
   "outputs": [
    {
     "data": {
      "text/plain": [
       "Text(0, 0.5, 'logPDF value')"
      ]
     },
     "execution_count": 40,
     "metadata": {},
     "output_type": "execute_result"
    },
    {
     "data": {
      "image/png": "[encoded data removed]",
      "text/plain": [
       "<Figure size 640x480 with 1 Axes>"
      ]
     },
     "metadata": {},
     "output_type": "display_data"
    }
   ],
   "source": [
    "# Visualize results\n",
    "\n",
    "plt.boxplot(l, labels=['original','perturbed'], boxprops=dict(color='green'),\n",
    "                      medianprops=dict(color='red'), patch_artist='white')\n",
    "# Add labels and title\n",
    "plt.xlabel('Datapoint category')\n",
    "plt.ylabel('logPDF value')"
   ]
  },
  {
   "cell_type": "code",
   "execution_count": 41,
   "metadata": {},
   "outputs": [
    {
     "name": "stdout",
     "output_type": "stream",
     "text": [
      "(200, 50, 2)\n",
      "(10000, 2)\n"
     ]
    }
   ],
   "source": [
    "# Distance to the mean\n",
    "N = x_test.shape[0]\n",
    "l = np.zeros(shape=(N,50,2))\n",
    "for i in range(N):    \n",
    "    x = x_test[i].to(th.float32)\n",
    "    x_ = EMNN.model(x)  ### baselines are 0 by default\n",
    "    x_p = perturb(x,mask[i],x_) \n",
    "    x = x.detach().numpy()\n",
    "    x_p = x_p.detach().numpy()\n",
    "    l[i,:,0]=x[:,0]\n",
    "    l[i,:,1]=x_p[:,0]\n",
    "\n",
    "# flatten first 2 dimensions\n",
    "print(l.shape)\n",
    "l = l.reshape(-1, l.shape[-1])\n",
    "print(l.shape)"
   ]
  },
  {
   "cell_type": "code",
   "execution_count": 42,
   "metadata": {},
   "outputs": [
    {
     "data": {
      "text/plain": [
       "Text(0, 0.5, 'Feature 1 value')"
      ]
     },
     "execution_count": 42,
     "metadata": {},
     "output_type": "execute_result"
    },
    {
     "data": {
      "image/png": "[encoded data removed]",
      "text/plain": [
       "<Figure size 640x480 with 1 Axes>"
      ]
     },
     "metadata": {},
     "output_type": "display_data"
    }
   ],
   "source": [
    "# Visualize results\n",
    "\n",
    "plt.boxplot(l, labels=['original','perturbed'], boxprops=dict(color='green'),\n",
    "                      medianprops=dict(color='red'), patch_artist='white')\n",
    "# Add labels and title\n",
    "plt.xlabel('Datapoint category')\n",
    "plt.ylabel('Feature 1 value')"
   ]
  },
  {
   "cell_type": "code",
   "execution_count": 47,
   "metadata": {},
   "outputs": [],
   "source": [
    "def centered_non_salient_features(x_test, x_test_states):\n",
    "    x_test_non_salient = np.zeros((200,50,2))\n",
    "    ### take only the 2 non-salient features at each timestep of each sample\n",
    "    for i in range(200):\n",
    "        for j in range(50):\n",
    "            x_test_non_salient[i,j,0] = x_test[i,j,0]   ### feature 0 is always non-salient\n",
    "            x_test_non_salient[i,j,1] = x_test[i,j,2 if x_test_states[i,j]==0 else 1]    ### if state is 0 non-salient feature is 2 if state is 1 non-sal feature is 1\n",
    "\n",
    "    ### subtract the corresponding mean\n",
    "    for i in range(200):\n",
    "        for j in range(50):\n",
    "            x_test_non_salient[i,j,0] -= 0.1 if x_test_states[i,j]==0 else -0.1\n",
    "            x_test_non_salient[i,j,1] -= 0.5 if x_test_states[i,j]==0 else -0.4 ### if state is 0 non-salient feature is 2 if state is 1 non-sal feature is 1\n",
    "\n",
    "    return x_test_non_salient\n"
   ]
  },
  {
   "cell_type": "code",
   "execution_count": 48,
   "metadata": {},
   "outputs": [],
   "source": [
    "N = x_test.shape[0]\n",
    "\n",
    "x_test_numpy = np.zeros((200,50,3))\n",
    "x_test_perturbed = np.zeros((200,50,3))\n",
    "\n",
    "for i in range(N):    \n",
    "    x = x_test[i].to(th.float32)\n",
    "    x_ = EMNN.model(x)  ### baselines are 0 by default\n",
    "    x_p = perturb(x,mask[i],x_) \n",
    "    x = x.detach().numpy()\n",
    "    x_p = x_p.detach().numpy()\n",
    "    x_test_numpy[i,:,:] = x\n",
    "    x_test_perturbed[i,:,:] = x_p\n",
    "\n",
    "x_test_numpy_cnsf = centered_non_salient_features(x_test_numpy, x_test_states)\n",
    "x_test_perturbed_cnsf = centered_non_salient_features(x_test_perturbed, x_test_states)"
   ]
  },
  {
   "cell_type": "code",
   "execution_count": 49,
   "metadata": {},
   "outputs": [
    {
     "name": "stdout",
     "output_type": "stream",
     "text": [
      "(200, 50, 2) (200, 50, 2)\n"
     ]
    }
   ],
   "source": [
    "print(x_test_numpy_cnsf.shape, x_test_perturbed_cnsf.shape)"
   ]
  },
  {
   "cell_type": "code",
   "execution_count": 59,
   "metadata": {},
   "outputs": [
    {
     "data": {
      "text/plain": [
       "Text(0, 0.5, 'Centered feature values')"
      ]
     },
     "execution_count": 59,
     "metadata": {},
     "output_type": "execute_result"
    },
    {
     "data": {
      "image/png": "[encoded data removed]",
      "text/plain": [
       "<Figure size 640x480 with 1 Axes>"
      ]
     },
     "metadata": {},
     "output_type": "display_data"
    }
   ],
   "source": [
    "x_test_numpy_cnsf = x_test_numpy_cnsf.reshape(-1, x_test_numpy_cnsf.shape[-1])\n",
    "x_test_perturbed_cnsf = x_test_perturbed_cnsf.reshape(-1, x_test_perturbed_cnsf.shape[-1])\n",
    "# Visualize results\n",
    "l = np.zeros((10000,4))\n",
    "l[:,0:2] = x_test_numpy_cnsf\n",
    "l[:,2:4] = x_test_perturbed_cnsf\n",
    "plt.boxplot(l, labels=['Original NSF 1','Original NSF 2','Perturbed NSF 1','Perturbed NSF 2'], boxprops=dict(color='black'),\n",
    "                      medianprops=dict(color='orange'), patch_artist='white')\n",
    "# Add labels and title\n",
    "#plt.xlabel('Datapoint category')\n",
    "plt.ylabel('Centered feature values')"
   ]
  }
 ],
 "metadata": {
  "kernelspec": {
   "display_name": "tint",
   "language": "python",
   "name": "python3"
  },
  "language_info": {
   "codemirror_mode": {
    "name": "ipython",
    "version": 3
   },
   "file_extension": ".py",
   "mimetype": "text/x-python",
   "name": "python",
   "nbconvert_exporter": "python",
   "pygments_lexer": "ipython3",
   "version": "3.9.7"
  }
 },
 "nbformat": 4,
 "nbformat_minor": 2
}
